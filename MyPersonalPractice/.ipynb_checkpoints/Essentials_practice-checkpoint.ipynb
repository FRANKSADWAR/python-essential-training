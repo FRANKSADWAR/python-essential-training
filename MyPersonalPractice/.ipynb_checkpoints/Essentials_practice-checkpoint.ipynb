{
 "cells": [
  {
   "cell_type": "markdown",
   "id": "c2a4cd08",
   "metadata": {},
   "source": [
    "### Type categories"
   ]
  },
  {
   "cell_type": "markdown",
   "id": "c3a2006c",
   "metadata": {},
   "source": [
    "> There are three major type categories in Python: \n",
    "    1. Numbers (integer, floats, decimal, fraction etc.)\n",
    "    2. Sequences: Strings, Lists, tuples\n",
    "    3. Mappings: Dictionaries\n",
    "    4. Others are sets, frozensets"
   ]
  },
  {
   "cell_type": "markdown",
   "id": "3ff63620",
   "metadata": {},
   "source": [
    "The major core types in Python can be broken down as follows: \n",
    "   > Immutable types (numbers, strings, tuples, frosensets)\n",
    "   > Mutable types: Lists, Dictionaries, Sets"
   ]
  },
  {
   "cell_type": "code",
   "execution_count": null,
   "id": "650b3d44",
   "metadata": {},
   "outputs": [],
   "source": []
  },
  {
   "cell_type": "code",
   "execution_count": 1,
   "id": "3600cda8",
   "metadata": {},
   "outputs": [],
   "source": [
    "res = dict(a=[90,90,78])"
   ]
  },
  {
   "cell_type": "code",
   "execution_count": 2,
   "id": "11840913",
   "metadata": {},
   "outputs": [
    {
     "data": {
      "text/plain": [
       "{'a': [90, 90, 78]}"
      ]
     },
     "execution_count": 2,
     "metadata": {},
     "output_type": "execute_result"
    }
   ],
   "source": [
    "res"
   ]
  },
  {
   "cell_type": "code",
   "execution_count": 3,
   "id": "b3eee34d",
   "metadata": {},
   "outputs": [],
   "source": [
    "res['b'] = ['spam','tree',89,53]"
   ]
  },
  {
   "cell_type": "code",
   "execution_count": 4,
   "id": "17bdca68",
   "metadata": {},
   "outputs": [
    {
     "data": {
      "text/plain": [
       "{'a': [90, 90, 78], 'b': ['spam', 'tree', 89, 53]}"
      ]
     },
     "execution_count": 4,
     "metadata": {},
     "output_type": "execute_result"
    }
   ],
   "source": [
    "res"
   ]
  },
  {
   "cell_type": "code",
   "execution_count": 6,
   "id": "247b0347",
   "metadata": {},
   "outputs": [],
   "source": [
    "list_res = res['b']"
   ]
  },
  {
   "cell_type": "code",
   "execution_count": 7,
   "id": "72e19c7b",
   "metadata": {},
   "outputs": [
    {
     "data": {
      "text/plain": [
       "['spam', 'tree', 89, 53]"
      ]
     },
     "execution_count": 7,
     "metadata": {},
     "output_type": "execute_result"
    }
   ],
   "source": [
    "list_res"
   ]
  },
  {
   "cell_type": "code",
   "execution_count": 13,
   "id": "4d182399",
   "metadata": {},
   "outputs": [],
   "source": [
    "str_spam = list_res[0]"
   ]
  },
  {
   "cell_type": "code",
   "execution_count": 15,
   "id": "b8e89b83",
   "metadata": {},
   "outputs": [
    {
     "data": {
      "text/plain": [
       "'spam'"
      ]
     },
     "execution_count": 15,
     "metadata": {},
     "output_type": "execute_result"
    }
   ],
   "source": [
    "str_spam.strip()"
   ]
  },
  {
   "cell_type": "markdown",
   "id": "02a0360d",
   "metadata": {},
   "source": [
    "crete a list from a string"
   ]
  },
  {
   "cell_type": "code",
   "execution_count": 18,
   "id": "6eb49dd1",
   "metadata": {},
   "outputs": [],
   "source": [
    "list_str=list(str_spam)"
   ]
  },
  {
   "cell_type": "markdown",
   "id": "938b9bd4",
   "metadata": {},
   "source": [
    "Convert back to ctring"
   ]
  },
  {
   "cell_type": "code",
   "execution_count": 19,
   "id": "cf1a5640",
   "metadata": {},
   "outputs": [
    {
     "data": {
      "text/plain": [
       "'spam'"
      ]
     },
     "execution_count": 19,
     "metadata": {},
     "output_type": "execute_result"
    }
   ],
   "source": [
    "''.join(list_str)"
   ]
  },
  {
   "cell_type": "markdown",
   "id": "bce4d8f2",
   "metadata": {},
   "source": [
    "##### Slicing Techniques can also be applied"
   ]
  },
  {
   "cell_type": "code",
   "execution_count": 23,
   "id": "839e1e3e",
   "metadata": {},
   "outputs": [],
   "source": [
    "line = 'ACC-INV-2023-001 ADWAR BILLY'"
   ]
  },
  {
   "cell_type": "code",
   "execution_count": 24,
   "id": "a926cd0d",
   "metadata": {},
   "outputs": [
    {
     "data": {
      "text/plain": [
       "['ACC-INV-2023-001', 'ADWAR', 'BILLY']"
      ]
     },
     "execution_count": 24,
     "metadata": {},
     "output_type": "execute_result"
    }
   ],
   "source": [
    "line.split(' ')"
   ]
  },
  {
   "cell_type": "code",
   "execution_count": 27,
   "id": "29214bd5",
   "metadata": {},
   "outputs": [],
   "source": [
    "invoice_number = line.split(' ')[0]\n",
    "name = line.split(' ')[1:]"
   ]
  },
  {
   "cell_type": "code",
   "execution_count": 32,
   "id": "70ae4c30",
   "metadata": {},
   "outputs": [
    {
     "data": {
      "text/plain": [
       "'ADWAR BILLY'"
      ]
     },
     "execution_count": 32,
     "metadata": {},
     "output_type": "execute_result"
    }
   ],
   "source": [
    "customer_name = ' '.join(name)\n",
    "customer_name"
   ]
  },
  {
   "cell_type": "code",
   "execution_count": 34,
   "id": "617becbe",
   "metadata": {},
   "outputs": [
    {
     "data": {
      "text/plain": [
       "['Bob', ' hacked the news']"
      ]
     },
     "execution_count": 34,
     "metadata": {},
     "output_type": "execute_result"
    }
   ],
   "source": [
    "new_line = 'Bob, hacked the news'\n",
    "new_line.split(',')"
   ]
  },
  {
   "cell_type": "code",
   "execution_count": 37,
   "id": "8127225a",
   "metadata": {},
   "outputs": [
    {
     "data": {
      "text/plain": [
       "'THE KNIGHTS WHO SAY NI!\\n'"
      ]
     },
     "execution_count": 37,
     "metadata": {},
     "output_type": "execute_result"
    }
   ],
   "source": [
    "the_line = \"The knights who say Ni!\\n\"\n",
    "the_line.upper()"
   ]
  },
  {
   "cell_type": "code",
   "execution_count": 38,
   "id": "3379caa6",
   "metadata": {},
   "outputs": [
    {
     "data": {
      "text/plain": [
       "'The knights who say Ni!'"
      ]
     },
     "execution_count": 38,
     "metadata": {},
     "output_type": "execute_result"
    }
   ],
   "source": [
    "the_line.rstrip()"
   ]
  },
  {
   "cell_type": "code",
   "execution_count": 40,
   "id": "a135ec82",
   "metadata": {},
   "outputs": [
    {
     "data": {
      "text/plain": [
       "True"
      ]
     },
     "execution_count": 40,
     "metadata": {},
     "output_type": "execute_result"
    }
   ],
   "source": [
    "the_line.find('Ni') != -1"
   ]
  },
  {
   "cell_type": "code",
   "execution_count": 44,
   "id": "6198aa7d",
   "metadata": {},
   "outputs": [
    {
     "data": {
      "text/plain": [
       "True"
      ]
     },
     "execution_count": 44,
     "metadata": {},
     "output_type": "execute_result"
    }
   ],
   "source": [
    "'Ni' in the_line"
   ]
  },
  {
   "cell_type": "code",
   "execution_count": 45,
   "id": "7f7eb711",
   "metadata": {},
   "outputs": [
    {
     "data": {
      "text/plain": [
       "True"
      ]
     },
     "execution_count": 45,
     "metadata": {},
     "output_type": "execute_result"
    }
   ],
   "source": [
    "sub = 'Ni!\\n'\n",
    "the_line.endswith(sub)"
   ]
  },
  {
   "cell_type": "code",
   "execution_count": 48,
   "id": "634dc39a",
   "metadata": {},
   "outputs": [
    {
     "data": {
      "text/plain": [
       "True"
      ]
     },
     "execution_count": 48,
     "metadata": {},
     "output_type": "execute_result"
    }
   ],
   "source": [
    "the_line[-len(sub):] == sub\n"
   ]
  },
  {
   "cell_type": "code",
   "execution_count": 50,
   "id": "e0d1954a",
   "metadata": {},
   "outputs": [
    {
     "data": {
      "text/plain": [
       "'Ni!\\n'"
      ]
     },
     "execution_count": 50,
     "metadata": {},
     "output_type": "execute_result"
    }
   ],
   "source": [
    "the_line[-4:]"
   ]
  },
  {
   "cell_type": "markdown",
   "id": "ea7dc23a",
   "metadata": {},
   "source": [
    "##### String formatting expressions"
   ]
  },
  {
   "cell_type": "code",
   "execution_count": 52,
   "id": "70ade40e",
   "metadata": {},
   "outputs": [],
   "source": [
    "x = 90.989"
   ]
  },
  {
   "cell_type": "code",
   "execution_count": 53,
   "id": "38c353fa",
   "metadata": {},
   "outputs": [
    {
     "data": {
      "text/plain": [
       "'90.989000 | 90.989000 is the best Number'"
      ]
     },
     "execution_count": 53,
     "metadata": {},
     "output_type": "execute_result"
    }
   ],
   "source": [
    "\"%f | %f is the best %s\" % (x, x, 'Number')"
   ]
  },
  {
   "cell_type": "code",
   "execution_count": 55,
   "id": "4dc56a87",
   "metadata": {},
   "outputs": [
    {
     "data": {
      "text/plain": [
       "'90.99 means it has been rounded off'"
      ]
     },
     "execution_count": 55,
     "metadata": {},
     "output_type": "execute_result"
    }
   ],
   "source": [
    "\"%.2f means it has been rounded off\" % (x)"
   ]
  },
  {
   "cell_type": "markdown",
   "id": "69ffead0",
   "metadata": {},
   "source": [
    "> String formatting also allows conversion targets on the left to refer to the keys in a dictionary on the right and fetch \n",
    "the corresponding values."
   ]
  },
  {
   "cell_type": "code",
   "execution_count": 87,
   "id": "97e3fc61",
   "metadata": {},
   "outputs": [
    {
     "data": {
      "text/plain": [
       "'90.723000 reflects spam'"
      ]
     },
     "execution_count": 87,
     "metadata": {},
     "output_type": "execute_result"
    }
   ],
   "source": [
    "\"%(n)f reflects %(x)s\" % {\"n\": 90.723, \"x\":'spam'}"
   ]
  },
  {
   "cell_type": "code",
   "execution_count": 88,
   "id": "a6d9bef9",
   "metadata": {},
   "outputs": [
    {
     "data": {
      "text/plain": [
       "'90.72 reflects spam'"
      ]
     },
     "execution_count": 88,
     "metadata": {},
     "output_type": "execute_result"
    }
   ],
   "source": [
    "\"%(n).2f reflects %(x)s\" % {\"n\": 90.723, \"x\":'spam'}"
   ]
  },
  {
   "cell_type": "code",
   "execution_count": 58,
   "id": "70634106",
   "metadata": {},
   "outputs": [
    {
     "data": {
      "text/plain": [
       "{'name': 'Billy Adwar', 'party balance': 78900, 'company': 'Oduk Tech'}"
      ]
     },
     "execution_count": 58,
     "metadata": {},
     "output_type": "execute_result"
    }
   ],
   "source": [
    "dict_message = {'name' :'Billy Adwar','party balance':78900,'company':'Oduk Tech'}\n",
    "dict_message"
   ]
  },
  {
   "cell_type": "code",
   "execution_count": 60,
   "id": "e66230a6",
   "metadata": {},
   "outputs": [
    {
     "data": {
      "text/plain": [
       "'Customer Billy Adwar has a balance of 78900.000000 in Oduk Tech'"
      ]
     },
     "execution_count": 60,
     "metadata": {},
     "output_type": "execute_result"
    }
   ],
   "source": [
    "\"Customer %(name)s has a balance of %(party balance)f in %(company)s\" % dict_message"
   ]
  },
  {
   "cell_type": "markdown",
   "id": "e1acbc19",
   "metadata": {},
   "source": [
    "###### Adding keys, attributes, offsets"
   ]
  },
  {
   "cell_type": "code",
   "execution_count": 123,
   "id": "5df7c831",
   "metadata": {},
   "outputs": [
    {
     "data": {
      "text/plain": [
       "'My laptop runs linux'"
      ]
     },
     "execution_count": 123,
     "metadata": {},
     "output_type": "execute_result"
    }
   ],
   "source": [
    "import sys\n",
    "'My {1[spam]} runs {0.platform}'.format(sys,{'spam':'laptop'})"
   ]
  },
  {
   "cell_type": "code",
   "execution_count": 63,
   "id": "23d56d31",
   "metadata": {},
   "outputs": [
    {
     "data": {
      "text/plain": [
       "'linux'"
      ]
     },
     "execution_count": 63,
     "metadata": {},
     "output_type": "execute_result"
    }
   ],
   "source": [
    "sys.platform"
   ]
  },
  {
   "cell_type": "code",
   "execution_count": 68,
   "id": "c5fa74df",
   "metadata": {},
   "outputs": [
    {
     "data": {
      "text/plain": [
       "['s', 'p', 'a', 'm']"
      ]
     },
     "execution_count": 68,
     "metadata": {},
     "output_type": "execute_result"
    }
   ],
   "source": [
    "list_str"
   ]
  },
  {
   "cell_type": "code",
   "execution_count": 69,
   "id": "d32ceb05",
   "metadata": {},
   "outputs": [
    {
     "data": {
      "text/plain": [
       "'first=s, third = a'"
      ]
     },
     "execution_count": 69,
     "metadata": {},
     "output_type": "execute_result"
    }
   ],
   "source": [
    "'first={0[0]}, third = {0[2]}'.format(list_str)"
   ]
  },
  {
   "cell_type": "markdown",
   "id": "d3a47591",
   "metadata": {},
   "source": [
    "##### Adding specific formatting"
   ]
  },
  {
   "cell_type": "code",
   "execution_count": 70,
   "id": "80955d71",
   "metadata": {},
   "outputs": [
    {
     "data": {
      "text/plain": [
       "'spam       =   123.9723'"
      ]
     },
     "execution_count": 70,
     "metadata": {},
     "output_type": "execute_result"
    }
   ],
   "source": [
    "'{0:10} = {1:10}'.format('spam',123.9723)"
   ]
  },
  {
   "cell_type": "code",
   "execution_count": 77,
   "id": "786cd05c",
   "metadata": {},
   "outputs": [
    {
     "data": {
      "text/plain": [
       "'Amount paid is Ksh 90000'"
      ]
     },
     "execution_count": 77,
     "metadata": {},
     "output_type": "execute_result"
    }
   ],
   "source": [
    "'Amount paid is {0:2} {1:2}'.format('Ksh',90000)"
   ]
  },
  {
   "cell_type": "code",
   "execution_count": 84,
   "id": "cb117a40",
   "metadata": {},
   "outputs": [
    {
     "data": {
      "text/plain": [
       "'Amount paid is Ksh        =      90000'"
      ]
     },
     "execution_count": 84,
     "metadata": {},
     "output_type": "execute_result"
    }
   ],
   "source": [
    "'Amount paid is {0:<10} = {1:10}'.format('Ksh',90000)"
   ]
  },
  {
   "cell_type": "code",
   "execution_count": 80,
   "id": "809c8c03",
   "metadata": {},
   "outputs": [
    {
     "data": {
      "text/plain": [
       "'     linux = laptop    '"
      ]
     },
     "execution_count": 80,
     "metadata": {},
     "output_type": "execute_result"
    }
   ],
   "source": [
    "'{0.platform: >10} = {1[item]:<10}'.format(sys,dict(item='laptop'))"
   ]
  },
  {
   "cell_type": "markdown",
   "id": "83245c86",
   "metadata": {},
   "source": [
    "#### Sets"
   ]
  },
  {
   "cell_type": "markdown",
   "id": "85d7a65e",
   "metadata": {},
   "source": [
    "Every element in a set has to be unique"
   ]
  },
  {
   "cell_type": "code",
   "execution_count": 89,
   "id": "1ae389a2",
   "metadata": {},
   "outputs": [
    {
     "data": {
      "text/plain": [
       "{78, 87, 90}"
      ]
     },
     "execution_count": 89,
     "metadata": {},
     "output_type": "execute_result"
    }
   ],
   "source": [
    "my_set = {78,90,87}\n",
    "my_set"
   ]
  },
  {
   "cell_type": "code",
   "execution_count": 90,
   "id": "53241138",
   "metadata": {},
   "outputs": [
    {
     "data": {
      "text/plain": [
       "True"
      ]
     },
     "execution_count": 90,
     "metadata": {},
     "output_type": "execute_result"
    }
   ],
   "source": [
    "isinstance(my_set, set)"
   ]
  },
  {
   "cell_type": "markdown",
   "id": "89321da8",
   "metadata": {},
   "source": [
    "Tuples"
   ]
  },
  {
   "cell_type": "code",
   "execution_count": 92,
   "id": "10d0d3e0",
   "metadata": {},
   "outputs": [],
   "source": [
    "x = (78, 67, 98)"
   ]
  },
  {
   "cell_type": "code",
   "execution_count": 94,
   "id": "562270af",
   "metadata": {},
   "outputs": [
    {
     "data": {
      "text/plain": [
       "3"
      ]
     },
     "execution_count": 94,
     "metadata": {},
     "output_type": "execute_result"
    }
   ],
   "source": [
    "len(x)"
   ]
  },
  {
   "cell_type": "code",
   "execution_count": 97,
   "id": "f2b8c38d",
   "metadata": {},
   "outputs": [
    {
     "data": {
      "text/plain": [
       "1"
      ]
     },
     "execution_count": 97,
     "metadata": {},
     "output_type": "execute_result"
    }
   ],
   "source": [
    "x.count(78)"
   ]
  },
  {
   "cell_type": "markdown",
   "id": "e8d211da",
   "metadata": {},
   "source": [
    "Tuples are immutable, they can be used to store objects that do not change much such as latitude and longitude values"
   ]
  },
  {
   "cell_type": "code",
   "execution_count": null,
   "id": "fe9ed220",
   "metadata": {},
   "outputs": [],
   "source": []
  },
  {
   "cell_type": "code",
   "execution_count": 100,
   "id": "98408228",
   "metadata": {},
   "outputs": [],
   "source": [
    "my_set.add(90)"
   ]
  },
  {
   "cell_type": "code",
   "execution_count": 101,
   "id": "b83c0e4d",
   "metadata": {},
   "outputs": [
    {
     "data": {
      "text/plain": [
       "{78, 87, 90}"
      ]
     },
     "execution_count": 101,
     "metadata": {},
     "output_type": "execute_result"
    }
   ],
   "source": [
    "my_set"
   ]
  },
  {
   "cell_type": "code",
   "execution_count": 108,
   "id": "ef43f2de",
   "metadata": {},
   "outputs": [],
   "source": [
    "xa = []\n",
    "for x in range(0,100):\n",
    "    if x % 2==0: xa.append(x)"
   ]
  },
  {
   "cell_type": "markdown",
   "id": "e3f4d3ae",
   "metadata": {},
   "source": [
    "##### Membership operators"
   ]
  },
  {
   "cell_type": "code",
   "execution_count": 109,
   "id": "d5a2bd6a",
   "metadata": {},
   "outputs": [
    {
     "data": {
      "text/plain": [
       "'The knights who say Ni!\\n'"
      ]
     },
     "execution_count": 109,
     "metadata": {},
     "output_type": "execute_result"
    }
   ],
   "source": [
    "the_line"
   ]
  },
  {
   "cell_type": "code",
   "execution_count": 111,
   "id": "a92da59e",
   "metadata": {},
   "outputs": [
    {
     "data": {
      "text/plain": [
       "True"
      ]
     },
     "execution_count": 111,
     "metadata": {},
     "output_type": "execute_result"
    }
   ],
   "source": [
    "'kni' in the_line"
   ]
  },
  {
   "cell_type": "code",
   "execution_count": 112,
   "id": "aefd618f",
   "metadata": {},
   "outputs": [
    {
     "data": {
      "text/plain": [
       "True"
      ]
     },
     "execution_count": 112,
     "metadata": {},
     "output_type": "execute_result"
    }
   ],
   "source": [
    "'cat' in 'catography list'"
   ]
  },
  {
   "cell_type": "code",
   "execution_count": 113,
   "id": "7c3f9754",
   "metadata": {},
   "outputs": [
    {
     "data": {
      "text/plain": [
       "True"
      ]
     },
     "execution_count": 113,
     "metadata": {},
     "output_type": "execute_result"
    }
   ],
   "source": [
    "67 not in [90,897]"
   ]
  },
  {
   "cell_type": "code",
   "execution_count": 114,
   "id": "50e015c5",
   "metadata": {},
   "outputs": [
    {
     "data": {
      "text/plain": [
       "False"
      ]
     },
     "execution_count": 114,
     "metadata": {},
     "output_type": "execute_result"
    }
   ],
   "source": [
    "67 not in (98,78,67)"
   ]
  },
  {
   "cell_type": "code",
   "execution_count": 115,
   "id": "23a56ac0",
   "metadata": {},
   "outputs": [],
   "source": [
    "k = \"a\\nb\\x1f\\000d\""
   ]
  },
  {
   "cell_type": "code",
   "execution_count": 116,
   "id": "e1e70b19",
   "metadata": {},
   "outputs": [
    {
     "data": {
      "text/plain": [
       "6"
      ]
     },
     "execution_count": 116,
     "metadata": {},
     "output_type": "execute_result"
    }
   ],
   "source": [
    "len(k)"
   ]
  },
  {
   "cell_type": "code",
   "execution_count": 118,
   "id": "70131a77",
   "metadata": {},
   "outputs": [
    {
     "data": {
      "text/plain": [
       "107"
      ]
     },
     "execution_count": 118,
     "metadata": {},
     "output_type": "execute_result"
    }
   ],
   "source": [
    "ord('k')"
   ]
  },
  {
   "cell_type": "markdown",
   "id": "cf400857",
   "metadata": {},
   "source": [
    "### Lists"
   ]
  },
  {
   "cell_type": "markdown",
   "id": "fca13b77",
   "metadata": {},
   "source": [
    "> Lists are mutable sequences in Python: they can be changed in place, and are ordered sequences"
   ]
  },
  {
   "cell_type": "code",
   "execution_count": 119,
   "id": "0a48ddea",
   "metadata": {},
   "outputs": [
    {
     "data": {
      "text/plain": [
       "False"
      ]
     },
     "execution_count": 119,
     "metadata": {},
     "output_type": "execute_result"
    }
   ],
   "source": [
    "3 in [[3,5],[67,45],90,7]"
   ]
  },
  {
   "cell_type": "code",
   "execution_count": 122,
   "id": "f6f2b0f1",
   "metadata": {},
   "outputs": [
    {
     "name": "stdout",
     "output_type": "stream",
     "text": [
      "[3, 5]\n",
      "[67, 45]\n"
     ]
    }
   ],
   "source": [
    "for x in [[3,5],[67,45],90,7]:\n",
    "    if isinstance(x,list):\n",
    "        print(x)"
   ]
  },
  {
   "cell_type": "markdown",
   "id": "6c801f2b",
   "metadata": {},
   "source": [
    "List compressions are a way to build new lists by applying an expression to each item in a sequence"
   ]
  },
  {
   "cell_type": "code",
   "execution_count": 125,
   "id": "1ee1d8a5",
   "metadata": {},
   "outputs": [
    {
     "data": {
      "text/plain": [
       "['SSSS', 'PPPP', 'AAAA', 'MMMM']"
      ]
     },
     "execution_count": 125,
     "metadata": {},
     "output_type": "execute_result"
    }
   ],
   "source": [
    "res = [c*4 for c in 'SPAM']\n",
    "res"
   ]
  },
  {
   "cell_type": "markdown",
   "id": "21ddc2e6",
   "metadata": {},
   "source": [
    "> The map function works the same but it applies a function to items in a sequence and collects all the results in a new list."
   ]
  },
  {
   "cell_type": "code",
   "execution_count": 127,
   "id": "09ef5fbf",
   "metadata": {},
   "outputs": [
    {
     "data": {
      "text/plain": [
       "[1, 2, 0, 1, 2, 3]"
      ]
     },
     "execution_count": 127,
     "metadata": {},
     "output_type": "execute_result"
    }
   ],
   "source": [
    "list(map(abs,[-1,-2,0,1,2,3]))"
   ]
  },
  {
   "cell_type": "code",
   "execution_count": 130,
   "id": "5c4c6b9e",
   "metadata": {},
   "outputs": [],
   "source": [
    "def get_sqr(x):\n",
    "    return x*x\n",
    "\n",
    "def get_pow(x,num):\n",
    "    return x **num"
   ]
  },
  {
   "cell_type": "code",
   "execution_count": 135,
   "id": "fc4397d8",
   "metadata": {},
   "outputs": [
    {
     "data": {
      "text/plain": [
       "[89, [6534, 'SPAM'], 'TREE']"
      ]
     },
     "execution_count": 135,
     "metadata": {},
     "output_type": "execute_result"
    }
   ],
   "source": [
    "L = [89,[6534,'SPAM'],'TREE']\n",
    "L"
   ]
  },
  {
   "cell_type": "code",
   "execution_count": 144,
   "id": "2d00d57c",
   "metadata": {},
   "outputs": [
    {
     "data": {
      "text/plain": [
       "[89, [6534, 'SPAM'], 'TREE']"
      ]
     },
     "execution_count": 144,
     "metadata": {},
     "output_type": "execute_result"
    }
   ],
   "source": [
    "L[0:3]"
   ]
  },
  {
   "cell_type": "markdown",
   "id": "ef8a79ed",
   "metadata": {},
   "source": [
    "> Both index and slice operations are in-place changes: they modify the list directly rather than\n",
    "generating a new list object for the result"
   ]
  },
  {
   "cell_type": "code",
   "execution_count": 147,
   "id": "978eed78",
   "metadata": {},
   "outputs": [],
   "source": [
    "L[0:1]= [89,90,78] ## lists can be changes in place by slicing i.e deletion and insertion at the same time"
   ]
  },
  {
   "cell_type": "code",
   "execution_count": 148,
   "id": "1f4ca5de",
   "metadata": {},
   "outputs": [
    {
     "data": {
      "text/plain": [
       "[89, 90, 78, 90, 78, [6534, 'SPAM'], 'TREE']"
      ]
     },
     "execution_count": 148,
     "metadata": {},
     "output_type": "execute_result"
    }
   ],
   "source": [
    "L "
   ]
  },
  {
   "cell_type": "code",
   "execution_count": 161,
   "id": "bd991be1",
   "metadata": {},
   "outputs": [
    {
     "data": {
      "text/plain": [
       "[[6534, 'SPAM']]"
      ]
     },
     "execution_count": 161,
     "metadata": {},
     "output_type": "execute_result"
    }
   ],
   "source": [
    "L[-2:-1]"
   ]
  },
  {
   "cell_type": "code",
   "execution_count": 167,
   "id": "0d315796",
   "metadata": {},
   "outputs": [],
   "source": [
    "K = [12,45,1,9,23,823]\n",
    "K.sort()"
   ]
  },
  {
   "cell_type": "code",
   "execution_count": 168,
   "id": "919bc635",
   "metadata": {},
   "outputs": [
    {
     "data": {
      "text/plain": [
       "[1, 9, 12, 23, 45, 823]"
      ]
     },
     "execution_count": 168,
     "metadata": {},
     "output_type": "execute_result"
    }
   ],
   "source": [
    "K"
   ]
  },
  {
   "cell_type": "code",
   "execution_count": 169,
   "id": "4cd52a64",
   "metadata": {},
   "outputs": [],
   "source": [
    "LS = ['abc','ABD','aBe']"
   ]
  },
  {
   "cell_type": "code",
   "execution_count": 171,
   "id": "c706605a",
   "metadata": {},
   "outputs": [
    {
     "data": {
      "text/plain": [
       "['abe', 'abd', 'abc']"
      ]
     },
     "execution_count": 171,
     "metadata": {},
     "output_type": "execute_result"
    }
   ],
   "source": [
    "sorted([x.lower() for x in LS],reverse=True)"
   ]
  },
  {
   "cell_type": "code",
   "execution_count": 172,
   "id": "6f5ae2a6",
   "metadata": {},
   "outputs": [],
   "source": [
    "LS.extend([90,78,'abf'])"
   ]
  },
  {
   "cell_type": "code",
   "execution_count": 173,
   "id": "6367f19b",
   "metadata": {},
   "outputs": [
    {
     "data": {
      "text/plain": [
       "['abc', 'ABD', 'aBe', 90, 78, 'abf']"
      ]
     },
     "execution_count": 173,
     "metadata": {},
     "output_type": "execute_result"
    }
   ],
   "source": [
    "LS"
   ]
  },
  {
   "cell_type": "code",
   "execution_count": 175,
   "id": "50b5fb02",
   "metadata": {},
   "outputs": [
    {
     "data": {
      "text/plain": [
       "'abf'"
      ]
     },
     "execution_count": 175,
     "metadata": {},
     "output_type": "execute_result"
    }
   ],
   "source": [
    "LS.pop(-1)"
   ]
  },
  {
   "cell_type": "code",
   "execution_count": 176,
   "id": "c75a79c9",
   "metadata": {},
   "outputs": [
    {
     "data": {
      "text/plain": [
       "['abc', 'ABD', 'aBe', 90, 78]"
      ]
     },
     "execution_count": 176,
     "metadata": {},
     "output_type": "execute_result"
    }
   ],
   "source": [
    "LS"
   ]
  },
  {
   "cell_type": "code",
   "execution_count": 177,
   "id": "9fb76ffb",
   "metadata": {},
   "outputs": [],
   "source": [
    "LS.reverse()"
   ]
  },
  {
   "cell_type": "code",
   "execution_count": 178,
   "id": "1cb378c0",
   "metadata": {},
   "outputs": [
    {
     "data": {
      "text/plain": [
       "[78, 90, 'aBe', 'ABD', 'abc']"
      ]
     },
     "execution_count": 178,
     "metadata": {},
     "output_type": "execute_result"
    }
   ],
   "source": [
    "LS"
   ]
  },
  {
   "cell_type": "code",
   "execution_count": 179,
   "id": "3cc8f6c4",
   "metadata": {},
   "outputs": [],
   "source": [
    "L.insert(1, 'good')"
   ]
  },
  {
   "cell_type": "code",
   "execution_count": 180,
   "id": "b823b163",
   "metadata": {},
   "outputs": [
    {
     "data": {
      "text/plain": [
       "[78, 'good', 78, 89, 90, 90, [6534, 'SPAM'], 'TREE']"
      ]
     },
     "execution_count": 180,
     "metadata": {},
     "output_type": "execute_result"
    }
   ],
   "source": [
    "L"
   ]
  },
  {
   "cell_type": "code",
   "execution_count": 181,
   "id": "a9fa0687",
   "metadata": {},
   "outputs": [
    {
     "data": {
      "text/plain": [
       "'TREE'"
      ]
     },
     "execution_count": 181,
     "metadata": {},
     "output_type": "execute_result"
    }
   ],
   "source": [
    "L.pop()"
   ]
  },
  {
   "cell_type": "code",
   "execution_count": 182,
   "id": "10e7e925",
   "metadata": {},
   "outputs": [
    {
     "data": {
      "text/plain": [
       "[78, 'good', 78, 89, 90, 90, [6534, 'SPAM']]"
      ]
     },
     "execution_count": 182,
     "metadata": {},
     "output_type": "execute_result"
    }
   ],
   "source": [
    "L"
   ]
  },
  {
   "cell_type": "code",
   "execution_count": 183,
   "id": "2b10f592",
   "metadata": {},
   "outputs": [
    {
     "data": {
      "text/plain": [
       "[6534, 'SPAM']"
      ]
     },
     "execution_count": 183,
     "metadata": {},
     "output_type": "execute_result"
    }
   ],
   "source": [
    "L.pop(-1)"
   ]
  },
  {
   "cell_type": "code",
   "execution_count": 184,
   "id": "0c9a9b0e",
   "metadata": {},
   "outputs": [
    {
     "data": {
      "text/plain": [
       "[78, 'good', 78, 89, 90, 90]"
      ]
     },
     "execution_count": 184,
     "metadata": {},
     "output_type": "execute_result"
    }
   ],
   "source": [
    "L"
   ]
  },
  {
   "cell_type": "markdown",
   "id": "7f25d6b6",
   "metadata": {},
   "source": [
    "Because they are mutable, we can alsu use the del statement"
   ]
  },
  {
   "cell_type": "code",
   "execution_count": 186,
   "id": "a35bb6da",
   "metadata": {},
   "outputs": [],
   "source": [
    "del L[0]"
   ]
  },
  {
   "cell_type": "code",
   "execution_count": 187,
   "id": "88b3fd27",
   "metadata": {},
   "outputs": [
    {
     "data": {
      "text/plain": [
       "['good', 78, 89, 90, 90]"
      ]
     },
     "execution_count": 187,
     "metadata": {},
     "output_type": "execute_result"
    }
   ],
   "source": [
    "L"
   ]
  },
  {
   "cell_type": "markdown",
   "id": "d1441c81",
   "metadata": {},
   "source": [
    "### Dictionaries"
   ]
  },
  {
   "cell_type": "markdown",
   "id": "2ff9ac29",
   "metadata": {},
   "source": [
    "Sometimes called associative arrays or hashes, they are unordered collections of arbitrary objects: they are mutable mappings\n",
    "but do not support the sequence operations supported by lists and objects"
   ]
  },
  {
   "cell_type": "code",
   "execution_count": 188,
   "id": "49f940d2",
   "metadata": {},
   "outputs": [
    {
     "data": {
      "text/plain": [
       "{'spam': [67, -0.6232], 'ham': (90, 90), 'eggs': 90}"
      ]
     },
     "execution_count": 188,
     "metadata": {},
     "output_type": "execute_result"
    }
   ],
   "source": [
    "D = {'spam':[67,-0.6232], 'ham':(90,90),'eggs':90}\n",
    "D"
   ]
  },
  {
   "cell_type": "code",
   "execution_count": 190,
   "id": "49b7a0ca",
   "metadata": {},
   "outputs": [
    {
     "data": {
      "text/plain": [
       "[('spam', [67, -0.6232]), ('ham', (90, 90)), ('eggs', 90)]"
      ]
     },
     "execution_count": 190,
     "metadata": {},
     "output_type": "execute_result"
    }
   ],
   "source": [
    "list(D.items())"
   ]
  },
  {
   "cell_type": "code",
   "execution_count": 192,
   "id": "a2bdfec3",
   "metadata": {},
   "outputs": [
    {
     "data": {
      "text/plain": [
       "['spam', 'ham', 'eggs']"
      ]
     },
     "execution_count": 192,
     "metadata": {},
     "output_type": "execute_result"
    }
   ],
   "source": [
    "list(D.keys())"
   ]
  },
  {
   "cell_type": "code",
   "execution_count": 194,
   "id": "65f3a749",
   "metadata": {},
   "outputs": [
    {
     "data": {
      "text/plain": [
       "[[67, -0.6232], (90, 90), 90]"
      ]
     },
     "execution_count": 194,
     "metadata": {},
     "output_type": "execute_result"
    }
   ],
   "source": [
    "list(D.values())"
   ]
  },
  {
   "cell_type": "code",
   "execution_count": 195,
   "id": "e65984de",
   "metadata": {},
   "outputs": [
    {
     "data": {
      "text/plain": [
       "[67, -0.6232]"
      ]
     },
     "execution_count": 195,
     "metadata": {},
     "output_type": "execute_result"
    }
   ],
   "source": [
    "D.get('spam')"
   ]
  },
  {
   "cell_type": "code",
   "execution_count": 196,
   "id": "45a2207d",
   "metadata": {},
   "outputs": [
    {
     "data": {
      "text/plain": [
       "{'res': 30, 'pixels': [89, [90, 76]]}"
      ]
     },
     "execution_count": 196,
     "metadata": {},
     "output_type": "execute_result"
    }
   ],
   "source": [
    "D2 = {'res':30,'pixels':[89,[90,76]]}\n",
    "D2"
   ]
  },
  {
   "cell_type": "code",
   "execution_count": 197,
   "id": "40ee6b95",
   "metadata": {},
   "outputs": [],
   "source": [
    "D.update(D2)"
   ]
  },
  {
   "cell_type": "code",
   "execution_count": 198,
   "id": "0cb33717",
   "metadata": {},
   "outputs": [
    {
     "data": {
      "text/plain": [
       "{'spam': [67, -0.6232],\n",
       " 'ham': (90, 90),\n",
       " 'eggs': 90,\n",
       " 'res': 30,\n",
       " 'pixels': [89, [90, 76]]}"
      ]
     },
     "execution_count": 198,
     "metadata": {},
     "output_type": "execute_result"
    }
   ],
   "source": [
    "D"
   ]
  },
  {
   "cell_type": "code",
   "execution_count": 199,
   "id": "b2f982f5",
   "metadata": {},
   "outputs": [
    {
     "data": {
      "text/plain": [
       "90"
      ]
     },
     "execution_count": 199,
     "metadata": {},
     "output_type": "execute_result"
    }
   ],
   "source": [
    "D.pop('eggs')"
   ]
  },
  {
   "cell_type": "code",
   "execution_count": 200,
   "id": "67eec267",
   "metadata": {},
   "outputs": [
    {
     "data": {
      "text/plain": [
       "{'spam': [67, -0.6232], 'ham': (90, 90), 'res': 30, 'pixels': [89, [90, 76]]}"
      ]
     },
     "execution_count": 200,
     "metadata": {},
     "output_type": "execute_result"
    }
   ],
   "source": [
    "D"
   ]
  },
  {
   "cell_type": "code",
   "execution_count": null,
   "id": "86b0bc1b",
   "metadata": {},
   "outputs": [],
   "source": []
  },
  {
   "cell_type": "code",
   "execution_count": 203,
   "id": "1a73de8d",
   "metadata": {},
   "outputs": [],
   "source": [
    "table = {'Python':'Guido Van Rossum','Perl':'Larry Wall','Tcl':'John Ousterhout','linux':'Linus Torvalds'}"
   ]
  },
  {
   "cell_type": "code",
   "execution_count": 204,
   "id": "3b8cbc3b",
   "metadata": {},
   "outputs": [
    {
     "data": {
      "text/plain": [
       "{'Python': 'Guido Van Rossum',\n",
       " 'Perl': 'Larry Wall',\n",
       " 'Tcl': 'John Ousterhout',\n",
       " 'linux': 'Linus Torvalds'}"
      ]
     },
     "execution_count": 204,
     "metadata": {},
     "output_type": "execute_result"
    }
   ],
   "source": [
    "table"
   ]
  },
  {
   "cell_type": "code",
   "execution_count": 206,
   "id": "aed0f8b9",
   "metadata": {},
   "outputs": [
    {
     "data": {
      "text/plain": [
       "'Guido Van Rossum'"
      ]
     },
     "execution_count": 206,
     "metadata": {},
     "output_type": "execute_result"
    }
   ],
   "source": [
    "creator = table['Python']\n",
    "creator"
   ]
  },
  {
   "cell_type": "code",
   "execution_count": 209,
   "id": "7dbb696a",
   "metadata": {},
   "outputs": [
    {
     "name": "stdout",
     "output_type": "stream",
     "text": [
      "Python \t Guido Van Rossum\n",
      "Perl \t Larry Wall\n",
      "Tcl \t John Ousterhout\n",
      "linux \t Linus Torvalds\n"
     ]
    }
   ],
   "source": [
    "for lang in table: ## same as looping table.keys()\n",
    "    print(lang,'\\t',table[lang])"
   ]
  },
  {
   "cell_type": "code",
   "execution_count": 210,
   "id": "34c80e3e",
   "metadata": {},
   "outputs": [
    {
     "data": {
      "text/plain": [
       "{'name': 'mel', 'age': 45, 'courses': ['Math', 'Physics']}"
      ]
     },
     "execution_count": 210,
     "metadata": {},
     "output_type": "execute_result"
    }
   ],
   "source": [
    "## dictionaries can alco be constructed using the dict keyword\n",
    "D3 = dict(name='mel',age=45,courses=['Math','Physics'])\n",
    "D3"
   ]
  },
  {
   "cell_type": "code",
   "execution_count": 211,
   "id": "76985ccb",
   "metadata": {},
   "outputs": [],
   "source": [
    "D3['address'] = '373-00100'"
   ]
  },
  {
   "cell_type": "code",
   "execution_count": 212,
   "id": "0c61de10",
   "metadata": {},
   "outputs": [
    {
     "data": {
      "text/plain": [
       "{'name': 'mel',\n",
       " 'age': 45,\n",
       " 'courses': ['Math', 'Physics'],\n",
       " 'address': '373-00100'}"
      ]
     },
     "execution_count": 212,
     "metadata": {},
     "output_type": "execute_result"
    }
   ],
   "source": [
    "D3"
   ]
  },
  {
   "cell_type": "code",
   "execution_count": 213,
   "id": "a7766eff",
   "metadata": {},
   "outputs": [
    {
     "data": {
      "text/plain": [
       "{'name': 'mel', 'age': 45}"
      ]
     },
     "execution_count": 213,
     "metadata": {},
     "output_type": "execute_result"
    }
   ],
   "source": [
    "dict([('name','mel'),('age',45)])"
   ]
  },
  {
   "cell_type": "markdown",
   "id": "1e6d111d",
   "metadata": {},
   "source": [
    "###### Zip function"
   ]
  },
  {
   "cell_type": "code",
   "execution_count": 216,
   "id": "61fb6793",
   "metadata": {},
   "outputs": [],
   "source": [
    "get_id1 = [834167,90103]; get_id2 = [90809,73437]\n"
   ]
  },
  {
   "cell_type": "code",
   "execution_count": 218,
   "id": "a6dd3dab",
   "metadata": {},
   "outputs": [],
   "source": [
    "j = list(zip(get_id1,get_id2))"
   ]
  },
  {
   "cell_type": "code",
   "execution_count": 220,
   "id": "13b45d60",
   "metadata": {},
   "outputs": [
    {
     "name": "stdout",
     "output_type": "stream",
     "text": [
      "(834167, 90809)\n",
      "(90103, 73437)\n"
     ]
    }
   ],
   "source": [
    "for k in j:\n",
    "    print(k)"
   ]
  },
  {
   "cell_type": "markdown",
   "id": "f6272b0e",
   "metadata": {},
   "source": [
    "The same concept can be used to create a dictionary: "
   ]
  },
  {
   "cell_type": "code",
   "execution_count": 222,
   "id": "b7c2762b",
   "metadata": {},
   "outputs": [
    {
     "data": {
      "text/plain": [
       "{'name': 'Billy Adwar',\n",
       " 'address': '272-20200',\n",
       " 'invoice': 'ACC-SINV-2023-0002',\n",
       " 'location': 'Nairobi'}"
      ]
     },
     "execution_count": 222,
     "metadata": {},
     "output_type": "execute_result"
    }
   ],
   "source": [
    "D4 = dict(zip(['name','address','invoice','location'],['Billy Adwar','272-20200','ACC-SINV-2023-0002','Nairobi']))\n",
    "D4"
   ]
  },
  {
   "cell_type": "markdown",
   "id": "5b30808f",
   "metadata": {},
   "source": [
    "### Dictionary Comprehensions"
   ]
  },
  {
   "cell_type": "markdown",
   "id": "5a489927",
   "metadata": {},
   "source": [
    "The zip function is a way to construct a dictionary from key and value lists in a single call. If you cannot\n",
    "predict the sets of keys and values in your code, you can always build them up as lists and zip them together:"
   ]
  },
  {
   "cell_type": "code",
   "execution_count": 223,
   "id": "ff986e44",
   "metadata": {},
   "outputs": [
    {
     "data": {
      "text/plain": [
       "[('tree', 23), ('spam', 78), ('ham', [90, 89])]"
      ]
     },
     "execution_count": 223,
     "metadata": {},
     "output_type": "execute_result"
    }
   ],
   "source": [
    "list(zip(['tree','spam','ham'],[23,78,[90,89]]))"
   ]
  },
  {
   "cell_type": "code",
   "execution_count": 224,
   "id": "57023b6f",
   "metadata": {},
   "outputs": [
    {
     "data": {
      "text/plain": [
       "{'tree': 23, 'spam': 78, 'ham': [90, 89]}"
      ]
     },
     "execution_count": 224,
     "metadata": {},
     "output_type": "execute_result"
    }
   ],
   "source": [
    "D5 = dict(zip(['tree','spam','ham'],[23,78,[90,89]]))\n",
    "D5"
   ]
  },
  {
   "cell_type": "markdown",
   "id": "a269a892",
   "metadata": {},
   "source": [
    "The same can be built in Python using compressions"
   ]
  },
  {
   "cell_type": "code",
   "execution_count": 227,
   "id": "a55099a6",
   "metadata": {},
   "outputs": [
    {
     "data": {
      "text/plain": [
       "{'a': 1, 'b': 2, 'c': 3}"
      ]
     },
     "execution_count": 227,
     "metadata": {},
     "output_type": "execute_result"
    }
   ],
   "source": [
    "D6 = {k: v for (k,v) in  zip(['a','b','c'],[1,2,3,4])}\n",
    "D6"
   ]
  },
  {
   "cell_type": "code",
   "execution_count": 228,
   "id": "5085577b",
   "metadata": {},
   "outputs": [
    {
     "data": {
      "text/plain": [
       "{'S': 'SSSS', 'P': 'PPPP', 'A': 'AAAA', 'M': 'MMMM'}"
      ]
     },
     "execution_count": 228,
     "metadata": {},
     "output_type": "execute_result"
    }
   ],
   "source": [
    "D7 = {c: c*4 for c in 'SPAM'}\n",
    "D7"
   ]
  },
  {
   "cell_type": "code",
   "execution_count": 229,
   "id": "aec5f55b",
   "metadata": {},
   "outputs": [
    {
     "data": {
      "text/plain": [
       "{'spam': [67, -0.6232], 'ham': (90, 90), 'res': 30, 'pixels': [89, [90, 76]]}"
      ]
     },
     "execution_count": 229,
     "metadata": {},
     "output_type": "execute_result"
    }
   ],
   "source": [
    "D"
   ]
  },
  {
   "cell_type": "code",
   "execution_count": 231,
   "id": "30b9f85b",
   "metadata": {},
   "outputs": [
    {
     "data": {
      "text/plain": [
       "{'name': 'mel',\n",
       " 'age': 45,\n",
       " 'courses': ['Math', 'Physics'],\n",
       " 'address': '373-00100'}"
      ]
     },
     "execution_count": 231,
     "metadata": {},
     "output_type": "execute_result"
    }
   ],
   "source": [
    "D3"
   ]
  },
  {
   "cell_type": "code",
   "execution_count": 238,
   "id": "69770a39",
   "metadata": {},
   "outputs": [
    {
     "name": "stdout",
     "output_type": "stream",
     "text": [
      "address       \t 373-00100\n",
      "age       \t 45\n",
      "courses       \t ['Math', 'Physics']\n",
      "name       \t mel\n"
     ]
    }
   ],
   "source": [
    "Ks = D3.keys()\n",
    "for k in sorted(Ks): print(k,'      \\t', D3[k])"
   ]
  },
  {
   "cell_type": "markdown",
   "id": "bd9ce728",
   "metadata": {},
   "source": [
    "##### Quizes"
   ]
  },
  {
   "cell_type": "markdown",
   "id": "1f8bf90e",
   "metadata": {},
   "source": [
    "Illustrate two ways to build a list with 5 integer zeros: "
   ]
  },
  {
   "cell_type": "code",
   "execution_count": 239,
   "id": "05cdc445",
   "metadata": {},
   "outputs": [
    {
     "data": {
      "text/plain": [
       "[0, 0, 0, 0, 0]"
      ]
     },
     "execution_count": 239,
     "metadata": {},
     "output_type": "execute_result"
    }
   ],
   "source": [
    "k = [0] * 5\n",
    "k"
   ]
  },
  {
   "cell_type": "code",
   "execution_count": 241,
   "id": "535b236b",
   "metadata": {},
   "outputs": [
    {
     "data": {
      "text/plain": [
       "[0, 0, 0, 0, 0]"
      ]
     },
     "execution_count": 241,
     "metadata": {},
     "output_type": "execute_result"
    }
   ],
   "source": [
    "ki = [0,0,0,0,0]\n",
    "ki"
   ]
  },
  {
   "cell_type": "code",
   "execution_count": 243,
   "id": "65931344",
   "metadata": {},
   "outputs": [
    {
     "data": {
      "text/plain": [
       "{'a': 0, 'b': 0}"
      ]
     },
     "execution_count": 243,
     "metadata": {},
     "output_type": "execute_result"
    }
   ],
   "source": [
    "valdict = dict(a=0,b=0)\n",
    "valdict"
   ]
  },
  {
   "cell_type": "code",
   "execution_count": 245,
   "id": "84f873d0",
   "metadata": {},
   "outputs": [
    {
     "data": {
      "text/plain": [
       "{'a': 0, 'b': 0}"
      ]
     },
     "execution_count": 245,
     "metadata": {},
     "output_type": "execute_result"
    }
   ],
   "source": [
    "valdict1 = {'a':0,'b':0}\n",
    "valdict1"
   ]
  },
  {
   "cell_type": "markdown",
   "id": "565182a6",
   "metadata": {},
   "source": [
    "Operators that change list object in place: \n",
    "    insert,\n",
    "    append,\n",
    "    remove,pop, extend,sort"
   ]
  },
  {
   "cell_type": "code",
   "execution_count": 246,
   "id": "e5fd002f",
   "metadata": {},
   "outputs": [
    {
     "data": {
      "text/plain": [
       "[7932, 1234]"
      ]
     },
     "execution_count": 246,
     "metadata": {},
     "output_type": "execute_result"
    }
   ],
   "source": [
    "kj = [90,7932,1234]\n",
    "kj[1:]"
   ]
  },
  {
   "cell_type": "code",
   "execution_count": 248,
   "id": "8755a384",
   "metadata": {},
   "outputs": [],
   "source": [
    "kj.insert(1,876)"
   ]
  },
  {
   "cell_type": "code",
   "execution_count": 249,
   "id": "d9bb0830",
   "metadata": {},
   "outputs": [
    {
     "data": {
      "text/plain": [
       "[90, 876, 7932, 1234]"
      ]
     },
     "execution_count": 249,
     "metadata": {},
     "output_type": "execute_result"
    }
   ],
   "source": [
    "kj"
   ]
  },
  {
   "cell_type": "markdown",
   "id": "96bb8c22",
   "metadata": {},
   "source": [
    "## Tuples And Files"
   ]
  },
  {
   "cell_type": "markdown",
   "id": "7ab50903",
   "metadata": {},
   "source": [
    "Tuples, just like lists are ordered collections, only that they cannot be changed in place like lists can be\n",
    "hence they are immutable. It supports sequence operations just like lists"
   ]
  },
  {
   "cell_type": "code",
   "execution_count": 253,
   "id": "dc7973df",
   "metadata": {},
   "outputs": [],
   "source": [
    "t = (12,'SPAM',[90,78,65])"
   ]
  },
  {
   "cell_type": "code",
   "execution_count": 254,
   "id": "c3857534",
   "metadata": {},
   "outputs": [
    {
     "data": {
      "text/plain": [
       "(12, 'SPAM', [90, 78, 65])"
      ]
     },
     "execution_count": 254,
     "metadata": {},
     "output_type": "execute_result"
    }
   ],
   "source": [
    "t"
   ]
  },
  {
   "cell_type": "code",
   "execution_count": 257,
   "id": "5a23baa1",
   "metadata": {},
   "outputs": [
    {
     "data": {
      "text/plain": [
       "('SPAM', [90, 78, 65])"
      ]
     },
     "execution_count": 257,
     "metadata": {},
     "output_type": "execute_result"
    }
   ],
   "source": [
    "t[1:]"
   ]
  },
  {
   "cell_type": "code",
   "execution_count": 258,
   "id": "6e54c106",
   "metadata": {},
   "outputs": [
    {
     "data": {
      "text/plain": [
       "True"
      ]
     },
     "execution_count": 258,
     "metadata": {},
     "output_type": "execute_result"
    }
   ],
   "source": [
    "'SPAM' in t"
   ]
  },
  {
   "cell_type": "code",
   "execution_count": 259,
   "id": "f263c396",
   "metadata": {},
   "outputs": [
    {
     "data": {
      "text/plain": [
       "(12, 'SPAM', [90, 78, 65], 12, 'SPAM', [90, 78, 65], 12, 'SPAM', [90, 78, 65])"
      ]
     },
     "execution_count": 259,
     "metadata": {},
     "output_type": "execute_result"
    }
   ],
   "source": [
    "t * 3"
   ]
  },
  {
   "cell_type": "code",
   "execution_count": 261,
   "id": "d0c0ce9d",
   "metadata": {},
   "outputs": [
    {
     "data": {
      "text/plain": [
       "(2, 3, 9)"
      ]
     },
     "execution_count": 261,
     "metadata": {},
     "output_type": "execute_result"
    }
   ],
   "source": [
    "(2,3) + (9,) ## add trailing comma to single object tuple"
   ]
  },
  {
   "cell_type": "code",
   "execution_count": 263,
   "id": "fd7096e2",
   "metadata": {},
   "outputs": [
    {
     "data": {
      "text/plain": [
       "['__add__',\n",
       " '__class__',\n",
       " '__class_getitem__',\n",
       " '__contains__',\n",
       " '__delattr__',\n",
       " '__dir__',\n",
       " '__doc__',\n",
       " '__eq__',\n",
       " '__format__',\n",
       " '__ge__',\n",
       " '__getattribute__',\n",
       " '__getitem__',\n",
       " '__getnewargs__',\n",
       " '__gt__',\n",
       " '__hash__',\n",
       " '__init__',\n",
       " '__init_subclass__',\n",
       " '__iter__',\n",
       " '__le__',\n",
       " '__len__',\n",
       " '__lt__',\n",
       " '__mul__',\n",
       " '__ne__',\n",
       " '__new__',\n",
       " '__reduce__',\n",
       " '__reduce_ex__',\n",
       " '__repr__',\n",
       " '__rmul__',\n",
       " '__setattr__',\n",
       " '__sizeof__',\n",
       " '__str__',\n",
       " '__subclasshook__',\n",
       " 'count',\n",
       " 'index']"
      ]
     },
     "execution_count": 263,
     "metadata": {},
     "output_type": "execute_result"
    }
   ],
   "source": [
    "t1 = ('cc','aa','dd','bb')\n",
    "dir(t1)"
   ]
  },
  {
   "cell_type": "code",
   "execution_count": 264,
   "id": "6c4b32f6",
   "metadata": {},
   "outputs": [],
   "source": [
    "tmp = list(t1)"
   ]
  },
  {
   "cell_type": "code",
   "execution_count": 265,
   "id": "3efc320e",
   "metadata": {},
   "outputs": [
    {
     "data": {
      "text/plain": [
       "['cc', 'aa', 'dd', 'bb']"
      ]
     },
     "execution_count": 265,
     "metadata": {},
     "output_type": "execute_result"
    }
   ],
   "source": [
    "tmp"
   ]
  },
  {
   "cell_type": "code",
   "execution_count": 266,
   "id": "121c32ae",
   "metadata": {},
   "outputs": [
    {
     "data": {
      "text/plain": [
       "['aa', 'bb', 'cc', 'dd']"
      ]
     },
     "execution_count": 266,
     "metadata": {},
     "output_type": "execute_result"
    }
   ],
   "source": [
    "sorted(tmp)"
   ]
  },
  {
   "cell_type": "code",
   "execution_count": 268,
   "id": "1493e1a2",
   "metadata": {},
   "outputs": [
    {
     "data": {
      "text/plain": [
       "('aa', 'bb', 'cc', 'dd')"
      ]
     },
     "execution_count": 268,
     "metadata": {},
     "output_type": "execute_result"
    }
   ],
   "source": [
    "tuple(sorted(t1))"
   ]
  },
  {
   "cell_type": "code",
   "execution_count": 269,
   "id": "c60f14d0",
   "metadata": {},
   "outputs": [],
   "source": [
    "T = (1,2,6,90,78)"
   ]
  },
  {
   "cell_type": "code",
   "execution_count": 270,
   "id": "19cb2734",
   "metadata": {},
   "outputs": [],
   "source": [
    "L1= [x + 20 for x in T]"
   ]
  },
  {
   "cell_type": "code",
   "execution_count": 272,
   "id": "24606488",
   "metadata": {},
   "outputs": [
    {
     "data": {
      "text/plain": [
       "[21, 22, 26, 110, 98]"
      ]
     },
     "execution_count": 272,
     "metadata": {},
     "output_type": "execute_result"
    }
   ],
   "source": [
    "L1"
   ]
  },
  {
   "cell_type": "markdown",
   "id": "ace95278",
   "metadata": {},
   "source": [
    "List compressions can be used to build new lists and iterate over any sequence objects including tuples, strings & lists."
   ]
  },
  {
   "cell_type": "code",
   "execution_count": 274,
   "id": "5fda685f",
   "metadata": {},
   "outputs": [
    {
     "data": {
      "text/plain": [
       "1"
      ]
     },
     "execution_count": 274,
     "metadata": {},
     "output_type": "execute_result"
    }
   ],
   "source": [
    "T.count(2)"
   ]
  },
  {
   "cell_type": "code",
   "execution_count": 275,
   "id": "86a323d4",
   "metadata": {},
   "outputs": [
    {
     "data": {
      "text/plain": [
       "1"
      ]
     },
     "execution_count": 275,
     "metadata": {},
     "output_type": "execute_result"
    }
   ],
   "source": [
    "T.index(2)"
   ]
  },
  {
   "cell_type": "code",
   "execution_count": 278,
   "id": "0c28af4f",
   "metadata": {},
   "outputs": [
    {
     "ename": "TypeError",
     "evalue": "'tuple' object does not support item assignment",
     "output_type": "error",
     "traceback": [
      "\u001b[0;31m---------------------------------------------------------------------------\u001b[0m",
      "\u001b[0;31mTypeError\u001b[0m                                 Traceback (most recent call last)",
      "Cell \u001b[0;32mIn[278], line 1\u001b[0m\n\u001b[0;32m----> 1\u001b[0m t[\u001b[38;5;241m1\u001b[39m] \u001b[38;5;241m=\u001b[39m \u001b[38;5;241m90\u001b[39m\n",
      "\u001b[0;31mTypeError\u001b[0m: 'tuple' object does not support item assignment"
     ]
    }
   ],
   "source": [
    "t[1] = 90 ## This is the case of immutability"
   ]
  },
  {
   "cell_type": "code",
   "execution_count": 280,
   "id": "f594dff4",
   "metadata": {},
   "outputs": [],
   "source": [
    "t[2].append([90,89])"
   ]
  },
  {
   "cell_type": "code",
   "execution_count": 285,
   "id": "6bad9763",
   "metadata": {},
   "outputs": [
    {
     "data": {
      "text/plain": [
       "(12, 'SPAM', [[12, 45, 67], 78, 65, [90, 89]])"
      ]
     },
     "execution_count": 285,
     "metadata": {},
     "output_type": "execute_result"
    }
   ],
   "source": [
    "t[2][0] = [12,45,67]\n",
    "t"
   ]
  },
  {
   "cell_type": "code",
   "execution_count": 286,
   "id": "5723c8e7",
   "metadata": {},
   "outputs": [
    {
     "data": {
      "text/plain": [
       "(12, 'SPAM', [[12, 45, 67], 78, 65, [90, 89]])"
      ]
     },
     "execution_count": 286,
     "metadata": {},
     "output_type": "execute_result"
    }
   ],
   "source": [
    "t"
   ]
  },
  {
   "cell_type": "markdown",
   "id": "06330f43",
   "metadata": {},
   "source": [
    "Immutability applies on the top level of the tuple itself, not to its contents"
   ]
  },
  {
   "cell_type": "markdown",
   "id": "d934052d",
   "metadata": {},
   "source": [
    "Tuples are used when the ordered collection needs to remain the same, while lists are used when the ordered collection needs to grow and change"
   ]
  },
  {
   "cell_type": "markdown",
   "id": "95c1144c",
   "metadata": {},
   "source": [
    "## Files"
   ]
  },
  {
   "cell_type": "code",
   "execution_count": 300,
   "id": "1e8d4683",
   "metadata": {},
   "outputs": [],
   "source": [
    "test_file  = open('test_file.txt')\n",
    "test_file.readlines()\n",
    "test_file.close()"
   ]
  },
  {
   "cell_type": "code",
   "execution_count": 313,
   "id": "78999949",
   "metadata": {},
   "outputs": [
    {
     "name": "stdout",
     "output_type": "stream",
     "text": [
      "['Here we come\\n']\n"
     ]
    }
   ],
   "source": [
    "with open('test_file.txt','r') as text_file:\n",
    "    text = text_file.readlines()\n",
    "    \n",
    "print(text)    "
   ]
  },
  {
   "cell_type": "markdown",
   "id": "9517af00",
   "metadata": {},
   "source": [
    "File handling modes are such as:\n",
    "* 'r' to open for text input\n",
    "* 'w' to create and open for text output\n",
    "* 'a' top open for appending text to the end\n",
    "* 'b' for binary data\n",
    "\n",
    "Adding a + opens the file for both input abd output: you can both read and write to the same file object"
   ]
  },
  {
   "cell_type": "code",
   "execution_count": 310,
   "id": "b51081d7",
   "metadata": {},
   "outputs": [],
   "source": [
    "spam = \"Here we come\\n\"\n",
    "with open('test_file.txt','w') as new_file:\n",
    "    #data = new_file.readlines()\n",
    "    new_file.write(spam)\n",
    "#print(data)    "
   ]
  },
  {
   "cell_type": "markdown",
   "id": "aacf5b71",
   "metadata": {},
   "source": [
    "* The == operator tests for value equivalence\n",
    "* The is operator tests for object identity"
   ]
  },
  {
   "cell_type": "code",
   "execution_count": 314,
   "id": "96d3f6e9",
   "metadata": {},
   "outputs": [],
   "source": [
    "s1 = 'spam'\n",
    "s2 = 'spam'"
   ]
  },
  {
   "cell_type": "code",
   "execution_count": 315,
   "id": "02868928",
   "metadata": {},
   "outputs": [
    {
     "name": "stdout",
     "output_type": "stream",
     "text": [
      "True\n"
     ]
    }
   ],
   "source": [
    "if(s1 == s2): print(True)"
   ]
  },
  {
   "cell_type": "code",
   "execution_count": 316,
   "id": "b519dad3",
   "metadata": {},
   "outputs": [
    {
     "name": "stdout",
     "output_type": "stream",
     "text": [
      "True\n"
     ]
    }
   ],
   "source": [
    "if(s1 is s2): print(True)"
   ]
  },
  {
   "cell_type": "code",
   "execution_count": 317,
   "id": "5892a05a",
   "metadata": {},
   "outputs": [],
   "source": [
    "set_a = {7,9,'spa,'}"
   ]
  },
  {
   "cell_type": "code",
   "execution_count": 322,
   "id": "eb4a07c5",
   "metadata": {},
   "outputs": [],
   "source": [
    "set_a.add(90)"
   ]
  },
  {
   "cell_type": "code",
   "execution_count": 323,
   "id": "eb5fede3",
   "metadata": {},
   "outputs": [
    {
     "data": {
      "text/plain": [
       "{7, 9, 90, 'spa,'}"
      ]
     },
     "execution_count": 323,
     "metadata": {},
     "output_type": "execute_result"
    }
   ],
   "source": [
    "set_a"
   ]
  },
  {
   "cell_type": "markdown",
   "id": "fd22ceb0",
   "metadata": {},
   "source": [
    "#### Assignments create references, Not Copies"
   ]
  },
  {
   "cell_type": "markdown",
   "id": "e875cbfb",
   "metadata": {},
   "source": [
    "Shared references are important in kniwing what is going on in the Python program "
   ]
  },
  {
   "cell_type": "markdown",
   "id": "89b02cbb",
   "metadata": {},
   "source": [
    "As seen below, the list l is referenced inside another list M. Hence changing l in-place, changes what M references too"
   ]
  },
  {
   "cell_type": "code",
   "execution_count": null,
   "id": "7fdb377d",
   "metadata": {},
   "outputs": [],
   "source": []
  },
  {
   "cell_type": "code",
   "execution_count": 324,
   "id": "6d92b688",
   "metadata": {},
   "outputs": [],
   "source": [
    "l =[1,2,3]"
   ]
  },
  {
   "cell_type": "code",
   "execution_count": 325,
   "id": "efa9b9bc",
   "metadata": {},
   "outputs": [],
   "source": [
    "M = ['X',l,'Y']"
   ]
  },
  {
   "cell_type": "code",
   "execution_count": 326,
   "id": "5d5f8171",
   "metadata": {},
   "outputs": [
    {
     "data": {
      "text/plain": [
       "['X', [1, 2, 3], 'Y']"
      ]
     },
     "execution_count": 326,
     "metadata": {},
     "output_type": "execute_result"
    }
   ],
   "source": [
    "M"
   ]
  },
  {
   "cell_type": "code",
   "execution_count": 329,
   "id": "a6993d69",
   "metadata": {},
   "outputs": [],
   "source": [
    "l[0] = 99 ## change a certain value in l"
   ]
  },
  {
   "cell_type": "code",
   "execution_count": 330,
   "id": "72f3ba16",
   "metadata": {},
   "outputs": [
    {
     "data": {
      "text/plain": [
       "['X', [99, 2, 3], 'Y']"
      ]
     },
     "execution_count": 330,
     "metadata": {},
     "output_type": "execute_result"
    }
   ],
   "source": [
    "M ## changes M too"
   ]
  },
  {
   "cell_type": "code",
   "execution_count": null,
   "id": "e08a5ecd",
   "metadata": {},
   "outputs": [],
   "source": []
  },
  {
   "cell_type": "code",
   "execution_count": null,
   "id": "74b64592",
   "metadata": {},
   "outputs": [],
   "source": []
  },
  {
   "cell_type": "code",
   "execution_count": null,
   "id": "7f0e4118",
   "metadata": {},
   "outputs": [],
   "source": []
  },
  {
   "cell_type": "code",
   "execution_count": null,
   "id": "34824bfb",
   "metadata": {},
   "outputs": [],
   "source": []
  },
  {
   "cell_type": "code",
   "execution_count": null,
   "id": "cea3b0cb",
   "metadata": {},
   "outputs": [],
   "source": []
  },
  {
   "cell_type": "code",
   "execution_count": null,
   "id": "66e0076f",
   "metadata": {},
   "outputs": [],
   "source": []
  },
  {
   "cell_type": "code",
   "execution_count": null,
   "id": "8b1a9767",
   "metadata": {},
   "outputs": [],
   "source": []
  },
  {
   "cell_type": "code",
   "execution_count": null,
   "id": "c9bc5fcc",
   "metadata": {},
   "outputs": [],
   "source": []
  },
  {
   "cell_type": "code",
   "execution_count": null,
   "id": "490633f4",
   "metadata": {},
   "outputs": [],
   "source": []
  },
  {
   "cell_type": "code",
   "execution_count": null,
   "id": "e3361889",
   "metadata": {},
   "outputs": [],
   "source": []
  },
  {
   "cell_type": "code",
   "execution_count": null,
   "id": "e602dde7",
   "metadata": {},
   "outputs": [],
   "source": []
  },
  {
   "cell_type": "code",
   "execution_count": null,
   "id": "5aec33a1",
   "metadata": {},
   "outputs": [],
   "source": []
  },
  {
   "cell_type": "code",
   "execution_count": null,
   "id": "79ea7e45",
   "metadata": {},
   "outputs": [],
   "source": []
  },
  {
   "cell_type": "code",
   "execution_count": null,
   "id": "013cce29",
   "metadata": {},
   "outputs": [],
   "source": []
  }
 ],
 "metadata": {
  "kernelspec": {
   "display_name": "Python 3 (ipykernel)",
   "language": "python",
   "name": "python3"
  },
  "language_info": {
   "codemirror_mode": {
    "name": "ipython",
    "version": 3
   },
   "file_extension": ".py",
   "mimetype": "text/x-python",
   "name": "python",
   "nbconvert_exporter": "python",
   "pygments_lexer": "ipython3",
   "version": "3.10.9"
  }
 },
 "nbformat": 4,
 "nbformat_minor": 5
}
