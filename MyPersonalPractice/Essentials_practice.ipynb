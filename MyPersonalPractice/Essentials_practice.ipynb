{
 "cells": [
  {
   "cell_type": "markdown",
   "id": "1228ed68",
   "metadata": {},
   "source": [
    "### Type categories"
   ]
  },
  {
   "cell_type": "markdown",
   "id": "fd86ec85",
   "metadata": {},
   "source": [
    "> There are three major type categories in Python: \n",
    "    1. Numbers (integer, floats, decimal, fraction etc.)\n",
    "    2. Sequences: Strings, Lists, tuples\n",
    "    3. Mappings: Dictionaries\n",
    "    4. Others are sets, frozensets"
   ]
  },
  {
   "cell_type": "markdown",
   "id": "a30524bd",
   "metadata": {},
   "source": [
    "The major core types in Python can be broken down as follows: \n",
    "   > Immutable types (numbers, strings, tuples, frosensets)\n",
    "   > Mutable types: Lists, Dictionaries, Sets"
   ]
  },
  {
   "cell_type": "code",
   "execution_count": null,
   "id": "a368408e",
   "metadata": {},
   "outputs": [],
   "source": []
  },
  {
   "cell_type": "code",
   "execution_count": 1,
   "id": "51199251",
   "metadata": {},
   "outputs": [],
   "source": [
    "res = dict(a=[90,90,78])"
   ]
  },
  {
   "cell_type": "code",
   "execution_count": 2,
   "id": "4bfbb4ec",
   "metadata": {},
   "outputs": [
    {
     "data": {
      "text/plain": [
       "{'a': [90, 90, 78]}"
      ]
     },
     "execution_count": 2,
     "metadata": {},
     "output_type": "execute_result"
    }
   ],
   "source": [
    "res"
   ]
  },
  {
   "cell_type": "code",
   "execution_count": 3,
   "id": "04caf97b",
   "metadata": {},
   "outputs": [],
   "source": [
    "res['b'] = ['spam','tree',89,53]"
   ]
  },
  {
   "cell_type": "code",
   "execution_count": 4,
   "id": "c35ef86e",
   "metadata": {},
   "outputs": [
    {
     "data": {
      "text/plain": [
       "{'a': [90, 90, 78], 'b': ['spam', 'tree', 89, 53]}"
      ]
     },
     "execution_count": 4,
     "metadata": {},
     "output_type": "execute_result"
    }
   ],
   "source": [
    "res"
   ]
  },
  {
   "cell_type": "code",
   "execution_count": 6,
   "id": "39b38d7b",
   "metadata": {},
   "outputs": [],
   "source": [
    "list_res = res['b']"
   ]
  },
  {
   "cell_type": "code",
   "execution_count": 7,
   "id": "2f780c80",
   "metadata": {},
   "outputs": [
    {
     "data": {
      "text/plain": [
       "['spam', 'tree', 89, 53]"
      ]
     },
     "execution_count": 7,
     "metadata": {},
     "output_type": "execute_result"
    }
   ],
   "source": [
    "list_res"
   ]
  },
  {
   "cell_type": "code",
   "execution_count": 13,
   "id": "1f238336",
   "metadata": {},
   "outputs": [],
   "source": [
    "str_spam = list_res[0]"
   ]
  },
  {
   "cell_type": "code",
   "execution_count": 15,
   "id": "c1d3632b",
   "metadata": {},
   "outputs": [
    {
     "data": {
      "text/plain": [
       "'spam'"
      ]
     },
     "execution_count": 15,
     "metadata": {},
     "output_type": "execute_result"
    }
   ],
   "source": [
    "str_spam.strip()"
   ]
  },
  {
   "cell_type": "markdown",
   "id": "aecf33f1",
   "metadata": {},
   "source": [
    "crete a list from a string"
   ]
  },
  {
   "cell_type": "code",
   "execution_count": 18,
   "id": "41951f54",
   "metadata": {},
   "outputs": [],
   "source": [
    "list_str=list(str_spam)"
   ]
  },
  {
   "cell_type": "markdown",
   "id": "375c9138",
   "metadata": {},
   "source": [
    "Convert back to ctring"
   ]
  },
  {
   "cell_type": "code",
   "execution_count": 19,
   "id": "6486cb3b",
   "metadata": {},
   "outputs": [
    {
     "data": {
      "text/plain": [
       "'spam'"
      ]
     },
     "execution_count": 19,
     "metadata": {},
     "output_type": "execute_result"
    }
   ],
   "source": [
    "''.join(list_str)"
   ]
  },
  {
   "cell_type": "markdown",
   "id": "bc695eee",
   "metadata": {},
   "source": [
    "##### Slicing Techniques can also be applied"
   ]
  },
  {
   "cell_type": "code",
   "execution_count": 23,
   "id": "e757e32e",
   "metadata": {},
   "outputs": [],
   "source": [
    "line = 'ACC-INV-2023-001 ADWAR BILLY'"
   ]
  },
  {
   "cell_type": "code",
   "execution_count": 24,
   "id": "adf18913",
   "metadata": {},
   "outputs": [
    {
     "data": {
      "text/plain": [
       "['ACC-INV-2023-001', 'ADWAR', 'BILLY']"
      ]
     },
     "execution_count": 24,
     "metadata": {},
     "output_type": "execute_result"
    }
   ],
   "source": [
    "line.split(' ')"
   ]
  },
  {
   "cell_type": "code",
   "execution_count": 27,
   "id": "aa9ef928",
   "metadata": {},
   "outputs": [],
   "source": [
    "invoice_number = line.split(' ')[0]\n",
    "name = line.split(' ')[1:]"
   ]
  },
  {
   "cell_type": "code",
   "execution_count": 32,
   "id": "df2c4cb2",
   "metadata": {},
   "outputs": [
    {
     "data": {
      "text/plain": [
       "'ADWAR BILLY'"
      ]
     },
     "execution_count": 32,
     "metadata": {},
     "output_type": "execute_result"
    }
   ],
   "source": [
    "customer_name = ' '.join(name)\n",
    "customer_name"
   ]
  },
  {
   "cell_type": "code",
   "execution_count": 34,
   "id": "49f7c82b",
   "metadata": {},
   "outputs": [
    {
     "data": {
      "text/plain": [
       "['Bob', ' hacked the news']"
      ]
     },
     "execution_count": 34,
     "metadata": {},
     "output_type": "execute_result"
    }
   ],
   "source": [
    "new_line = 'Bob, hacked the news'\n",
    "new_line.split(',')"
   ]
  },
  {
   "cell_type": "code",
   "execution_count": 37,
   "id": "c94b8cb5",
   "metadata": {},
   "outputs": [
    {
     "data": {
      "text/plain": [
       "'THE KNIGHTS WHO SAY NI!\\n'"
      ]
     },
     "execution_count": 37,
     "metadata": {},
     "output_type": "execute_result"
    }
   ],
   "source": [
    "the_line = \"The knights who say Ni!\\n\"\n",
    "the_line.upper()"
   ]
  },
  {
   "cell_type": "code",
   "execution_count": 38,
   "id": "0e718069",
   "metadata": {},
   "outputs": [
    {
     "data": {
      "text/plain": [
       "'The knights who say Ni!'"
      ]
     },
     "execution_count": 38,
     "metadata": {},
     "output_type": "execute_result"
    }
   ],
   "source": [
    "the_line.rstrip()"
   ]
  },
  {
   "cell_type": "code",
   "execution_count": 40,
   "id": "ecf5ed3b",
   "metadata": {},
   "outputs": [
    {
     "data": {
      "text/plain": [
       "True"
      ]
     },
     "execution_count": 40,
     "metadata": {},
     "output_type": "execute_result"
    }
   ],
   "source": [
    "the_line.find('Ni') != -1"
   ]
  },
  {
   "cell_type": "code",
   "execution_count": 44,
   "id": "8590a7df",
   "metadata": {},
   "outputs": [
    {
     "data": {
      "text/plain": [
       "True"
      ]
     },
     "execution_count": 44,
     "metadata": {},
     "output_type": "execute_result"
    }
   ],
   "source": [
    "'Ni' in the_line"
   ]
  },
  {
   "cell_type": "code",
   "execution_count": 45,
   "id": "83ac066f",
   "metadata": {},
   "outputs": [
    {
     "data": {
      "text/plain": [
       "True"
      ]
     },
     "execution_count": 45,
     "metadata": {},
     "output_type": "execute_result"
    }
   ],
   "source": [
    "sub = 'Ni!\\n'\n",
    "the_line.endswith(sub)"
   ]
  },
  {
   "cell_type": "code",
   "execution_count": 48,
   "id": "fa78aa0f",
   "metadata": {},
   "outputs": [
    {
     "data": {
      "text/plain": [
       "True"
      ]
     },
     "execution_count": 48,
     "metadata": {},
     "output_type": "execute_result"
    }
   ],
   "source": [
    "the_line[-len(sub):] == sub\n"
   ]
  },
  {
   "cell_type": "code",
   "execution_count": 50,
   "id": "ab4643f5",
   "metadata": {},
   "outputs": [
    {
     "data": {
      "text/plain": [
       "'Ni!\\n'"
      ]
     },
     "execution_count": 50,
     "metadata": {},
     "output_type": "execute_result"
    }
   ],
   "source": [
    "the_line[-4:]"
   ]
  },
  {
   "cell_type": "markdown",
   "id": "684e8e62",
   "metadata": {},
   "source": [
    "##### String formatting expressions"
   ]
  },
  {
   "cell_type": "code",
   "execution_count": 52,
   "id": "757b771a",
   "metadata": {},
   "outputs": [],
   "source": [
    "x = 90.989"
   ]
  },
  {
   "cell_type": "code",
   "execution_count": 53,
   "id": "e25cd458",
   "metadata": {},
   "outputs": [
    {
     "data": {
      "text/plain": [
       "'90.989000 | 90.989000 is the best Number'"
      ]
     },
     "execution_count": 53,
     "metadata": {},
     "output_type": "execute_result"
    }
   ],
   "source": [
    "\"%f | %f is the best %s\" % (x, x, 'Number')"
   ]
  },
  {
   "cell_type": "code",
   "execution_count": 55,
   "id": "bc765723",
   "metadata": {},
   "outputs": [
    {
     "data": {
      "text/plain": [
       "'90.99 means it has been rounded off'"
      ]
     },
     "execution_count": 55,
     "metadata": {},
     "output_type": "execute_result"
    }
   ],
   "source": [
    "\"%.2f means it has been rounded off\" % (x)"
   ]
  },
  {
   "cell_type": "markdown",
   "id": "392d8c8a",
   "metadata": {},
   "source": [
    "> String formatting also allows conversion targets on the left to refer to the keys in a dictionary on the right and fetch \n",
    "the corresponding values."
   ]
  },
  {
   "cell_type": "code",
   "execution_count": 87,
   "id": "2c567b1c",
   "metadata": {},
   "outputs": [
    {
     "data": {
      "text/plain": [
       "'90.723000 reflects spam'"
      ]
     },
     "execution_count": 87,
     "metadata": {},
     "output_type": "execute_result"
    }
   ],
   "source": [
    "\"%(n)f reflects %(x)s\" % {\"n\": 90.723, \"x\":'spam'}"
   ]
  },
  {
   "cell_type": "code",
   "execution_count": 88,
   "id": "6966b7a5",
   "metadata": {},
   "outputs": [
    {
     "data": {
      "text/plain": [
       "'90.72 reflects spam'"
      ]
     },
     "execution_count": 88,
     "metadata": {},
     "output_type": "execute_result"
    }
   ],
   "source": [
    "\"%(n).2f reflects %(x)s\" % {\"n\": 90.723, \"x\":'spam'}"
   ]
  },
  {
   "cell_type": "code",
   "execution_count": 58,
   "id": "99f21ca5",
   "metadata": {},
   "outputs": [
    {
     "data": {
      "text/plain": [
       "{'name': 'Billy Adwar', 'party balance': 78900, 'company': 'Oduk Tech'}"
      ]
     },
     "execution_count": 58,
     "metadata": {},
     "output_type": "execute_result"
    }
   ],
   "source": [
    "dict_message = {'name' :'Billy Adwar','party balance':78900,'company':'Oduk Tech'}\n",
    "dict_message"
   ]
  },
  {
   "cell_type": "code",
   "execution_count": 60,
   "id": "d6f10e00",
   "metadata": {},
   "outputs": [
    {
     "data": {
      "text/plain": [
       "'Customer Billy Adwar has a balance of 78900.000000 in Oduk Tech'"
      ]
     },
     "execution_count": 60,
     "metadata": {},
     "output_type": "execute_result"
    }
   ],
   "source": [
    "\"Customer %(name)s has a balance of %(party balance)f in %(company)s\" % dict_message"
   ]
  },
  {
   "cell_type": "markdown",
   "id": "2d21f930",
   "metadata": {},
   "source": [
    "###### Adding keys, attributes, offsets"
   ]
  },
  {
   "cell_type": "code",
   "execution_count": 61,
   "id": "31247578",
   "metadata": {},
   "outputs": [
    {
     "data": {
      "text/plain": [
       "'My laptop laptop runs linux'"
      ]
     },
     "execution_count": 61,
     "metadata": {},
     "output_type": "execute_result"
    }
   ],
   "source": [
    "import sys\n",
    "'My laptop {1[spam]} runs {0.platform}'.format(sys,{'spam':'laptop'})"
   ]
  },
  {
   "cell_type": "code",
   "execution_count": 63,
   "id": "e3eda96d",
   "metadata": {},
   "outputs": [
    {
     "data": {
      "text/plain": [
       "'linux'"
      ]
     },
     "execution_count": 63,
     "metadata": {},
     "output_type": "execute_result"
    }
   ],
   "source": [
    "sys.platform"
   ]
  },
  {
   "cell_type": "code",
   "execution_count": 68,
   "id": "ebc600a2",
   "metadata": {},
   "outputs": [
    {
     "data": {
      "text/plain": [
       "['s', 'p', 'a', 'm']"
      ]
     },
     "execution_count": 68,
     "metadata": {},
     "output_type": "execute_result"
    }
   ],
   "source": [
    "list_str"
   ]
  },
  {
   "cell_type": "code",
   "execution_count": 69,
   "id": "4acfdceb",
   "metadata": {},
   "outputs": [
    {
     "data": {
      "text/plain": [
       "'first=s, third = a'"
      ]
     },
     "execution_count": 69,
     "metadata": {},
     "output_type": "execute_result"
    }
   ],
   "source": [
    "'first={0[0]}, third = {0[2]}'.format(list_str)"
   ]
  },
  {
   "cell_type": "markdown",
   "id": "fe8e5ba0",
   "metadata": {},
   "source": [
    "##### Adding specific formatting"
   ]
  },
  {
   "cell_type": "code",
   "execution_count": 70,
   "id": "39ed0588",
   "metadata": {},
   "outputs": [
    {
     "data": {
      "text/plain": [
       "'spam       =   123.9723'"
      ]
     },
     "execution_count": 70,
     "metadata": {},
     "output_type": "execute_result"
    }
   ],
   "source": [
    "'{0:10} = {1:10}'.format('spam',123.9723)"
   ]
  },
  {
   "cell_type": "code",
   "execution_count": 77,
   "id": "f4d29e0b",
   "metadata": {},
   "outputs": [
    {
     "data": {
      "text/plain": [
       "'Amount paid is Ksh 90000'"
      ]
     },
     "execution_count": 77,
     "metadata": {},
     "output_type": "execute_result"
    }
   ],
   "source": [
    "'Amount paid is {0:2} {1:2}'.format('Ksh',90000)"
   ]
  },
  {
   "cell_type": "code",
   "execution_count": 84,
   "id": "619d057d",
   "metadata": {},
   "outputs": [
    {
     "data": {
      "text/plain": [
       "'Amount paid is Ksh        =      90000'"
      ]
     },
     "execution_count": 84,
     "metadata": {},
     "output_type": "execute_result"
    }
   ],
   "source": [
    "'Amount paid is {0:<10} = {1:10}'.format('Ksh',90000)"
   ]
  },
  {
   "cell_type": "code",
   "execution_count": 80,
   "id": "caec9356",
   "metadata": {},
   "outputs": [
    {
     "data": {
      "text/plain": [
       "'     linux = laptop    '"
      ]
     },
     "execution_count": 80,
     "metadata": {},
     "output_type": "execute_result"
    }
   ],
   "source": [
    "'{0.platform: >10} = {1[item]:<10}'.format(sys,dict(item='laptop'))"
   ]
  },
  {
   "cell_type": "markdown",
   "id": "6704cbf4",
   "metadata": {},
   "source": [
    "#### Sets"
   ]
  },
  {
   "cell_type": "markdown",
   "id": "89360fbf",
   "metadata": {},
   "source": [
    "Every element in a set has to be unique"
   ]
  },
  {
   "cell_type": "code",
   "execution_count": 89,
   "id": "b9a9d374",
   "metadata": {},
   "outputs": [
    {
     "data": {
      "text/plain": [
       "{78, 87, 90}"
      ]
     },
     "execution_count": 89,
     "metadata": {},
     "output_type": "execute_result"
    }
   ],
   "source": [
    "my_set = {78,90,87}\n",
    "my_set"
   ]
  },
  {
   "cell_type": "code",
   "execution_count": 90,
   "id": "2b350219",
   "metadata": {},
   "outputs": [
    {
     "data": {
      "text/plain": [
       "True"
      ]
     },
     "execution_count": 90,
     "metadata": {},
     "output_type": "execute_result"
    }
   ],
   "source": [
    "isinstance(my_set, set)"
   ]
  },
  {
   "cell_type": "markdown",
   "id": "9f2dfac7",
   "metadata": {},
   "source": [
    "Tuples"
   ]
  },
  {
   "cell_type": "code",
   "execution_count": 92,
   "id": "74ad3b3a",
   "metadata": {},
   "outputs": [],
   "source": [
    "x = (78, 67, 98)"
   ]
  },
  {
   "cell_type": "code",
   "execution_count": 94,
   "id": "43d785c9",
   "metadata": {},
   "outputs": [
    {
     "data": {
      "text/plain": [
       "3"
      ]
     },
     "execution_count": 94,
     "metadata": {},
     "output_type": "execute_result"
    }
   ],
   "source": [
    "len(x)"
   ]
  },
  {
   "cell_type": "code",
   "execution_count": 97,
   "id": "705d79c1",
   "metadata": {},
   "outputs": [
    {
     "data": {
      "text/plain": [
       "1"
      ]
     },
     "execution_count": 97,
     "metadata": {},
     "output_type": "execute_result"
    }
   ],
   "source": [
    "x.count(78)"
   ]
  },
  {
   "cell_type": "markdown",
   "id": "6562465a",
   "metadata": {},
   "source": [
    "Tuples are immutable, they can be used to store objects that do not change much such as latitude and longitude values"
   ]
  },
  {
   "cell_type": "code",
   "execution_count": null,
   "id": "8f947930",
   "metadata": {},
   "outputs": [],
   "source": []
  },
  {
   "cell_type": "code",
   "execution_count": 98,
   "id": "234e0633",
   "metadata": {},
   "outputs": [
    {
     "data": {
      "text/plain": [
       "['__and__',\n",
       " '__class__',\n",
       " '__class_getitem__',\n",
       " '__contains__',\n",
       " '__delattr__',\n",
       " '__dir__',\n",
       " '__doc__',\n",
       " '__eq__',\n",
       " '__format__',\n",
       " '__ge__',\n",
       " '__getattribute__',\n",
       " '__gt__',\n",
       " '__hash__',\n",
       " '__iand__',\n",
       " '__init__',\n",
       " '__init_subclass__',\n",
       " '__ior__',\n",
       " '__isub__',\n",
       " '__iter__',\n",
       " '__ixor__',\n",
       " '__le__',\n",
       " '__len__',\n",
       " '__lt__',\n",
       " '__ne__',\n",
       " '__new__',\n",
       " '__or__',\n",
       " '__rand__',\n",
       " '__reduce__',\n",
       " '__reduce_ex__',\n",
       " '__repr__',\n",
       " '__ror__',\n",
       " '__rsub__',\n",
       " '__rxor__',\n",
       " '__setattr__',\n",
       " '__sizeof__',\n",
       " '__str__',\n",
       " '__sub__',\n",
       " '__subclasshook__',\n",
       " '__xor__',\n",
       " 'add',\n",
       " 'clear',\n",
       " 'copy',\n",
       " 'difference',\n",
       " 'difference_update',\n",
       " 'discard',\n",
       " 'intersection',\n",
       " 'intersection_update',\n",
       " 'isdisjoint',\n",
       " 'issubset',\n",
       " 'issuperset',\n",
       " 'pop',\n",
       " 'remove',\n",
       " 'symmetric_difference',\n",
       " 'symmetric_difference_update',\n",
       " 'union',\n",
       " 'update']"
      ]
     },
     "execution_count": 98,
     "metadata": {},
     "output_type": "execute_result"
    }
   ],
   "source": [
    "dir(my_set)"
   ]
  },
  {
   "cell_type": "code",
   "execution_count": 100,
   "id": "d4826758",
   "metadata": {},
   "outputs": [],
   "source": [
    "my_set.add(90)"
   ]
  },
  {
   "cell_type": "code",
   "execution_count": 101,
   "id": "439dba15",
   "metadata": {},
   "outputs": [
    {
     "data": {
      "text/plain": [
       "{78, 87, 90}"
      ]
     },
     "execution_count": 101,
     "metadata": {},
     "output_type": "execute_result"
    }
   ],
   "source": [
    "my_set"
   ]
  },
  {
   "cell_type": "code",
   "execution_count": 108,
   "id": "b771abf9",
   "metadata": {},
   "outputs": [],
   "source": [
    "xa = []\n",
    "for x in range(0,100):\n",
    "    if x % 2==0: xa.append(x)"
   ]
  },
  {
   "cell_type": "markdown",
   "id": "cf893caf",
   "metadata": {},
   "source": [
    "##### Membership operators"
   ]
  },
  {
   "cell_type": "code",
   "execution_count": 109,
   "id": "67cf6e21",
   "metadata": {},
   "outputs": [
    {
     "data": {
      "text/plain": [
       "'The knights who say Ni!\\n'"
      ]
     },
     "execution_count": 109,
     "metadata": {},
     "output_type": "execute_result"
    }
   ],
   "source": [
    "the_line"
   ]
  },
  {
   "cell_type": "code",
   "execution_count": 111,
   "id": "a9a4e561",
   "metadata": {},
   "outputs": [
    {
     "data": {
      "text/plain": [
       "True"
      ]
     },
     "execution_count": 111,
     "metadata": {},
     "output_type": "execute_result"
    }
   ],
   "source": [
    "'kni' in the_line"
   ]
  },
  {
   "cell_type": "code",
   "execution_count": 112,
   "id": "7bcf5f87",
   "metadata": {},
   "outputs": [
    {
     "data": {
      "text/plain": [
       "True"
      ]
     },
     "execution_count": 112,
     "metadata": {},
     "output_type": "execute_result"
    }
   ],
   "source": [
    "'cat' in 'catography list'"
   ]
  },
  {
   "cell_type": "code",
   "execution_count": 113,
   "id": "4aa8f3ca",
   "metadata": {},
   "outputs": [
    {
     "data": {
      "text/plain": [
       "True"
      ]
     },
     "execution_count": 113,
     "metadata": {},
     "output_type": "execute_result"
    }
   ],
   "source": [
    "67 not in [90,897]"
   ]
  },
  {
   "cell_type": "code",
   "execution_count": 114,
   "id": "4413c92c",
   "metadata": {},
   "outputs": [
    {
     "data": {
      "text/plain": [
       "False"
      ]
     },
     "execution_count": 114,
     "metadata": {},
     "output_type": "execute_result"
    }
   ],
   "source": [
    "67 not in (98,78,67)"
   ]
  },
  {
   "cell_type": "code",
   "execution_count": null,
   "id": "a6ab10ac",
   "metadata": {},
   "outputs": [],
   "source": []
  },
  {
   "cell_type": "code",
   "execution_count": null,
   "id": "e446ef49",
   "metadata": {},
   "outputs": [],
   "source": []
  },
  {
   "cell_type": "code",
   "execution_count": null,
   "id": "8440d89f",
   "metadata": {},
   "outputs": [],
   "source": []
  },
  {
   "cell_type": "code",
   "execution_count": null,
   "id": "062893fa",
   "metadata": {},
   "outputs": [],
   "source": []
  },
  {
   "cell_type": "code",
   "execution_count": null,
   "id": "1e106da0",
   "metadata": {},
   "outputs": [],
   "source": []
  }
 ],
 "metadata": {
  "kernelspec": {
   "display_name": "Python 3 (ipykernel)",
   "language": "python",
   "name": "python3"
  },
  "language_info": {
   "codemirror_mode": {
    "name": "ipython",
    "version": 3
   },
   "file_extension": ".py",
   "mimetype": "text/x-python",
   "name": "python",
   "nbconvert_exporter": "python",
   "pygments_lexer": "ipython3",
   "version": "3.10.9"
  }
 },
 "nbformat": 4,
 "nbformat_minor": 5
}
