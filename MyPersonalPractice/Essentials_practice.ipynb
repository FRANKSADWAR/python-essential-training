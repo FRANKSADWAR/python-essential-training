{
 "cells": [
  {
   "cell_type": "markdown",
   "id": "62e95e40",
   "metadata": {},
   "source": [
    "### Type categories"
   ]
  },
  {
   "cell_type": "markdown",
   "id": "ae6e81e5",
   "metadata": {},
   "source": [
    "> There are three major type categories in Python: \n",
    "    1. Numbers (integer, floats, decimal, fraction etc.)\n",
    "    2. Sequences: Strings, Lists, tuples\n",
    "    3. Mappings: Dictionaries\n",
    "    4. Others are sets, frozensets"
   ]
  },
  {
   "cell_type": "markdown",
   "id": "69ff30d0",
   "metadata": {},
   "source": [
    "The major core types in Python can be broken down as follows: \n",
    "   > Immutable types (numbers, strings, tuples, frosensets)\n",
    "   > Mutable types: Lists, Dictionaries, Sets"
   ]
  },
  {
   "cell_type": "code",
   "execution_count": null,
   "id": "c28ee636",
   "metadata": {},
   "outputs": [],
   "source": []
  },
  {
   "cell_type": "code",
   "execution_count": 1,
   "id": "09a34689",
   "metadata": {},
   "outputs": [],
   "source": [
    "res = dict(a=[90,90,78])"
   ]
  },
  {
   "cell_type": "code",
   "execution_count": 2,
   "id": "dcbf578e",
   "metadata": {},
   "outputs": [
    {
     "data": {
      "text/plain": [
       "{'a': [90, 90, 78]}"
      ]
     },
     "execution_count": 2,
     "metadata": {},
     "output_type": "execute_result"
    }
   ],
   "source": [
    "res"
   ]
  },
  {
   "cell_type": "code",
   "execution_count": 3,
   "id": "57767fcc",
   "metadata": {},
   "outputs": [],
   "source": [
    "res['b'] = ['spam','tree',89,53]"
   ]
  },
  {
   "cell_type": "code",
   "execution_count": 4,
   "id": "3b6fd29a",
   "metadata": {},
   "outputs": [
    {
     "data": {
      "text/plain": [
       "{'a': [90, 90, 78], 'b': ['spam', 'tree', 89, 53]}"
      ]
     },
     "execution_count": 4,
     "metadata": {},
     "output_type": "execute_result"
    }
   ],
   "source": [
    "res"
   ]
  },
  {
   "cell_type": "code",
   "execution_count": 6,
   "id": "353b76cd",
   "metadata": {},
   "outputs": [],
   "source": [
    "list_res = res['b']"
   ]
  },
  {
   "cell_type": "code",
   "execution_count": 7,
   "id": "bf4ee360",
   "metadata": {},
   "outputs": [
    {
     "data": {
      "text/plain": [
       "['spam', 'tree', 89, 53]"
      ]
     },
     "execution_count": 7,
     "metadata": {},
     "output_type": "execute_result"
    }
   ],
   "source": [
    "list_res"
   ]
  },
  {
   "cell_type": "code",
   "execution_count": 13,
   "id": "894a7d3c",
   "metadata": {},
   "outputs": [],
   "source": [
    "str_spam = list_res[0]"
   ]
  },
  {
   "cell_type": "code",
   "execution_count": 15,
   "id": "89c747ec",
   "metadata": {},
   "outputs": [
    {
     "data": {
      "text/plain": [
       "'spam'"
      ]
     },
     "execution_count": 15,
     "metadata": {},
     "output_type": "execute_result"
    }
   ],
   "source": [
    "str_spam.strip()"
   ]
  },
  {
   "cell_type": "markdown",
   "id": "42ef489b",
   "metadata": {},
   "source": [
    "crete a list from a string"
   ]
  },
  {
   "cell_type": "code",
   "execution_count": 18,
   "id": "72128450",
   "metadata": {},
   "outputs": [],
   "source": [
    "list_str=list(str_spam)"
   ]
  },
  {
   "cell_type": "markdown",
   "id": "b9989934",
   "metadata": {},
   "source": [
    "Convert back to ctring"
   ]
  },
  {
   "cell_type": "code",
   "execution_count": 19,
   "id": "c468ec37",
   "metadata": {},
   "outputs": [
    {
     "data": {
      "text/plain": [
       "'spam'"
      ]
     },
     "execution_count": 19,
     "metadata": {},
     "output_type": "execute_result"
    }
   ],
   "source": [
    "''.join(list_str)"
   ]
  },
  {
   "cell_type": "markdown",
   "id": "1e144f09",
   "metadata": {},
   "source": [
    "##### Slicing Techniques can also be applied"
   ]
  },
  {
   "cell_type": "code",
   "execution_count": 23,
   "id": "11db9866",
   "metadata": {},
   "outputs": [],
   "source": [
    "line = 'ACC-INV-2023-001 ADWAR BILLY'"
   ]
  },
  {
   "cell_type": "code",
   "execution_count": 24,
   "id": "d0d62d9d",
   "metadata": {},
   "outputs": [
    {
     "data": {
      "text/plain": [
       "['ACC-INV-2023-001', 'ADWAR', 'BILLY']"
      ]
     },
     "execution_count": 24,
     "metadata": {},
     "output_type": "execute_result"
    }
   ],
   "source": [
    "line.split(' ')"
   ]
  },
  {
   "cell_type": "code",
   "execution_count": 27,
   "id": "29e8a3be",
   "metadata": {},
   "outputs": [],
   "source": [
    "invoice_number = line.split(' ')[0]\n",
    "name = line.split(' ')[1:]"
   ]
  },
  {
   "cell_type": "code",
   "execution_count": 32,
   "id": "5d3d32ae",
   "metadata": {},
   "outputs": [
    {
     "data": {
      "text/plain": [
       "'ADWAR BILLY'"
      ]
     },
     "execution_count": 32,
     "metadata": {},
     "output_type": "execute_result"
    }
   ],
   "source": [
    "customer_name = ' '.join(name)\n",
    "customer_name"
   ]
  },
  {
   "cell_type": "code",
   "execution_count": 34,
   "id": "3093883a",
   "metadata": {},
   "outputs": [
    {
     "data": {
      "text/plain": [
       "['Bob', ' hacked the news']"
      ]
     },
     "execution_count": 34,
     "metadata": {},
     "output_type": "execute_result"
    }
   ],
   "source": [
    "new_line = 'Bob, hacked the news'\n",
    "new_line.split(',')"
   ]
  },
  {
   "cell_type": "code",
   "execution_count": 37,
   "id": "73b08cf8",
   "metadata": {},
   "outputs": [
    {
     "data": {
      "text/plain": [
       "'THE KNIGHTS WHO SAY NI!\\n'"
      ]
     },
     "execution_count": 37,
     "metadata": {},
     "output_type": "execute_result"
    }
   ],
   "source": [
    "the_line = \"The knights who say Ni!\\n\"\n",
    "the_line.upper()"
   ]
  },
  {
   "cell_type": "code",
   "execution_count": 38,
   "id": "d59a9094",
   "metadata": {},
   "outputs": [
    {
     "data": {
      "text/plain": [
       "'The knights who say Ni!'"
      ]
     },
     "execution_count": 38,
     "metadata": {},
     "output_type": "execute_result"
    }
   ],
   "source": [
    "the_line.rstrip()"
   ]
  },
  {
   "cell_type": "code",
   "execution_count": 40,
   "id": "587fc82b",
   "metadata": {},
   "outputs": [
    {
     "data": {
      "text/plain": [
       "True"
      ]
     },
     "execution_count": 40,
     "metadata": {},
     "output_type": "execute_result"
    }
   ],
   "source": [
    "the_line.find('Ni') != -1"
   ]
  },
  {
   "cell_type": "code",
   "execution_count": 44,
   "id": "b1aae1aa",
   "metadata": {},
   "outputs": [
    {
     "data": {
      "text/plain": [
       "True"
      ]
     },
     "execution_count": 44,
     "metadata": {},
     "output_type": "execute_result"
    }
   ],
   "source": [
    "'Ni' in the_line"
   ]
  },
  {
   "cell_type": "code",
   "execution_count": 45,
   "id": "7b9ae96b",
   "metadata": {},
   "outputs": [
    {
     "data": {
      "text/plain": [
       "True"
      ]
     },
     "execution_count": 45,
     "metadata": {},
     "output_type": "execute_result"
    }
   ],
   "source": [
    "sub = 'Ni!\\n'\n",
    "the_line.endswith(sub)"
   ]
  },
  {
   "cell_type": "code",
   "execution_count": 48,
   "id": "214a4d7e",
   "metadata": {},
   "outputs": [
    {
     "data": {
      "text/plain": [
       "True"
      ]
     },
     "execution_count": 48,
     "metadata": {},
     "output_type": "execute_result"
    }
   ],
   "source": [
    "the_line[-len(sub):] == sub\n"
   ]
  },
  {
   "cell_type": "code",
   "execution_count": 50,
   "id": "dda4f40c",
   "metadata": {},
   "outputs": [
    {
     "data": {
      "text/plain": [
       "'Ni!\\n'"
      ]
     },
     "execution_count": 50,
     "metadata": {},
     "output_type": "execute_result"
    }
   ],
   "source": [
    "the_line[-4:]"
   ]
  },
  {
   "cell_type": "markdown",
   "id": "e148cb73",
   "metadata": {},
   "source": [
    "##### String formatting expressions"
   ]
  },
  {
   "cell_type": "code",
   "execution_count": 52,
   "id": "efa6e02d",
   "metadata": {},
   "outputs": [],
   "source": [
    "x = 90.989"
   ]
  },
  {
   "cell_type": "code",
   "execution_count": 53,
   "id": "3dc61eda",
   "metadata": {},
   "outputs": [
    {
     "data": {
      "text/plain": [
       "'90.989000 | 90.989000 is the best Number'"
      ]
     },
     "execution_count": 53,
     "metadata": {},
     "output_type": "execute_result"
    }
   ],
   "source": [
    "\"%f | %f is the best %s\" % (x, x, 'Number')"
   ]
  },
  {
   "cell_type": "code",
   "execution_count": 55,
   "id": "8171f3ff",
   "metadata": {},
   "outputs": [
    {
     "data": {
      "text/plain": [
       "'90.99 means it has been rounded off'"
      ]
     },
     "execution_count": 55,
     "metadata": {},
     "output_type": "execute_result"
    }
   ],
   "source": [
    "\"%.2f means it has been rounded off\" % (x)"
   ]
  },
  {
   "cell_type": "markdown",
   "id": "a6825631",
   "metadata": {},
   "source": [
    "> String formatting also allows conversion targets on the left to refer to the keys in a dictionary on the right and fetch \n",
    "the corresponding values."
   ]
  },
  {
   "cell_type": "code",
   "execution_count": 87,
   "id": "05ab5512",
   "metadata": {},
   "outputs": [
    {
     "data": {
      "text/plain": [
       "'90.723000 reflects spam'"
      ]
     },
     "execution_count": 87,
     "metadata": {},
     "output_type": "execute_result"
    }
   ],
   "source": [
    "\"%(n)f reflects %(x)s\" % {\"n\": 90.723, \"x\":'spam'}"
   ]
  },
  {
   "cell_type": "code",
   "execution_count": 88,
   "id": "db125d15",
   "metadata": {},
   "outputs": [
    {
     "data": {
      "text/plain": [
       "'90.72 reflects spam'"
      ]
     },
     "execution_count": 88,
     "metadata": {},
     "output_type": "execute_result"
    }
   ],
   "source": [
    "\"%(n).2f reflects %(x)s\" % {\"n\": 90.723, \"x\":'spam'}"
   ]
  },
  {
   "cell_type": "code",
   "execution_count": 58,
   "id": "7cc1e38d",
   "metadata": {},
   "outputs": [
    {
     "data": {
      "text/plain": [
       "{'name': 'Billy Adwar', 'party balance': 78900, 'company': 'Oduk Tech'}"
      ]
     },
     "execution_count": 58,
     "metadata": {},
     "output_type": "execute_result"
    }
   ],
   "source": [
    "dict_message = {'name' :'Billy Adwar','party balance':78900,'company':'Oduk Tech'}\n",
    "dict_message"
   ]
  },
  {
   "cell_type": "code",
   "execution_count": 60,
   "id": "2ad6806f",
   "metadata": {},
   "outputs": [
    {
     "data": {
      "text/plain": [
       "'Customer Billy Adwar has a balance of 78900.000000 in Oduk Tech'"
      ]
     },
     "execution_count": 60,
     "metadata": {},
     "output_type": "execute_result"
    }
   ],
   "source": [
    "\"Customer %(name)s has a balance of %(party balance)f in %(company)s\" % dict_message"
   ]
  },
  {
   "cell_type": "markdown",
   "id": "aad20ef0",
   "metadata": {},
   "source": [
    "###### Adding keys, attributes, offsets"
   ]
  },
  {
   "cell_type": "code",
   "execution_count": 123,
   "id": "624865e5",
   "metadata": {},
   "outputs": [
    {
     "data": {
      "text/plain": [
       "'My laptop runs linux'"
      ]
     },
     "execution_count": 123,
     "metadata": {},
     "output_type": "execute_result"
    }
   ],
   "source": [
    "import sys\n",
    "'My {1[spam]} runs {0.platform}'.format(sys,{'spam':'laptop'})"
   ]
  },
  {
   "cell_type": "code",
   "execution_count": 63,
   "id": "e836eeb1",
   "metadata": {},
   "outputs": [
    {
     "data": {
      "text/plain": [
       "'linux'"
      ]
     },
     "execution_count": 63,
     "metadata": {},
     "output_type": "execute_result"
    }
   ],
   "source": [
    "sys.platform"
   ]
  },
  {
   "cell_type": "code",
   "execution_count": 68,
   "id": "2c13c9fc",
   "metadata": {},
   "outputs": [
    {
     "data": {
      "text/plain": [
       "['s', 'p', 'a', 'm']"
      ]
     },
     "execution_count": 68,
     "metadata": {},
     "output_type": "execute_result"
    }
   ],
   "source": [
    "list_str"
   ]
  },
  {
   "cell_type": "code",
   "execution_count": 69,
   "id": "d6bf261d",
   "metadata": {},
   "outputs": [
    {
     "data": {
      "text/plain": [
       "'first=s, third = a'"
      ]
     },
     "execution_count": 69,
     "metadata": {},
     "output_type": "execute_result"
    }
   ],
   "source": [
    "'first={0[0]}, third = {0[2]}'.format(list_str)"
   ]
  },
  {
   "cell_type": "markdown",
   "id": "aec3ea9f",
   "metadata": {},
   "source": [
    "##### Adding specific formatting"
   ]
  },
  {
   "cell_type": "code",
   "execution_count": 70,
   "id": "8217334c",
   "metadata": {},
   "outputs": [
    {
     "data": {
      "text/plain": [
       "'spam       =   123.9723'"
      ]
     },
     "execution_count": 70,
     "metadata": {},
     "output_type": "execute_result"
    }
   ],
   "source": [
    "'{0:10} = {1:10}'.format('spam',123.9723)"
   ]
  },
  {
   "cell_type": "code",
   "execution_count": 77,
   "id": "d38484f5",
   "metadata": {},
   "outputs": [
    {
     "data": {
      "text/plain": [
       "'Amount paid is Ksh 90000'"
      ]
     },
     "execution_count": 77,
     "metadata": {},
     "output_type": "execute_result"
    }
   ],
   "source": [
    "'Amount paid is {0:2} {1:2}'.format('Ksh',90000)"
   ]
  },
  {
   "cell_type": "code",
   "execution_count": 84,
   "id": "ce3bb297",
   "metadata": {},
   "outputs": [
    {
     "data": {
      "text/plain": [
       "'Amount paid is Ksh        =      90000'"
      ]
     },
     "execution_count": 84,
     "metadata": {},
     "output_type": "execute_result"
    }
   ],
   "source": [
    "'Amount paid is {0:<10} = {1:10}'.format('Ksh',90000)"
   ]
  },
  {
   "cell_type": "code",
   "execution_count": 80,
   "id": "f1e0cbee",
   "metadata": {},
   "outputs": [
    {
     "data": {
      "text/plain": [
       "'     linux = laptop    '"
      ]
     },
     "execution_count": 80,
     "metadata": {},
     "output_type": "execute_result"
    }
   ],
   "source": [
    "'{0.platform: >10} = {1[item]:<10}'.format(sys,dict(item='laptop'))"
   ]
  },
  {
   "cell_type": "markdown",
   "id": "e07a6058",
   "metadata": {},
   "source": [
    "#### Sets"
   ]
  },
  {
   "cell_type": "markdown",
   "id": "8540c924",
   "metadata": {},
   "source": [
    "Every element in a set has to be unique"
   ]
  },
  {
   "cell_type": "code",
   "execution_count": 89,
   "id": "b7d8a167",
   "metadata": {},
   "outputs": [
    {
     "data": {
      "text/plain": [
       "{78, 87, 90}"
      ]
     },
     "execution_count": 89,
     "metadata": {},
     "output_type": "execute_result"
    }
   ],
   "source": [
    "my_set = {78,90,87}\n",
    "my_set"
   ]
  },
  {
   "cell_type": "code",
   "execution_count": 90,
   "id": "37c2119b",
   "metadata": {},
   "outputs": [
    {
     "data": {
      "text/plain": [
       "True"
      ]
     },
     "execution_count": 90,
     "metadata": {},
     "output_type": "execute_result"
    }
   ],
   "source": [
    "isinstance(my_set, set)"
   ]
  },
  {
   "cell_type": "markdown",
   "id": "7b468b6d",
   "metadata": {},
   "source": [
    "Tuples"
   ]
  },
  {
   "cell_type": "code",
   "execution_count": 92,
   "id": "2feebf1d",
   "metadata": {},
   "outputs": [],
   "source": [
    "x = (78, 67, 98)"
   ]
  },
  {
   "cell_type": "code",
   "execution_count": 94,
   "id": "1ecfb4af",
   "metadata": {},
   "outputs": [
    {
     "data": {
      "text/plain": [
       "3"
      ]
     },
     "execution_count": 94,
     "metadata": {},
     "output_type": "execute_result"
    }
   ],
   "source": [
    "len(x)"
   ]
  },
  {
   "cell_type": "code",
   "execution_count": 97,
   "id": "8a8e4d61",
   "metadata": {},
   "outputs": [
    {
     "data": {
      "text/plain": [
       "1"
      ]
     },
     "execution_count": 97,
     "metadata": {},
     "output_type": "execute_result"
    }
   ],
   "source": [
    "x.count(78)"
   ]
  },
  {
   "cell_type": "markdown",
   "id": "adb6e138",
   "metadata": {},
   "source": [
    "Tuples are immutable, they can be used to store objects that do not change much such as latitude and longitude values"
   ]
  },
  {
   "cell_type": "code",
   "execution_count": null,
   "id": "6dd9d58d",
   "metadata": {},
   "outputs": [],
   "source": []
  },
  {
   "cell_type": "code",
   "execution_count": 100,
   "id": "2fba2c2f",
   "metadata": {},
   "outputs": [],
   "source": [
    "my_set.add(90)"
   ]
  },
  {
   "cell_type": "code",
   "execution_count": 101,
   "id": "aab1cbc2",
   "metadata": {},
   "outputs": [
    {
     "data": {
      "text/plain": [
       "{78, 87, 90}"
      ]
     },
     "execution_count": 101,
     "metadata": {},
     "output_type": "execute_result"
    }
   ],
   "source": [
    "my_set"
   ]
  },
  {
   "cell_type": "code",
   "execution_count": 108,
   "id": "9f6f9ea7",
   "metadata": {},
   "outputs": [],
   "source": [
    "xa = []\n",
    "for x in range(0,100):\n",
    "    if x % 2==0: xa.append(x)"
   ]
  },
  {
   "cell_type": "markdown",
   "id": "397c7cbf",
   "metadata": {},
   "source": [
    "##### Membership operators"
   ]
  },
  {
   "cell_type": "code",
   "execution_count": 109,
   "id": "c168cea2",
   "metadata": {},
   "outputs": [
    {
     "data": {
      "text/plain": [
       "'The knights who say Ni!\\n'"
      ]
     },
     "execution_count": 109,
     "metadata": {},
     "output_type": "execute_result"
    }
   ],
   "source": [
    "the_line"
   ]
  },
  {
   "cell_type": "code",
   "execution_count": 111,
   "id": "d91baa30",
   "metadata": {},
   "outputs": [
    {
     "data": {
      "text/plain": [
       "True"
      ]
     },
     "execution_count": 111,
     "metadata": {},
     "output_type": "execute_result"
    }
   ],
   "source": [
    "'kni' in the_line"
   ]
  },
  {
   "cell_type": "code",
   "execution_count": 112,
   "id": "357333e4",
   "metadata": {},
   "outputs": [
    {
     "data": {
      "text/plain": [
       "True"
      ]
     },
     "execution_count": 112,
     "metadata": {},
     "output_type": "execute_result"
    }
   ],
   "source": [
    "'cat' in 'catography list'"
   ]
  },
  {
   "cell_type": "code",
   "execution_count": 113,
   "id": "c845167b",
   "metadata": {},
   "outputs": [
    {
     "data": {
      "text/plain": [
       "True"
      ]
     },
     "execution_count": 113,
     "metadata": {},
     "output_type": "execute_result"
    }
   ],
   "source": [
    "67 not in [90,897]"
   ]
  },
  {
   "cell_type": "code",
   "execution_count": 114,
   "id": "7b065b2a",
   "metadata": {},
   "outputs": [
    {
     "data": {
      "text/plain": [
       "False"
      ]
     },
     "execution_count": 114,
     "metadata": {},
     "output_type": "execute_result"
    }
   ],
   "source": [
    "67 not in (98,78,67)"
   ]
  },
  {
   "cell_type": "code",
   "execution_count": 115,
   "id": "a4b673e6",
   "metadata": {},
   "outputs": [],
   "source": [
    "k = \"a\\nb\\x1f\\000d\""
   ]
  },
  {
   "cell_type": "code",
   "execution_count": 116,
   "id": "11c35ac8",
   "metadata": {},
   "outputs": [
    {
     "data": {
      "text/plain": [
       "6"
      ]
     },
     "execution_count": 116,
     "metadata": {},
     "output_type": "execute_result"
    }
   ],
   "source": [
    "len(k)"
   ]
  },
  {
   "cell_type": "code",
   "execution_count": 118,
   "id": "cd7eea88",
   "metadata": {},
   "outputs": [
    {
     "data": {
      "text/plain": [
       "107"
      ]
     },
     "execution_count": 118,
     "metadata": {},
     "output_type": "execute_result"
    }
   ],
   "source": [
    "ord('k')"
   ]
  },
  {
   "cell_type": "markdown",
   "id": "8a4525a0",
   "metadata": {},
   "source": [
    "### Lists"
   ]
  },
  {
   "cell_type": "markdown",
   "id": "87a100e2",
   "metadata": {},
   "source": [
    "> Lists are mutable sequences in Python: they can be changed in place, and are ordered sequences"
   ]
  },
  {
   "cell_type": "code",
   "execution_count": 119,
   "id": "992c78e4",
   "metadata": {},
   "outputs": [
    {
     "data": {
      "text/plain": [
       "False"
      ]
     },
     "execution_count": 119,
     "metadata": {},
     "output_type": "execute_result"
    }
   ],
   "source": [
    "3 in [[3,5],[67,45],90,7]"
   ]
  },
  {
   "cell_type": "code",
   "execution_count": 122,
   "id": "69cb5fe3",
   "metadata": {},
   "outputs": [
    {
     "name": "stdout",
     "output_type": "stream",
     "text": [
      "[3, 5]\n",
      "[67, 45]\n"
     ]
    }
   ],
   "source": [
    "for x in [[3,5],[67,45],90,7]:\n",
    "    if isinstance(x,list):\n",
    "        print(x)"
   ]
  },
  {
   "cell_type": "markdown",
   "id": "c188a191",
   "metadata": {},
   "source": [
    "List compressions are a way to build new lists by applying an expression to each item in a sequence"
   ]
  },
  {
   "cell_type": "code",
   "execution_count": 125,
   "id": "1e469f41",
   "metadata": {},
   "outputs": [
    {
     "data": {
      "text/plain": [
       "['SSSS', 'PPPP', 'AAAA', 'MMMM']"
      ]
     },
     "execution_count": 125,
     "metadata": {},
     "output_type": "execute_result"
    }
   ],
   "source": [
    "res = [c*4 for c in 'SPAM']\n",
    "res"
   ]
  },
  {
   "cell_type": "markdown",
   "id": "75261d1b",
   "metadata": {},
   "source": [
    "> The map function works the same but it applies a function to items in a sequence and collects all the results in a new list."
   ]
  },
  {
   "cell_type": "code",
   "execution_count": 127,
   "id": "277adee7",
   "metadata": {},
   "outputs": [
    {
     "data": {
      "text/plain": [
       "[1, 2, 0, 1, 2, 3]"
      ]
     },
     "execution_count": 127,
     "metadata": {},
     "output_type": "execute_result"
    }
   ],
   "source": [
    "list(map(abs,[-1,-2,0,1,2,3]))"
   ]
  },
  {
   "cell_type": "code",
   "execution_count": 130,
   "id": "f5811997",
   "metadata": {},
   "outputs": [],
   "source": [
    "def get_sqr(x):\n",
    "    return x*x\n",
    "\n",
    "def get_pow(x,num):\n",
    "    return x **num"
   ]
  },
  {
   "cell_type": "code",
   "execution_count": 135,
   "id": "4a676eab",
   "metadata": {},
   "outputs": [
    {
     "data": {
      "text/plain": [
       "[89, [6534, 'SPAM'], 'TREE']"
      ]
     },
     "execution_count": 135,
     "metadata": {},
     "output_type": "execute_result"
    }
   ],
   "source": [
    "L = [89,[6534,'SPAM'],'TREE']\n",
    "L"
   ]
  },
  {
   "cell_type": "code",
   "execution_count": 144,
   "id": "0a0a519b",
   "metadata": {},
   "outputs": [
    {
     "data": {
      "text/plain": [
       "[89, [6534, 'SPAM'], 'TREE']"
      ]
     },
     "execution_count": 144,
     "metadata": {},
     "output_type": "execute_result"
    }
   ],
   "source": [
    "L[0:3]"
   ]
  },
  {
   "cell_type": "markdown",
   "id": "2b038e67",
   "metadata": {},
   "source": [
    "> Both index and slice operations are in-place changes: they modify the list directly rather than\n",
    "generating a new list object for the result"
   ]
  },
  {
   "cell_type": "code",
   "execution_count": 147,
   "id": "a80003da",
   "metadata": {},
   "outputs": [],
   "source": [
    "L[0:1]= [89,90,78] ## lists can be changes in place by slicing i.e deletion and insertion at the same time"
   ]
  },
  {
   "cell_type": "code",
   "execution_count": 148,
   "id": "45ebe67f",
   "metadata": {},
   "outputs": [
    {
     "data": {
      "text/plain": [
       "[89, 90, 78, 90, 78, [6534, 'SPAM'], 'TREE']"
      ]
     },
     "execution_count": 148,
     "metadata": {},
     "output_type": "execute_result"
    }
   ],
   "source": [
    "L "
   ]
  },
  {
   "cell_type": "code",
   "execution_count": 161,
   "id": "d78d3fda",
   "metadata": {},
   "outputs": [
    {
     "data": {
      "text/plain": [
       "[[6534, 'SPAM']]"
      ]
     },
     "execution_count": 161,
     "metadata": {},
     "output_type": "execute_result"
    }
   ],
   "source": [
    "L[-2:-1]"
   ]
  },
  {
   "cell_type": "code",
   "execution_count": 167,
   "id": "54635ecb",
   "metadata": {},
   "outputs": [],
   "source": [
    "K = [12,45,1,9,23,823]\n",
    "K.sort()"
   ]
  },
  {
   "cell_type": "code",
   "execution_count": 168,
   "id": "0e3684d1",
   "metadata": {},
   "outputs": [
    {
     "data": {
      "text/plain": [
       "[1, 9, 12, 23, 45, 823]"
      ]
     },
     "execution_count": 168,
     "metadata": {},
     "output_type": "execute_result"
    }
   ],
   "source": [
    "K"
   ]
  },
  {
   "cell_type": "code",
   "execution_count": 169,
   "id": "c6767a54",
   "metadata": {},
   "outputs": [],
   "source": [
    "LS = ['abc','ABD','aBe']"
   ]
  },
  {
   "cell_type": "code",
   "execution_count": 171,
   "id": "c27c2d1a",
   "metadata": {},
   "outputs": [
    {
     "data": {
      "text/plain": [
       "['abe', 'abd', 'abc']"
      ]
     },
     "execution_count": 171,
     "metadata": {},
     "output_type": "execute_result"
    }
   ],
   "source": [
    "sorted([x.lower() for x in LS],reverse=True)"
   ]
  },
  {
   "cell_type": "code",
   "execution_count": 172,
   "id": "19c83e48",
   "metadata": {},
   "outputs": [],
   "source": [
    "LS.extend([90,78,'abf'])"
   ]
  },
  {
   "cell_type": "code",
   "execution_count": 173,
   "id": "dd3dac0c",
   "metadata": {},
   "outputs": [
    {
     "data": {
      "text/plain": [
       "['abc', 'ABD', 'aBe', 90, 78, 'abf']"
      ]
     },
     "execution_count": 173,
     "metadata": {},
     "output_type": "execute_result"
    }
   ],
   "source": [
    "LS"
   ]
  },
  {
   "cell_type": "code",
   "execution_count": 175,
   "id": "bda8c064",
   "metadata": {},
   "outputs": [
    {
     "data": {
      "text/plain": [
       "'abf'"
      ]
     },
     "execution_count": 175,
     "metadata": {},
     "output_type": "execute_result"
    }
   ],
   "source": [
    "LS.pop(-1)"
   ]
  },
  {
   "cell_type": "code",
   "execution_count": 176,
   "id": "cc94f55c",
   "metadata": {},
   "outputs": [
    {
     "data": {
      "text/plain": [
       "['abc', 'ABD', 'aBe', 90, 78]"
      ]
     },
     "execution_count": 176,
     "metadata": {},
     "output_type": "execute_result"
    }
   ],
   "source": [
    "LS"
   ]
  },
  {
   "cell_type": "code",
   "execution_count": 177,
   "id": "7a3b6732",
   "metadata": {},
   "outputs": [],
   "source": [
    "LS.reverse()"
   ]
  },
  {
   "cell_type": "code",
   "execution_count": 178,
   "id": "ce6b40fa",
   "metadata": {},
   "outputs": [
    {
     "data": {
      "text/plain": [
       "[78, 90, 'aBe', 'ABD', 'abc']"
      ]
     },
     "execution_count": 178,
     "metadata": {},
     "output_type": "execute_result"
    }
   ],
   "source": [
    "LS"
   ]
  },
  {
   "cell_type": "code",
   "execution_count": 179,
   "id": "8f1ea0d2",
   "metadata": {},
   "outputs": [],
   "source": [
    "L.insert(1, 'good')"
   ]
  },
  {
   "cell_type": "code",
   "execution_count": 180,
   "id": "e93069aa",
   "metadata": {},
   "outputs": [
    {
     "data": {
      "text/plain": [
       "[78, 'good', 78, 89, 90, 90, [6534, 'SPAM'], 'TREE']"
      ]
     },
     "execution_count": 180,
     "metadata": {},
     "output_type": "execute_result"
    }
   ],
   "source": [
    "L"
   ]
  },
  {
   "cell_type": "code",
   "execution_count": 181,
   "id": "5a56558b",
   "metadata": {},
   "outputs": [
    {
     "data": {
      "text/plain": [
       "'TREE'"
      ]
     },
     "execution_count": 181,
     "metadata": {},
     "output_type": "execute_result"
    }
   ],
   "source": [
    "L.pop()"
   ]
  },
  {
   "cell_type": "code",
   "execution_count": 182,
   "id": "81db3411",
   "metadata": {},
   "outputs": [
    {
     "data": {
      "text/plain": [
       "[78, 'good', 78, 89, 90, 90, [6534, 'SPAM']]"
      ]
     },
     "execution_count": 182,
     "metadata": {},
     "output_type": "execute_result"
    }
   ],
   "source": [
    "L"
   ]
  },
  {
   "cell_type": "code",
   "execution_count": 183,
   "id": "f1a55c3d",
   "metadata": {},
   "outputs": [
    {
     "data": {
      "text/plain": [
       "[6534, 'SPAM']"
      ]
     },
     "execution_count": 183,
     "metadata": {},
     "output_type": "execute_result"
    }
   ],
   "source": [
    "L.pop(-1)"
   ]
  },
  {
   "cell_type": "code",
   "execution_count": 184,
   "id": "84e3d016",
   "metadata": {},
   "outputs": [
    {
     "data": {
      "text/plain": [
       "[78, 'good', 78, 89, 90, 90]"
      ]
     },
     "execution_count": 184,
     "metadata": {},
     "output_type": "execute_result"
    }
   ],
   "source": [
    "L"
   ]
  },
  {
   "cell_type": "markdown",
   "id": "cea4e103",
   "metadata": {},
   "source": [
    "Because they are mutable, we can alsu use the del statement"
   ]
  },
  {
   "cell_type": "code",
   "execution_count": 186,
   "id": "665cffcc",
   "metadata": {},
   "outputs": [],
   "source": [
    "del L[0]"
   ]
  },
  {
   "cell_type": "code",
   "execution_count": 187,
   "id": "ec416910",
   "metadata": {},
   "outputs": [
    {
     "data": {
      "text/plain": [
       "['good', 78, 89, 90, 90]"
      ]
     },
     "execution_count": 187,
     "metadata": {},
     "output_type": "execute_result"
    }
   ],
   "source": [
    "L"
   ]
  },
  {
   "cell_type": "markdown",
   "id": "4a78a8d5",
   "metadata": {},
   "source": [
    "### Dictionaries"
   ]
  },
  {
   "cell_type": "markdown",
   "id": "213b87aa",
   "metadata": {},
   "source": [
    "Sometimes called associative arrays or hashes, they are unordered collections of arbitrary objects: they are mutable mappings\n",
    "but do not support the sequence operations supported by lists and objects"
   ]
  },
  {
   "cell_type": "code",
   "execution_count": 188,
   "id": "e8e03170",
   "metadata": {},
   "outputs": [
    {
     "data": {
      "text/plain": [
       "{'spam': [67, -0.6232], 'ham': (90, 90), 'eggs': 90}"
      ]
     },
     "execution_count": 188,
     "metadata": {},
     "output_type": "execute_result"
    }
   ],
   "source": [
    "D = {'spam':[67,-0.6232], 'ham':(90,90),'eggs':90}\n",
    "D"
   ]
  },
  {
   "cell_type": "code",
   "execution_count": 190,
   "id": "68b31124",
   "metadata": {},
   "outputs": [
    {
     "data": {
      "text/plain": [
       "[('spam', [67, -0.6232]), ('ham', (90, 90)), ('eggs', 90)]"
      ]
     },
     "execution_count": 190,
     "metadata": {},
     "output_type": "execute_result"
    }
   ],
   "source": [
    "list(D.items())"
   ]
  },
  {
   "cell_type": "code",
   "execution_count": 192,
   "id": "7313b28f",
   "metadata": {},
   "outputs": [
    {
     "data": {
      "text/plain": [
       "['spam', 'ham', 'eggs']"
      ]
     },
     "execution_count": 192,
     "metadata": {},
     "output_type": "execute_result"
    }
   ],
   "source": [
    "list(D.keys())"
   ]
  },
  {
   "cell_type": "code",
   "execution_count": 194,
   "id": "037a840d",
   "metadata": {},
   "outputs": [
    {
     "data": {
      "text/plain": [
       "[[67, -0.6232], (90, 90), 90]"
      ]
     },
     "execution_count": 194,
     "metadata": {},
     "output_type": "execute_result"
    }
   ],
   "source": [
    "list(D.values())"
   ]
  },
  {
   "cell_type": "code",
   "execution_count": 195,
   "id": "869cb10c",
   "metadata": {},
   "outputs": [
    {
     "data": {
      "text/plain": [
       "[67, -0.6232]"
      ]
     },
     "execution_count": 195,
     "metadata": {},
     "output_type": "execute_result"
    }
   ],
   "source": [
    "D.get('spam')"
   ]
  },
  {
   "cell_type": "code",
   "execution_count": 196,
   "id": "67802ead",
   "metadata": {},
   "outputs": [
    {
     "data": {
      "text/plain": [
       "{'res': 30, 'pixels': [89, [90, 76]]}"
      ]
     },
     "execution_count": 196,
     "metadata": {},
     "output_type": "execute_result"
    }
   ],
   "source": [
    "D2 = {'res':30,'pixels':[89,[90,76]]}\n",
    "D2"
   ]
  },
  {
   "cell_type": "code",
   "execution_count": 197,
   "id": "17361d85",
   "metadata": {},
   "outputs": [],
   "source": [
    "D.update(D2)"
   ]
  },
  {
   "cell_type": "code",
   "execution_count": 198,
   "id": "9942285f",
   "metadata": {},
   "outputs": [
    {
     "data": {
      "text/plain": [
       "{'spam': [67, -0.6232],\n",
       " 'ham': (90, 90),\n",
       " 'eggs': 90,\n",
       " 'res': 30,\n",
       " 'pixels': [89, [90, 76]]}"
      ]
     },
     "execution_count": 198,
     "metadata": {},
     "output_type": "execute_result"
    }
   ],
   "source": [
    "D"
   ]
  },
  {
   "cell_type": "code",
   "execution_count": 199,
   "id": "e53fec78",
   "metadata": {},
   "outputs": [
    {
     "data": {
      "text/plain": [
       "90"
      ]
     },
     "execution_count": 199,
     "metadata": {},
     "output_type": "execute_result"
    }
   ],
   "source": [
    "D.pop('eggs')"
   ]
  },
  {
   "cell_type": "code",
   "execution_count": 200,
   "id": "3ff87125",
   "metadata": {},
   "outputs": [
    {
     "data": {
      "text/plain": [
       "{'spam': [67, -0.6232], 'ham': (90, 90), 'res': 30, 'pixels': [89, [90, 76]]}"
      ]
     },
     "execution_count": 200,
     "metadata": {},
     "output_type": "execute_result"
    }
   ],
   "source": [
    "D"
   ]
  },
  {
   "cell_type": "code",
   "execution_count": null,
   "id": "43497719",
   "metadata": {},
   "outputs": [],
   "source": []
  },
  {
   "cell_type": "code",
   "execution_count": 203,
   "id": "be64c776",
   "metadata": {},
   "outputs": [],
   "source": [
    "table = {'Python':'Guido Van Rossum','Perl':'Larry Wall','Tcl':'John Ousterhout','linux':'Linus Torvalds'}"
   ]
  },
  {
   "cell_type": "code",
   "execution_count": 204,
   "id": "5ad0308b",
   "metadata": {},
   "outputs": [
    {
     "data": {
      "text/plain": [
       "{'Python': 'Guido Van Rossum',\n",
       " 'Perl': 'Larry Wall',\n",
       " 'Tcl': 'John Ousterhout',\n",
       " 'linux': 'Linus Torvalds'}"
      ]
     },
     "execution_count": 204,
     "metadata": {},
     "output_type": "execute_result"
    }
   ],
   "source": [
    "table"
   ]
  },
  {
   "cell_type": "code",
   "execution_count": 206,
   "id": "61323055",
   "metadata": {},
   "outputs": [
    {
     "data": {
      "text/plain": [
       "'Guido Van Rossum'"
      ]
     },
     "execution_count": 206,
     "metadata": {},
     "output_type": "execute_result"
    }
   ],
   "source": [
    "creator = table['Python']\n",
    "creator"
   ]
  },
  {
   "cell_type": "code",
   "execution_count": 209,
   "id": "84396716",
   "metadata": {},
   "outputs": [
    {
     "name": "stdout",
     "output_type": "stream",
     "text": [
      "Python \t Guido Van Rossum\n",
      "Perl \t Larry Wall\n",
      "Tcl \t John Ousterhout\n",
      "linux \t Linus Torvalds\n"
     ]
    }
   ],
   "source": [
    "for lang in table: ## same as looping table.keys()\n",
    "    print(lang,'\\t',table[lang])"
   ]
  },
  {
   "cell_type": "code",
   "execution_count": 210,
   "id": "8e35d01f",
   "metadata": {},
   "outputs": [
    {
     "data": {
      "text/plain": [
       "{'name': 'mel', 'age': 45, 'courses': ['Math', 'Physics']}"
      ]
     },
     "execution_count": 210,
     "metadata": {},
     "output_type": "execute_result"
    }
   ],
   "source": [
    "## dictionaries can alco be constructed using the dict keyword\n",
    "D3 = dict(name='mel',age=45,courses=['Math','Physics'])\n",
    "D3"
   ]
  },
  {
   "cell_type": "code",
   "execution_count": 211,
   "id": "fa23da52",
   "metadata": {},
   "outputs": [],
   "source": [
    "D3['address'] = '373-00100'"
   ]
  },
  {
   "cell_type": "code",
   "execution_count": 212,
   "id": "4acb36b4",
   "metadata": {},
   "outputs": [
    {
     "data": {
      "text/plain": [
       "{'name': 'mel',\n",
       " 'age': 45,\n",
       " 'courses': ['Math', 'Physics'],\n",
       " 'address': '373-00100'}"
      ]
     },
     "execution_count": 212,
     "metadata": {},
     "output_type": "execute_result"
    }
   ],
   "source": [
    "D3"
   ]
  },
  {
   "cell_type": "code",
   "execution_count": 213,
   "id": "ee492504",
   "metadata": {},
   "outputs": [
    {
     "data": {
      "text/plain": [
       "{'name': 'mel', 'age': 45}"
      ]
     },
     "execution_count": 213,
     "metadata": {},
     "output_type": "execute_result"
    }
   ],
   "source": [
    "dict([('name','mel'),('age',45)])"
   ]
  },
  {
   "cell_type": "markdown",
   "id": "09eeff05",
   "metadata": {},
   "source": [
    "###### Zip function"
   ]
  },
  {
   "cell_type": "code",
   "execution_count": 216,
   "id": "2cd5fa0c",
   "metadata": {},
   "outputs": [],
   "source": [
    "get_id1 = [834167,90103]; get_id2 = [90809,73437]\n"
   ]
  },
  {
   "cell_type": "code",
   "execution_count": 218,
   "id": "2bce1c1f",
   "metadata": {},
   "outputs": [],
   "source": [
    "j = list(zip(get_id1,get_id2))"
   ]
  },
  {
   "cell_type": "code",
   "execution_count": 220,
   "id": "59e2c1c0",
   "metadata": {},
   "outputs": [
    {
     "name": "stdout",
     "output_type": "stream",
     "text": [
      "(834167, 90809)\n",
      "(90103, 73437)\n"
     ]
    }
   ],
   "source": [
    "for k in j:\n",
    "    print(k)"
   ]
  },
  {
   "cell_type": "markdown",
   "id": "e4e61aac",
   "metadata": {},
   "source": [
    "The same concept can be used to create a dictionary: "
   ]
  },
  {
   "cell_type": "code",
   "execution_count": 222,
   "id": "10639d21",
   "metadata": {},
   "outputs": [
    {
     "data": {
      "text/plain": [
       "{'name': 'Billy Adwar',\n",
       " 'address': '272-20200',\n",
       " 'invoice': 'ACC-SINV-2023-0002',\n",
       " 'location': 'Nairobi'}"
      ]
     },
     "execution_count": 222,
     "metadata": {},
     "output_type": "execute_result"
    }
   ],
   "source": [
    "D4 = dict(zip(['name','address','invoice','location'],['Billy Adwar','272-20200','ACC-SINV-2023-0002','Nairobi']))\n",
    "D4"
   ]
  },
  {
   "cell_type": "markdown",
   "id": "0fc8ddb2",
   "metadata": {},
   "source": [
    "### Dictionary Comprehensions"
   ]
  },
  {
   "cell_type": "markdown",
   "id": "7517f1ff",
   "metadata": {},
   "source": [
    "The zip function is a way to construct a dictionary from key and value lists in a single call. If you cannot\n",
    "predict the sets of keys and values in your code, you can always build them up as lists and zip them together:"
   ]
  },
  {
   "cell_type": "code",
   "execution_count": 223,
   "id": "d288a749",
   "metadata": {},
   "outputs": [
    {
     "data": {
      "text/plain": [
       "[('tree', 23), ('spam', 78), ('ham', [90, 89])]"
      ]
     },
     "execution_count": 223,
     "metadata": {},
     "output_type": "execute_result"
    }
   ],
   "source": [
    "list(zip(['tree','spam','ham'],[23,78,[90,89]]))"
   ]
  },
  {
   "cell_type": "code",
   "execution_count": 224,
   "id": "6ec7ddd3",
   "metadata": {},
   "outputs": [
    {
     "data": {
      "text/plain": [
       "{'tree': 23, 'spam': 78, 'ham': [90, 89]}"
      ]
     },
     "execution_count": 224,
     "metadata": {},
     "output_type": "execute_result"
    }
   ],
   "source": [
    "D5 = dict(zip(['tree','spam','ham'],[23,78,[90,89]]))\n",
    "D5"
   ]
  },
  {
   "cell_type": "markdown",
   "id": "ba17dc77",
   "metadata": {},
   "source": [
    "The same can be built in Python using compressions"
   ]
  },
  {
   "cell_type": "code",
   "execution_count": 227,
   "id": "0f6e5af3",
   "metadata": {},
   "outputs": [
    {
     "data": {
      "text/plain": [
       "{'a': 1, 'b': 2, 'c': 3}"
      ]
     },
     "execution_count": 227,
     "metadata": {},
     "output_type": "execute_result"
    }
   ],
   "source": [
    "D6 = {k: v for (k,v) in  zip(['a','b','c'],[1,2,3,4])}\n",
    "D6"
   ]
  },
  {
   "cell_type": "code",
   "execution_count": 228,
   "id": "52003699",
   "metadata": {},
   "outputs": [
    {
     "data": {
      "text/plain": [
       "{'S': 'SSSS', 'P': 'PPPP', 'A': 'AAAA', 'M': 'MMMM'}"
      ]
     },
     "execution_count": 228,
     "metadata": {},
     "output_type": "execute_result"
    }
   ],
   "source": [
    "D7 = {c: c*4 for c in 'SPAM'}\n",
    "D7"
   ]
  },
  {
   "cell_type": "code",
   "execution_count": 229,
   "id": "43dfa866",
   "metadata": {},
   "outputs": [
    {
     "data": {
      "text/plain": [
       "{'spam': [67, -0.6232], 'ham': (90, 90), 'res': 30, 'pixels': [89, [90, 76]]}"
      ]
     },
     "execution_count": 229,
     "metadata": {},
     "output_type": "execute_result"
    }
   ],
   "source": [
    "D"
   ]
  },
  {
   "cell_type": "code",
   "execution_count": 231,
   "id": "4c583c0d",
   "metadata": {},
   "outputs": [
    {
     "data": {
      "text/plain": [
       "{'name': 'mel',\n",
       " 'age': 45,\n",
       " 'courses': ['Math', 'Physics'],\n",
       " 'address': '373-00100'}"
      ]
     },
     "execution_count": 231,
     "metadata": {},
     "output_type": "execute_result"
    }
   ],
   "source": [
    "D3"
   ]
  },
  {
   "cell_type": "code",
   "execution_count": 238,
   "id": "80453477",
   "metadata": {},
   "outputs": [
    {
     "name": "stdout",
     "output_type": "stream",
     "text": [
      "address       \t 373-00100\n",
      "age       \t 45\n",
      "courses       \t ['Math', 'Physics']\n",
      "name       \t mel\n"
     ]
    }
   ],
   "source": [
    "Ks = D3.keys()\n",
    "for k in sorted(Ks): print(k,'      \\t', D3[k])"
   ]
  },
  {
   "cell_type": "markdown",
   "id": "7ceebf73",
   "metadata": {},
   "source": [
    "##### Quizes"
   ]
  },
  {
   "cell_type": "markdown",
   "id": "72da5d2d",
   "metadata": {},
   "source": [
    "Illustrate two ways to build a list with 5 integer zeros: "
   ]
  },
  {
   "cell_type": "code",
   "execution_count": 239,
   "id": "ba845ce4",
   "metadata": {},
   "outputs": [
    {
     "data": {
      "text/plain": [
       "[0, 0, 0, 0, 0]"
      ]
     },
     "execution_count": 239,
     "metadata": {},
     "output_type": "execute_result"
    }
   ],
   "source": [
    "k = [0] * 5\n",
    "k"
   ]
  },
  {
   "cell_type": "code",
   "execution_count": 241,
   "id": "e20f44d0",
   "metadata": {},
   "outputs": [
    {
     "data": {
      "text/plain": [
       "[0, 0, 0, 0, 0]"
      ]
     },
     "execution_count": 241,
     "metadata": {},
     "output_type": "execute_result"
    }
   ],
   "source": [
    "ki = [0,0,0,0,0]\n",
    "ki"
   ]
  },
  {
   "cell_type": "code",
   "execution_count": 243,
   "id": "23f691d7",
   "metadata": {},
   "outputs": [
    {
     "data": {
      "text/plain": [
       "{'a': 0, 'b': 0}"
      ]
     },
     "execution_count": 243,
     "metadata": {},
     "output_type": "execute_result"
    }
   ],
   "source": [
    "valdict = dict(a=0,b=0)\n",
    "valdict"
   ]
  },
  {
   "cell_type": "code",
   "execution_count": 245,
   "id": "18b1c9c1",
   "metadata": {},
   "outputs": [
    {
     "data": {
      "text/plain": [
       "{'a': 0, 'b': 0}"
      ]
     },
     "execution_count": 245,
     "metadata": {},
     "output_type": "execute_result"
    }
   ],
   "source": [
    "valdict1 = {'a':0,'b':0}\n",
    "valdict1"
   ]
  },
  {
   "cell_type": "markdown",
   "id": "49bc5109",
   "metadata": {},
   "source": [
    "Operators that change list object in place: \n",
    "    insert,\n",
    "    append,\n",
    "    remove,pop, extend,sort"
   ]
  },
  {
   "cell_type": "code",
   "execution_count": 246,
   "id": "783ed8d0",
   "metadata": {},
   "outputs": [
    {
     "data": {
      "text/plain": [
       "[7932, 1234]"
      ]
     },
     "execution_count": 246,
     "metadata": {},
     "output_type": "execute_result"
    }
   ],
   "source": [
    "kj = [90,7932,1234]\n",
    "kj[1:]"
   ]
  },
  {
   "cell_type": "code",
   "execution_count": 248,
   "id": "cbe5e8a5",
   "metadata": {},
   "outputs": [],
   "source": [
    "kj.insert(1,876)"
   ]
  },
  {
   "cell_type": "code",
   "execution_count": 249,
   "id": "1d78233a",
   "metadata": {},
   "outputs": [
    {
     "data": {
      "text/plain": [
       "[90, 876, 7932, 1234]"
      ]
     },
     "execution_count": 249,
     "metadata": {},
     "output_type": "execute_result"
    }
   ],
   "source": [
    "kj"
   ]
  },
  {
   "cell_type": "markdown",
   "id": "05b1edc6",
   "metadata": {},
   "source": [
    "## Tuples And Files"
   ]
  },
  {
   "cell_type": "markdown",
   "id": "45a332a9",
   "metadata": {},
   "source": [
    "Tuples, just like lists are ordered collections, only that they cannot be changed in place like lists can be\n",
    "hence they are immutable. It supports sequence operations just like lists"
   ]
  },
  {
   "cell_type": "code",
   "execution_count": 253,
   "id": "c0f1eafa",
   "metadata": {},
   "outputs": [],
   "source": [
    "t = (12,'SPAM',[90,78,65])"
   ]
  },
  {
   "cell_type": "code",
   "execution_count": 254,
   "id": "0b7b132c",
   "metadata": {},
   "outputs": [
    {
     "data": {
      "text/plain": [
       "(12, 'SPAM', [90, 78, 65])"
      ]
     },
     "execution_count": 254,
     "metadata": {},
     "output_type": "execute_result"
    }
   ],
   "source": [
    "t"
   ]
  },
  {
   "cell_type": "code",
   "execution_count": 257,
   "id": "5b898d09",
   "metadata": {},
   "outputs": [
    {
     "data": {
      "text/plain": [
       "('SPAM', [90, 78, 65])"
      ]
     },
     "execution_count": 257,
     "metadata": {},
     "output_type": "execute_result"
    }
   ],
   "source": [
    "t[1:]"
   ]
  },
  {
   "cell_type": "code",
   "execution_count": 258,
   "id": "cdfbf942",
   "metadata": {},
   "outputs": [
    {
     "data": {
      "text/plain": [
       "True"
      ]
     },
     "execution_count": 258,
     "metadata": {},
     "output_type": "execute_result"
    }
   ],
   "source": [
    "'SPAM' in t"
   ]
  },
  {
   "cell_type": "code",
   "execution_count": 259,
   "id": "b3e01f4f",
   "metadata": {},
   "outputs": [
    {
     "data": {
      "text/plain": [
       "(12, 'SPAM', [90, 78, 65], 12, 'SPAM', [90, 78, 65], 12, 'SPAM', [90, 78, 65])"
      ]
     },
     "execution_count": 259,
     "metadata": {},
     "output_type": "execute_result"
    }
   ],
   "source": [
    "t * 3"
   ]
  },
  {
   "cell_type": "code",
   "execution_count": 261,
   "id": "6de32f20",
   "metadata": {},
   "outputs": [
    {
     "data": {
      "text/plain": [
       "(2, 3, 9)"
      ]
     },
     "execution_count": 261,
     "metadata": {},
     "output_type": "execute_result"
    }
   ],
   "source": [
    "(2,3) + (9,) ## add trailing comma to single object tuple"
   ]
  },
  {
   "cell_type": "code",
   "execution_count": 263,
   "id": "10898f54",
   "metadata": {},
   "outputs": [
    {
     "data": {
      "text/plain": [
       "['__add__',\n",
       " '__class__',\n",
       " '__class_getitem__',\n",
       " '__contains__',\n",
       " '__delattr__',\n",
       " '__dir__',\n",
       " '__doc__',\n",
       " '__eq__',\n",
       " '__format__',\n",
       " '__ge__',\n",
       " '__getattribute__',\n",
       " '__getitem__',\n",
       " '__getnewargs__',\n",
       " '__gt__',\n",
       " '__hash__',\n",
       " '__init__',\n",
       " '__init_subclass__',\n",
       " '__iter__',\n",
       " '__le__',\n",
       " '__len__',\n",
       " '__lt__',\n",
       " '__mul__',\n",
       " '__ne__',\n",
       " '__new__',\n",
       " '__reduce__',\n",
       " '__reduce_ex__',\n",
       " '__repr__',\n",
       " '__rmul__',\n",
       " '__setattr__',\n",
       " '__sizeof__',\n",
       " '__str__',\n",
       " '__subclasshook__',\n",
       " 'count',\n",
       " 'index']"
      ]
     },
     "execution_count": 263,
     "metadata": {},
     "output_type": "execute_result"
    }
   ],
   "source": [
    "t1 = ('cc','aa','dd','bb')\n",
    "dir(t1)"
   ]
  },
  {
   "cell_type": "code",
   "execution_count": 264,
   "id": "646fb46d",
   "metadata": {},
   "outputs": [],
   "source": [
    "tmp = list(t1)"
   ]
  },
  {
   "cell_type": "code",
   "execution_count": 265,
   "id": "e43f7aeb",
   "metadata": {},
   "outputs": [
    {
     "data": {
      "text/plain": [
       "['cc', 'aa', 'dd', 'bb']"
      ]
     },
     "execution_count": 265,
     "metadata": {},
     "output_type": "execute_result"
    }
   ],
   "source": [
    "tmp"
   ]
  },
  {
   "cell_type": "code",
   "execution_count": 266,
   "id": "b4958227",
   "metadata": {},
   "outputs": [
    {
     "data": {
      "text/plain": [
       "['aa', 'bb', 'cc', 'dd']"
      ]
     },
     "execution_count": 266,
     "metadata": {},
     "output_type": "execute_result"
    }
   ],
   "source": [
    "sorted(tmp)"
   ]
  },
  {
   "cell_type": "code",
   "execution_count": 268,
   "id": "ce4ca47c",
   "metadata": {},
   "outputs": [
    {
     "data": {
      "text/plain": [
       "('aa', 'bb', 'cc', 'dd')"
      ]
     },
     "execution_count": 268,
     "metadata": {},
     "output_type": "execute_result"
    }
   ],
   "source": [
    "tuple(sorted(t1))"
   ]
  },
  {
   "cell_type": "code",
   "execution_count": 269,
   "id": "9c22df2b",
   "metadata": {},
   "outputs": [],
   "source": [
    "T = (1,2,6,90,78)"
   ]
  },
  {
   "cell_type": "code",
   "execution_count": 270,
   "id": "b54afdbb",
   "metadata": {},
   "outputs": [],
   "source": [
    "L1= [x + 20 for x in T]"
   ]
  },
  {
   "cell_type": "code",
   "execution_count": 272,
   "id": "288642f2",
   "metadata": {},
   "outputs": [
    {
     "data": {
      "text/plain": [
       "[21, 22, 26, 110, 98]"
      ]
     },
     "execution_count": 272,
     "metadata": {},
     "output_type": "execute_result"
    }
   ],
   "source": [
    "L1"
   ]
  },
  {
   "cell_type": "markdown",
   "id": "4f21be0a",
   "metadata": {},
   "source": [
    "List compressions can be used to build new lists and iterate over any sequence objects including tuples, strings & lists."
   ]
  },
  {
   "cell_type": "code",
   "execution_count": 274,
   "id": "795ba508",
   "metadata": {},
   "outputs": [
    {
     "data": {
      "text/plain": [
       "1"
      ]
     },
     "execution_count": 274,
     "metadata": {},
     "output_type": "execute_result"
    }
   ],
   "source": [
    "T.count(2)"
   ]
  },
  {
   "cell_type": "code",
   "execution_count": 275,
   "id": "6da1cf71",
   "metadata": {},
   "outputs": [
    {
     "data": {
      "text/plain": [
       "1"
      ]
     },
     "execution_count": 275,
     "metadata": {},
     "output_type": "execute_result"
    }
   ],
   "source": [
    "T.index(2)"
   ]
  },
  {
   "cell_type": "code",
   "execution_count": 278,
   "id": "4eb1bac2",
   "metadata": {},
   "outputs": [
    {
     "ename": "TypeError",
     "evalue": "'tuple' object does not support item assignment",
     "output_type": "error",
     "traceback": [
      "\u001b[0;31m---------------------------------------------------------------------------\u001b[0m",
      "\u001b[0;31mTypeError\u001b[0m                                 Traceback (most recent call last)",
      "Cell \u001b[0;32mIn[278], line 1\u001b[0m\n\u001b[0;32m----> 1\u001b[0m t[\u001b[38;5;241m1\u001b[39m] \u001b[38;5;241m=\u001b[39m \u001b[38;5;241m90\u001b[39m\n",
      "\u001b[0;31mTypeError\u001b[0m: 'tuple' object does not support item assignment"
     ]
    }
   ],
   "source": [
    "t[1] = 90 ## This is the case of immutability"
   ]
  },
  {
   "cell_type": "code",
   "execution_count": 280,
   "id": "de5b5cd5",
   "metadata": {},
   "outputs": [],
   "source": [
    "t[2].append([90,89])"
   ]
  },
  {
   "cell_type": "code",
   "execution_count": 285,
   "id": "305f7ce2",
   "metadata": {},
   "outputs": [
    {
     "data": {
      "text/plain": [
       "(12, 'SPAM', [[12, 45, 67], 78, 65, [90, 89]])"
      ]
     },
     "execution_count": 285,
     "metadata": {},
     "output_type": "execute_result"
    }
   ],
   "source": [
    "t[2][0] = [12,45,67]\n",
    "t"
   ]
  },
  {
   "cell_type": "code",
   "execution_count": 286,
   "id": "35fbdef6",
   "metadata": {},
   "outputs": [
    {
     "data": {
      "text/plain": [
       "(12, 'SPAM', [[12, 45, 67], 78, 65, [90, 89]])"
      ]
     },
     "execution_count": 286,
     "metadata": {},
     "output_type": "execute_result"
    }
   ],
   "source": [
    "t"
   ]
  },
  {
   "cell_type": "markdown",
   "id": "deaf223c",
   "metadata": {},
   "source": [
    "Immutability applies on the top level of the tuple itself, not to its contents"
   ]
  },
  {
   "cell_type": "markdown",
   "id": "a8f668ba",
   "metadata": {},
   "source": [
    "Tuples are used when the ordered collection needs to remain the same, while lists are used when the ordered collection needs to grow and change"
   ]
  },
  {
   "cell_type": "markdown",
   "id": "2747f54b",
   "metadata": {},
   "source": [
    "## Files"
   ]
  },
  {
   "cell_type": "code",
   "execution_count": 300,
   "id": "2ab28a64",
   "metadata": {},
   "outputs": [],
   "source": [
    "test_file  = open('test_file.txt')\n",
    "test_file.readlines()\n",
    "test_file.close()"
   ]
  },
  {
   "cell_type": "code",
   "execution_count": 313,
   "id": "f3c02b9a",
   "metadata": {},
   "outputs": [
    {
     "name": "stdout",
     "output_type": "stream",
     "text": [
      "['Here we come\\n']\n"
     ]
    }
   ],
   "source": [
    "with open('test_file.txt','r') as text_file:\n",
    "    text = text_file.readlines()\n",
    "    \n",
    "print(text)    "
   ]
  },
  {
   "cell_type": "markdown",
   "id": "b5dcb22f",
   "metadata": {},
   "source": [
    "File handling modes are such as:\n",
    "* 'r' to open for text input\n",
    "* 'w' to create and open for text output\n",
    "* 'a' top open for appending text to the end\n",
    "* 'b' for binary data\n",
    "\n",
    "Adding a + opens the file for both input abd output: you can both read and write to the same file object"
   ]
  },
  {
   "cell_type": "code",
   "execution_count": 310,
   "id": "aaf107a2",
   "metadata": {},
   "outputs": [],
   "source": [
    "spam = \"Here we come\\n\"\n",
    "with open('test_file.txt','w') as new_file:\n",
    "    #data = new_file.readlines()\n",
    "    new_file.write(spam)\n",
    "#print(data)    "
   ]
  },
  {
   "cell_type": "markdown",
   "id": "9986e3d9",
   "metadata": {},
   "source": [
    "* The == operator tests for value equivalence\n",
    "* The is operator tests for object identity"
   ]
  },
  {
   "cell_type": "code",
   "execution_count": 314,
   "id": "f376cc78",
   "metadata": {},
   "outputs": [],
   "source": [
    "s1 = 'spam'\n",
    "s2 = 'spam'"
   ]
  },
  {
   "cell_type": "code",
   "execution_count": 315,
   "id": "16632c3d",
   "metadata": {},
   "outputs": [
    {
     "name": "stdout",
     "output_type": "stream",
     "text": [
      "True\n"
     ]
    }
   ],
   "source": [
    "if(s1 == s2): print(True)"
   ]
  },
  {
   "cell_type": "code",
   "execution_count": 316,
   "id": "a3d917b2",
   "metadata": {},
   "outputs": [
    {
     "name": "stdout",
     "output_type": "stream",
     "text": [
      "True\n"
     ]
    }
   ],
   "source": [
    "if(s1 is s2): print(True)"
   ]
  },
  {
   "cell_type": "code",
   "execution_count": 317,
   "id": "f3a731c8",
   "metadata": {},
   "outputs": [],
   "source": [
    "set_a = {7,9,'spa,'}"
   ]
  },
  {
   "cell_type": "code",
   "execution_count": 322,
   "id": "ae8f72a8",
   "metadata": {},
   "outputs": [],
   "source": [
    "set_a.add(90)"
   ]
  },
  {
   "cell_type": "code",
   "execution_count": 323,
   "id": "2f64bc3d",
   "metadata": {},
   "outputs": [
    {
     "data": {
      "text/plain": [
       "{7, 9, 90, 'spa,'}"
      ]
     },
     "execution_count": 323,
     "metadata": {},
     "output_type": "execute_result"
    }
   ],
   "source": [
    "set_a"
   ]
  },
  {
   "cell_type": "markdown",
   "id": "7378aabd",
   "metadata": {},
   "source": [
    "#### Assignments create references, Not Copies"
   ]
  },
  {
   "cell_type": "markdown",
   "id": "a53ec5e0",
   "metadata": {},
   "source": [
    "Shared references are important in kniwing what is going on in the Python program "
   ]
  },
  {
   "cell_type": "markdown",
   "id": "1bb00dcb",
   "metadata": {},
   "source": [
    "As seen below, the list l is referenced inside another list M. Hence changing l in-place, changes what M references too"
   ]
  },
  {
   "cell_type": "code",
   "execution_count": null,
   "id": "d086a602",
   "metadata": {},
   "outputs": [],
   "source": []
  },
  {
   "cell_type": "code",
   "execution_count": 324,
   "id": "0c10b39a",
   "metadata": {},
   "outputs": [],
   "source": [
    "l =[1,2,3]"
   ]
  },
  {
   "cell_type": "code",
   "execution_count": 325,
   "id": "76ddf7bb",
   "metadata": {},
   "outputs": [],
   "source": [
    "M = ['X',l,'Y']"
   ]
  },
  {
   "cell_type": "code",
   "execution_count": 326,
   "id": "dbb44841",
   "metadata": {},
   "outputs": [
    {
     "data": {
      "text/plain": [
       "['X', [1, 2, 3], 'Y']"
      ]
     },
     "execution_count": 326,
     "metadata": {},
     "output_type": "execute_result"
    }
   ],
   "source": [
    "M"
   ]
  },
  {
   "cell_type": "code",
   "execution_count": 329,
   "id": "c8b3de4b",
   "metadata": {},
   "outputs": [],
   "source": [
    "l[0] = 99 ## change a certain value in l"
   ]
  },
  {
   "cell_type": "code",
   "execution_count": 330,
   "id": "ae44a936",
   "metadata": {},
   "outputs": [
    {
     "data": {
      "text/plain": [
       "['X', [99, 2, 3], 'Y']"
      ]
     },
     "execution_count": 330,
     "metadata": {},
     "output_type": "execute_result"
    }
   ],
   "source": [
    "M ## changes M too"
   ]
  },
  {
   "cell_type": "code",
   "execution_count": null,
   "id": "6a088365",
   "metadata": {},
   "outputs": [],
   "source": []
  },
  {
   "cell_type": "code",
   "execution_count": 331,
   "id": "dd447091",
   "metadata": {},
   "outputs": [],
   "source": [
    "tr = (4,5,6)"
   ]
  },
  {
   "cell_type": "code",
   "execution_count": 337,
   "id": "bd77a6a2",
   "metadata": {},
   "outputs": [],
   "source": [
    "kh = list(tr)\n",
    "kh[0] = 1"
   ]
  },
  {
   "cell_type": "code",
   "execution_count": 339,
   "id": "8c90fd4d",
   "metadata": {},
   "outputs": [
    {
     "data": {
      "text/plain": [
       "(1, 5, 6)"
      ]
     },
     "execution_count": 339,
     "metadata": {},
     "output_type": "execute_result"
    }
   ],
   "source": [
    "tuple(kh)"
   ]
  },
  {
   "cell_type": "code",
   "execution_count": 340,
   "id": "548dfe15",
   "metadata": {},
   "outputs": [],
   "source": [
    "strin = \"This is it\"\n",
    "with open('new_file.txt','w') as file_new:\n",
    "    file_new.write(strin)"
   ]
  },
  {
   "cell_type": "code",
   "execution_count": 342,
   "id": "2804a040",
   "metadata": {},
   "outputs": [
    {
     "name": "stdout",
     "output_type": "stream",
     "text": [
      "['This is it']\n"
     ]
    }
   ],
   "source": [
    "with open('new_file.txt','r') as fl:\n",
    "    data = fl.readlines()\n",
    "print(data)    "
   ]
  },
  {
   "cell_type": "code",
   "execution_count": null,
   "id": "bf43fbc0",
   "metadata": {},
   "outputs": [],
   "source": []
  },
  {
   "cell_type": "code",
   "execution_count": null,
   "id": "79cfa928",
   "metadata": {},
   "outputs": [],
   "source": []
  },
  {
   "cell_type": "code",
   "execution_count": null,
   "id": "3800048c",
   "metadata": {},
   "outputs": [],
   "source": []
  },
  {
   "cell_type": "code",
   "execution_count": 352,
   "id": "d7dc6feb",
   "metadata": {},
   "outputs": [],
   "source": [
    "class Dog:\n",
    "    def __init__(self,name):\n",
    "        self.name = name\n",
    "        self.legs = 4\n",
    "    def speak(self):\n",
    "        print(self.name + ' Says Yes')"
   ]
  },
  {
   "cell_type": "code",
   "execution_count": 386,
   "id": "50dfc4ac",
   "metadata": {},
   "outputs": [
    {
     "data": {
      "text/plain": [
       "__main__.Dog"
      ]
     },
     "execution_count": 386,
     "metadata": {},
     "output_type": "execute_result"
    }
   ],
   "source": [
    "type(Dog('Greener'))"
   ]
  },
  {
   "cell_type": "code",
   "execution_count": 362,
   "id": "cd858f62",
   "metadata": {},
   "outputs": [
    {
     "name": "stdout",
     "output_type": "stream",
     "text": [
      "Greener Says Yes\n"
     ]
    }
   ],
   "source": [
    "my_dg.speak()"
   ]
  },
  {
   "cell_type": "code",
   "execution_count": 380,
   "id": "2701fcd1",
   "metadata": {},
   "outputs": [],
   "source": [
    "def factorials(num):\n",
    "    if type(num) is not int:\n",
    "        return None\n",
    "    if num < 0:\n",
    "        num = abs(num)\n",
    "    if num == 0:\n",
    "        num =1\n",
    "    i = 0\n",
    "    f = 1\n",
    "    while i < num:\n",
    "        i += 1\n",
    "        f = f * i\n",
    "    return f "
   ]
  },
  {
   "cell_type": "code",
   "execution_count": 381,
   "id": "347049b5",
   "metadata": {},
   "outputs": [
    {
     "data": {
      "text/plain": [
       "3628800"
      ]
     },
     "execution_count": 381,
     "metadata": {},
     "output_type": "execute_result"
    }
   ],
   "source": [
    "factorials(-10)"
   ]
  },
  {
   "cell_type": "code",
   "execution_count": 382,
   "id": "0ad51acd",
   "metadata": {},
   "outputs": [],
   "source": [
    "def factorials_two(num):\n",
    "    if type(num) is not int:\n",
    "        return None\n",
    "    if num < 0:\n",
    "        num = abs(num)\n",
    "    if num == 0:\n",
    "        return 1\n",
    "    \n",
    "    return num * factorials_two(num -1) ## we can also use recursive functions to achieve the same"
   ]
  },
  {
   "cell_type": "code",
   "execution_count": 385,
   "id": "b066f175",
   "metadata": {},
   "outputs": [
    {
     "data": {
      "text/plain": [
       "24"
      ]
     },
     "execution_count": 385,
     "metadata": {},
     "output_type": "execute_result"
    }
   ],
   "source": [
    "factorials_two(4)"
   ]
  },
  {
   "cell_type": "code",
   "execution_count": null,
   "id": "c91c87a4",
   "metadata": {},
   "outputs": [],
   "source": []
  },
  {
   "cell_type": "code",
   "execution_count": null,
   "id": "445f77bc",
   "metadata": {},
   "outputs": [],
   "source": []
  },
  {
   "cell_type": "code",
   "execution_count": null,
   "id": "ad393f51",
   "metadata": {},
   "outputs": [],
   "source": []
  },
  {
   "cell_type": "code",
   "execution_count": null,
   "id": "dfaf02b6",
   "metadata": {},
   "outputs": [],
   "source": []
  }
 ],
 "metadata": {
  "kernelspec": {
   "display_name": "Python 3 (ipykernel)",
   "language": "python",
   "name": "python3"
  },
  "language_info": {
   "codemirror_mode": {
    "name": "ipython",
    "version": 3
   },
   "file_extension": ".py",
   "mimetype": "text/x-python",
   "name": "python",
   "nbconvert_exporter": "python",
   "pygments_lexer": "ipython3",
   "version": "3.10.9"
  }
 },
 "nbformat": 4,
 "nbformat_minor": 5
}
