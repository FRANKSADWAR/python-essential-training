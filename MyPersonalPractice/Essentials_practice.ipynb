{
 "cells": [
  {
   "cell_type": "markdown",
   "id": "af18bae8",
   "metadata": {},
   "source": [
    "### Type categories"
   ]
  },
  {
   "cell_type": "markdown",
   "id": "e63e6fb9",
   "metadata": {},
   "source": [
    "> There are three major type categories in Python: \n",
    "    1. Numbers (integer, floats, decimal, fraction etc.)\n",
    "    2. Sequences: Strings, Lists, tuples\n",
    "    3. Mappings: Dictionaries\n",
    "    4. Others are sets, frozensets"
   ]
  },
  {
   "cell_type": "markdown",
   "id": "1f57ed90",
   "metadata": {},
   "source": [
    "The major core types in Python can be broken down as follows: \n",
    "   > Immutable types (numbers, strings, tuples, frosensets)\n",
    "   > Mutable types: Lists, Dictionaries, Sets"
   ]
  },
  {
   "cell_type": "code",
   "execution_count": null,
   "id": "c3174500",
   "metadata": {},
   "outputs": [],
   "source": []
  },
  {
   "cell_type": "code",
   "execution_count": 1,
   "id": "aff9ba81",
   "metadata": {},
   "outputs": [],
   "source": [
    "res = dict(a=[90,90,78])"
   ]
  },
  {
   "cell_type": "code",
   "execution_count": 2,
   "id": "ba3d5b25",
   "metadata": {},
   "outputs": [
    {
     "data": {
      "text/plain": [
       "{'a': [90, 90, 78]}"
      ]
     },
     "execution_count": 2,
     "metadata": {},
     "output_type": "execute_result"
    }
   ],
   "source": [
    "res"
   ]
  },
  {
   "cell_type": "code",
   "execution_count": 3,
   "id": "7e59b8cc",
   "metadata": {},
   "outputs": [],
   "source": [
    "res['b'] = ['spam','tree',89,53]"
   ]
  },
  {
   "cell_type": "code",
   "execution_count": 4,
   "id": "0d938671",
   "metadata": {},
   "outputs": [
    {
     "data": {
      "text/plain": [
       "{'a': [90, 90, 78], 'b': ['spam', 'tree', 89, 53]}"
      ]
     },
     "execution_count": 4,
     "metadata": {},
     "output_type": "execute_result"
    }
   ],
   "source": [
    "res"
   ]
  },
  {
   "cell_type": "code",
   "execution_count": 6,
   "id": "2370d1c3",
   "metadata": {},
   "outputs": [],
   "source": [
    "list_res = res['b']"
   ]
  },
  {
   "cell_type": "code",
   "execution_count": 7,
   "id": "221bb1b0",
   "metadata": {},
   "outputs": [
    {
     "data": {
      "text/plain": [
       "['spam', 'tree', 89, 53]"
      ]
     },
     "execution_count": 7,
     "metadata": {},
     "output_type": "execute_result"
    }
   ],
   "source": [
    "list_res"
   ]
  },
  {
   "cell_type": "code",
   "execution_count": 13,
   "id": "4e298eb6",
   "metadata": {},
   "outputs": [],
   "source": [
    "str_spam = list_res[0]"
   ]
  },
  {
   "cell_type": "code",
   "execution_count": 15,
   "id": "1b28b7e0",
   "metadata": {},
   "outputs": [
    {
     "data": {
      "text/plain": [
       "'spam'"
      ]
     },
     "execution_count": 15,
     "metadata": {},
     "output_type": "execute_result"
    }
   ],
   "source": [
    "str_spam.strip()"
   ]
  },
  {
   "cell_type": "markdown",
   "id": "191c4187",
   "metadata": {},
   "source": [
    "crete a list from a string"
   ]
  },
  {
   "cell_type": "code",
   "execution_count": 18,
   "id": "5bf4fee4",
   "metadata": {},
   "outputs": [],
   "source": [
    "list_str=list(str_spam)"
   ]
  },
  {
   "cell_type": "markdown",
   "id": "6c79f3ab",
   "metadata": {},
   "source": [
    "Convert back to ctring"
   ]
  },
  {
   "cell_type": "code",
   "execution_count": 19,
   "id": "2be58580",
   "metadata": {},
   "outputs": [
    {
     "data": {
      "text/plain": [
       "'spam'"
      ]
     },
     "execution_count": 19,
     "metadata": {},
     "output_type": "execute_result"
    }
   ],
   "source": [
    "''.join(list_str)"
   ]
  },
  {
   "cell_type": "markdown",
   "id": "695809a1",
   "metadata": {},
   "source": [
    "##### Slicing Techniques can also be applied"
   ]
  },
  {
   "cell_type": "code",
   "execution_count": 23,
   "id": "772caee8",
   "metadata": {},
   "outputs": [],
   "source": [
    "line = 'ACC-INV-2023-001 ADWAR BILLY'"
   ]
  },
  {
   "cell_type": "code",
   "execution_count": 24,
   "id": "b2bbb346",
   "metadata": {},
   "outputs": [
    {
     "data": {
      "text/plain": [
       "['ACC-INV-2023-001', 'ADWAR', 'BILLY']"
      ]
     },
     "execution_count": 24,
     "metadata": {},
     "output_type": "execute_result"
    }
   ],
   "source": [
    "line.split(' ')"
   ]
  },
  {
   "cell_type": "code",
   "execution_count": 27,
   "id": "70abe7db",
   "metadata": {},
   "outputs": [],
   "source": [
    "invoice_number = line.split(' ')[0]\n",
    "name = line.split(' ')[1:]"
   ]
  },
  {
   "cell_type": "code",
   "execution_count": 32,
   "id": "58b57aaf",
   "metadata": {},
   "outputs": [
    {
     "data": {
      "text/plain": [
       "'ADWAR BILLY'"
      ]
     },
     "execution_count": 32,
     "metadata": {},
     "output_type": "execute_result"
    }
   ],
   "source": [
    "customer_name = ' '.join(name)\n",
    "customer_name"
   ]
  },
  {
   "cell_type": "code",
   "execution_count": 34,
   "id": "429a84aa",
   "metadata": {},
   "outputs": [
    {
     "data": {
      "text/plain": [
       "['Bob', ' hacked the news']"
      ]
     },
     "execution_count": 34,
     "metadata": {},
     "output_type": "execute_result"
    }
   ],
   "source": [
    "new_line = 'Bob, hacked the news'\n",
    "new_line.split(',')"
   ]
  },
  {
   "cell_type": "code",
   "execution_count": 37,
   "id": "b3571cea",
   "metadata": {},
   "outputs": [
    {
     "data": {
      "text/plain": [
       "'THE KNIGHTS WHO SAY NI!\\n'"
      ]
     },
     "execution_count": 37,
     "metadata": {},
     "output_type": "execute_result"
    }
   ],
   "source": [
    "the_line = \"The knights who say Ni!\\n\"\n",
    "the_line.upper()"
   ]
  },
  {
   "cell_type": "code",
   "execution_count": 38,
   "id": "e81a91fe",
   "metadata": {},
   "outputs": [
    {
     "data": {
      "text/plain": [
       "'The knights who say Ni!'"
      ]
     },
     "execution_count": 38,
     "metadata": {},
     "output_type": "execute_result"
    }
   ],
   "source": [
    "the_line.rstrip()"
   ]
  },
  {
   "cell_type": "code",
   "execution_count": 40,
   "id": "41c1e664",
   "metadata": {},
   "outputs": [
    {
     "data": {
      "text/plain": [
       "True"
      ]
     },
     "execution_count": 40,
     "metadata": {},
     "output_type": "execute_result"
    }
   ],
   "source": [
    "the_line.find('Ni') != -1"
   ]
  },
  {
   "cell_type": "code",
   "execution_count": 44,
   "id": "89f6da2d",
   "metadata": {},
   "outputs": [
    {
     "data": {
      "text/plain": [
       "True"
      ]
     },
     "execution_count": 44,
     "metadata": {},
     "output_type": "execute_result"
    }
   ],
   "source": [
    "'Ni' in the_line"
   ]
  },
  {
   "cell_type": "code",
   "execution_count": 45,
   "id": "b0c33a08",
   "metadata": {},
   "outputs": [
    {
     "data": {
      "text/plain": [
       "True"
      ]
     },
     "execution_count": 45,
     "metadata": {},
     "output_type": "execute_result"
    }
   ],
   "source": [
    "sub = 'Ni!\\n'\n",
    "the_line.endswith(sub)"
   ]
  },
  {
   "cell_type": "code",
   "execution_count": 48,
   "id": "adef366c",
   "metadata": {},
   "outputs": [
    {
     "data": {
      "text/plain": [
       "True"
      ]
     },
     "execution_count": 48,
     "metadata": {},
     "output_type": "execute_result"
    }
   ],
   "source": [
    "the_line[-len(sub):] == sub\n"
   ]
  },
  {
   "cell_type": "code",
   "execution_count": 50,
   "id": "32b22d2c",
   "metadata": {},
   "outputs": [
    {
     "data": {
      "text/plain": [
       "'Ni!\\n'"
      ]
     },
     "execution_count": 50,
     "metadata": {},
     "output_type": "execute_result"
    }
   ],
   "source": [
    "the_line[-4:]"
   ]
  },
  {
   "cell_type": "markdown",
   "id": "9c98b266",
   "metadata": {},
   "source": [
    "##### String formatting expressions"
   ]
  },
  {
   "cell_type": "code",
   "execution_count": 52,
   "id": "eae5001c",
   "metadata": {},
   "outputs": [],
   "source": [
    "x = 90.989"
   ]
  },
  {
   "cell_type": "code",
   "execution_count": 53,
   "id": "82ab2e9f",
   "metadata": {},
   "outputs": [
    {
     "data": {
      "text/plain": [
       "'90.989000 | 90.989000 is the best Number'"
      ]
     },
     "execution_count": 53,
     "metadata": {},
     "output_type": "execute_result"
    }
   ],
   "source": [
    "\"%f | %f is the best %s\" % (x, x, 'Number')"
   ]
  },
  {
   "cell_type": "code",
   "execution_count": 55,
   "id": "c11d43fb",
   "metadata": {},
   "outputs": [
    {
     "data": {
      "text/plain": [
       "'90.99 means it has been rounded off'"
      ]
     },
     "execution_count": 55,
     "metadata": {},
     "output_type": "execute_result"
    }
   ],
   "source": [
    "\"%.2f means it has been rounded off\" % (x)"
   ]
  },
  {
   "cell_type": "markdown",
   "id": "b25dfa41",
   "metadata": {},
   "source": [
    "> String formatting also allows conversion targets on the left to refer to the keys in a dictionary on the right and fetch \n",
    "the corresponding values."
   ]
  },
  {
   "cell_type": "code",
   "execution_count": 87,
   "id": "8959bfed",
   "metadata": {},
   "outputs": [
    {
     "data": {
      "text/plain": [
       "'90.723000 reflects spam'"
      ]
     },
     "execution_count": 87,
     "metadata": {},
     "output_type": "execute_result"
    }
   ],
   "source": [
    "\"%(n)f reflects %(x)s\" % {\"n\": 90.723, \"x\":'spam'}"
   ]
  },
  {
   "cell_type": "code",
   "execution_count": 88,
   "id": "1536b30a",
   "metadata": {},
   "outputs": [
    {
     "data": {
      "text/plain": [
       "'90.72 reflects spam'"
      ]
     },
     "execution_count": 88,
     "metadata": {},
     "output_type": "execute_result"
    }
   ],
   "source": [
    "\"%(n).2f reflects %(x)s\" % {\"n\": 90.723, \"x\":'spam'}"
   ]
  },
  {
   "cell_type": "code",
   "execution_count": 58,
   "id": "50d80346",
   "metadata": {},
   "outputs": [
    {
     "data": {
      "text/plain": [
       "{'name': 'Billy Adwar', 'party balance': 78900, 'company': 'Oduk Tech'}"
      ]
     },
     "execution_count": 58,
     "metadata": {},
     "output_type": "execute_result"
    }
   ],
   "source": [
    "dict_message = {'name' :'Billy Adwar','party balance':78900,'company':'Oduk Tech'}\n",
    "dict_message"
   ]
  },
  {
   "cell_type": "code",
   "execution_count": 60,
   "id": "ee0f2cf6",
   "metadata": {},
   "outputs": [
    {
     "data": {
      "text/plain": [
       "'Customer Billy Adwar has a balance of 78900.000000 in Oduk Tech'"
      ]
     },
     "execution_count": 60,
     "metadata": {},
     "output_type": "execute_result"
    }
   ],
   "source": [
    "\"Customer %(name)s has a balance of %(party balance)f in %(company)s\" % dict_message"
   ]
  },
  {
   "cell_type": "markdown",
   "id": "3ac334dd",
   "metadata": {},
   "source": [
    "###### Adding keys, attributes, offsets"
   ]
  },
  {
   "cell_type": "code",
   "execution_count": 123,
   "id": "eff46572",
   "metadata": {},
   "outputs": [
    {
     "data": {
      "text/plain": [
       "'My laptop runs linux'"
      ]
     },
     "execution_count": 123,
     "metadata": {},
     "output_type": "execute_result"
    }
   ],
   "source": [
    "import sys\n",
    "'My {1[spam]} runs {0.platform}'.format(sys,{'spam':'laptop'})"
   ]
  },
  {
   "cell_type": "code",
   "execution_count": 63,
   "id": "268e22ca",
   "metadata": {},
   "outputs": [
    {
     "data": {
      "text/plain": [
       "'linux'"
      ]
     },
     "execution_count": 63,
     "metadata": {},
     "output_type": "execute_result"
    }
   ],
   "source": [
    "sys.platform"
   ]
  },
  {
   "cell_type": "code",
   "execution_count": 68,
   "id": "9183f76b",
   "metadata": {},
   "outputs": [
    {
     "data": {
      "text/plain": [
       "['s', 'p', 'a', 'm']"
      ]
     },
     "execution_count": 68,
     "metadata": {},
     "output_type": "execute_result"
    }
   ],
   "source": [
    "list_str"
   ]
  },
  {
   "cell_type": "code",
   "execution_count": 69,
   "id": "004b9a9b",
   "metadata": {},
   "outputs": [
    {
     "data": {
      "text/plain": [
       "'first=s, third = a'"
      ]
     },
     "execution_count": 69,
     "metadata": {},
     "output_type": "execute_result"
    }
   ],
   "source": [
    "'first={0[0]}, third = {0[2]}'.format(list_str)"
   ]
  },
  {
   "cell_type": "markdown",
   "id": "0c385463",
   "metadata": {},
   "source": [
    "##### Adding specific formatting"
   ]
  },
  {
   "cell_type": "code",
   "execution_count": 70,
   "id": "21418076",
   "metadata": {},
   "outputs": [
    {
     "data": {
      "text/plain": [
       "'spam       =   123.9723'"
      ]
     },
     "execution_count": 70,
     "metadata": {},
     "output_type": "execute_result"
    }
   ],
   "source": [
    "'{0:10} = {1:10}'.format('spam',123.9723)"
   ]
  },
  {
   "cell_type": "code",
   "execution_count": 77,
   "id": "643a23c6",
   "metadata": {},
   "outputs": [
    {
     "data": {
      "text/plain": [
       "'Amount paid is Ksh 90000'"
      ]
     },
     "execution_count": 77,
     "metadata": {},
     "output_type": "execute_result"
    }
   ],
   "source": [
    "'Amount paid is {0:2} {1:2}'.format('Ksh',90000)"
   ]
  },
  {
   "cell_type": "code",
   "execution_count": 84,
   "id": "7c8ff829",
   "metadata": {},
   "outputs": [
    {
     "data": {
      "text/plain": [
       "'Amount paid is Ksh        =      90000'"
      ]
     },
     "execution_count": 84,
     "metadata": {},
     "output_type": "execute_result"
    }
   ],
   "source": [
    "'Amount paid is {0:<10} = {1:10}'.format('Ksh',90000)"
   ]
  },
  {
   "cell_type": "code",
   "execution_count": 80,
   "id": "700c9120",
   "metadata": {},
   "outputs": [
    {
     "data": {
      "text/plain": [
       "'     linux = laptop    '"
      ]
     },
     "execution_count": 80,
     "metadata": {},
     "output_type": "execute_result"
    }
   ],
   "source": [
    "'{0.platform: >10} = {1[item]:<10}'.format(sys,dict(item='laptop'))"
   ]
  },
  {
   "cell_type": "markdown",
   "id": "30ca82c3",
   "metadata": {},
   "source": [
    "#### Sets"
   ]
  },
  {
   "cell_type": "markdown",
   "id": "50215eff",
   "metadata": {},
   "source": [
    "Every element in a set has to be unique"
   ]
  },
  {
   "cell_type": "code",
   "execution_count": 89,
   "id": "8408b34d",
   "metadata": {},
   "outputs": [
    {
     "data": {
      "text/plain": [
       "{78, 87, 90}"
      ]
     },
     "execution_count": 89,
     "metadata": {},
     "output_type": "execute_result"
    }
   ],
   "source": [
    "my_set = {78,90,87}\n",
    "my_set"
   ]
  },
  {
   "cell_type": "code",
   "execution_count": 90,
   "id": "42da7572",
   "metadata": {},
   "outputs": [
    {
     "data": {
      "text/plain": [
       "True"
      ]
     },
     "execution_count": 90,
     "metadata": {},
     "output_type": "execute_result"
    }
   ],
   "source": [
    "isinstance(my_set, set)"
   ]
  },
  {
   "cell_type": "markdown",
   "id": "54e2d05b",
   "metadata": {},
   "source": [
    "Tuples"
   ]
  },
  {
   "cell_type": "code",
   "execution_count": 92,
   "id": "e316ab3f",
   "metadata": {},
   "outputs": [],
   "source": [
    "x = (78, 67, 98)"
   ]
  },
  {
   "cell_type": "code",
   "execution_count": 94,
   "id": "dc369321",
   "metadata": {},
   "outputs": [
    {
     "data": {
      "text/plain": [
       "3"
      ]
     },
     "execution_count": 94,
     "metadata": {},
     "output_type": "execute_result"
    }
   ],
   "source": [
    "len(x)"
   ]
  },
  {
   "cell_type": "code",
   "execution_count": 97,
   "id": "29300c0f",
   "metadata": {},
   "outputs": [
    {
     "data": {
      "text/plain": [
       "1"
      ]
     },
     "execution_count": 97,
     "metadata": {},
     "output_type": "execute_result"
    }
   ],
   "source": [
    "x.count(78)"
   ]
  },
  {
   "cell_type": "markdown",
   "id": "e837d71e",
   "metadata": {},
   "source": [
    "Tuples are immutable, they can be used to store objects that do not change much such as latitude and longitude values"
   ]
  },
  {
   "cell_type": "code",
   "execution_count": null,
   "id": "f218005b",
   "metadata": {},
   "outputs": [],
   "source": []
  },
  {
   "cell_type": "code",
   "execution_count": 100,
   "id": "1a98b027",
   "metadata": {},
   "outputs": [],
   "source": [
    "my_set.add(90)"
   ]
  },
  {
   "cell_type": "code",
   "execution_count": 101,
   "id": "238d0d40",
   "metadata": {},
   "outputs": [
    {
     "data": {
      "text/plain": [
       "{78, 87, 90}"
      ]
     },
     "execution_count": 101,
     "metadata": {},
     "output_type": "execute_result"
    }
   ],
   "source": [
    "my_set"
   ]
  },
  {
   "cell_type": "code",
   "execution_count": 108,
   "id": "cf9885a4",
   "metadata": {},
   "outputs": [],
   "source": [
    "xa = []\n",
    "for x in range(0,100):\n",
    "    if x % 2==0: xa.append(x)"
   ]
  },
  {
   "cell_type": "markdown",
   "id": "4ed4a248",
   "metadata": {},
   "source": [
    "##### Membership operators"
   ]
  },
  {
   "cell_type": "code",
   "execution_count": 109,
   "id": "65fe2aba",
   "metadata": {},
   "outputs": [
    {
     "data": {
      "text/plain": [
       "'The knights who say Ni!\\n'"
      ]
     },
     "execution_count": 109,
     "metadata": {},
     "output_type": "execute_result"
    }
   ],
   "source": [
    "the_line"
   ]
  },
  {
   "cell_type": "code",
   "execution_count": 111,
   "id": "331a23b2",
   "metadata": {},
   "outputs": [
    {
     "data": {
      "text/plain": [
       "True"
      ]
     },
     "execution_count": 111,
     "metadata": {},
     "output_type": "execute_result"
    }
   ],
   "source": [
    "'kni' in the_line"
   ]
  },
  {
   "cell_type": "code",
   "execution_count": 112,
   "id": "217e57b5",
   "metadata": {},
   "outputs": [
    {
     "data": {
      "text/plain": [
       "True"
      ]
     },
     "execution_count": 112,
     "metadata": {},
     "output_type": "execute_result"
    }
   ],
   "source": [
    "'cat' in 'catography list'"
   ]
  },
  {
   "cell_type": "code",
   "execution_count": 113,
   "id": "0b2660b1",
   "metadata": {},
   "outputs": [
    {
     "data": {
      "text/plain": [
       "True"
      ]
     },
     "execution_count": 113,
     "metadata": {},
     "output_type": "execute_result"
    }
   ],
   "source": [
    "67 not in [90,897]"
   ]
  },
  {
   "cell_type": "code",
   "execution_count": 114,
   "id": "d3135c13",
   "metadata": {},
   "outputs": [
    {
     "data": {
      "text/plain": [
       "False"
      ]
     },
     "execution_count": 114,
     "metadata": {},
     "output_type": "execute_result"
    }
   ],
   "source": [
    "67 not in (98,78,67)"
   ]
  },
  {
   "cell_type": "code",
   "execution_count": 115,
   "id": "95020ee6",
   "metadata": {},
   "outputs": [],
   "source": [
    "k = \"a\\nb\\x1f\\000d\""
   ]
  },
  {
   "cell_type": "code",
   "execution_count": 116,
   "id": "cec23c9e",
   "metadata": {},
   "outputs": [
    {
     "data": {
      "text/plain": [
       "6"
      ]
     },
     "execution_count": 116,
     "metadata": {},
     "output_type": "execute_result"
    }
   ],
   "source": [
    "len(k)"
   ]
  },
  {
   "cell_type": "code",
   "execution_count": 118,
   "id": "8a114866",
   "metadata": {},
   "outputs": [
    {
     "data": {
      "text/plain": [
       "107"
      ]
     },
     "execution_count": 118,
     "metadata": {},
     "output_type": "execute_result"
    }
   ],
   "source": [
    "ord('k')"
   ]
  },
  {
   "cell_type": "markdown",
   "id": "787a9029",
   "metadata": {},
   "source": [
    "### Lists"
   ]
  },
  {
   "cell_type": "markdown",
   "id": "77d3bfd9",
   "metadata": {},
   "source": [
    "> Lists are mutable sequences in Python: they can be changed in place, and are ordered sequences"
   ]
  },
  {
   "cell_type": "code",
   "execution_count": 119,
   "id": "1157732e",
   "metadata": {},
   "outputs": [
    {
     "data": {
      "text/plain": [
       "False"
      ]
     },
     "execution_count": 119,
     "metadata": {},
     "output_type": "execute_result"
    }
   ],
   "source": [
    "3 in [[3,5],[67,45],90,7]"
   ]
  },
  {
   "cell_type": "code",
   "execution_count": 122,
   "id": "f6db9303",
   "metadata": {},
   "outputs": [
    {
     "name": "stdout",
     "output_type": "stream",
     "text": [
      "[3, 5]\n",
      "[67, 45]\n"
     ]
    }
   ],
   "source": [
    "for x in [[3,5],[67,45],90,7]:\n",
    "    if isinstance(x,list):\n",
    "        print(x)"
   ]
  },
  {
   "cell_type": "markdown",
   "id": "43a2eb75",
   "metadata": {},
   "source": [
    "List compressions are a way to build new lists by applying an expression to each item in a sequence"
   ]
  },
  {
   "cell_type": "code",
   "execution_count": 125,
   "id": "c2830b3b",
   "metadata": {},
   "outputs": [
    {
     "data": {
      "text/plain": [
       "['SSSS', 'PPPP', 'AAAA', 'MMMM']"
      ]
     },
     "execution_count": 125,
     "metadata": {},
     "output_type": "execute_result"
    }
   ],
   "source": [
    "res = [c*4 for c in 'SPAM']\n",
    "res"
   ]
  },
  {
   "cell_type": "markdown",
   "id": "7f6c58d4",
   "metadata": {},
   "source": [
    "> The map function works the same but it applies a function to items in a sequence and collects all the results in a new list."
   ]
  },
  {
   "cell_type": "code",
   "execution_count": 127,
   "id": "e6441860",
   "metadata": {},
   "outputs": [
    {
     "data": {
      "text/plain": [
       "[1, 2, 0, 1, 2, 3]"
      ]
     },
     "execution_count": 127,
     "metadata": {},
     "output_type": "execute_result"
    }
   ],
   "source": [
    "list(map(abs,[-1,-2,0,1,2,3]))"
   ]
  },
  {
   "cell_type": "code",
   "execution_count": 130,
   "id": "58734f89",
   "metadata": {},
   "outputs": [],
   "source": [
    "def get_sqr(x):\n",
    "    return x*x\n",
    "\n",
    "def get_pow(x,num):\n",
    "    return x **num"
   ]
  },
  {
   "cell_type": "code",
   "execution_count": 135,
   "id": "eccffb76",
   "metadata": {},
   "outputs": [
    {
     "data": {
      "text/plain": [
       "[89, [6534, 'SPAM'], 'TREE']"
      ]
     },
     "execution_count": 135,
     "metadata": {},
     "output_type": "execute_result"
    }
   ],
   "source": [
    "L = [89,[6534,'SPAM'],'TREE']\n",
    "L"
   ]
  },
  {
   "cell_type": "code",
   "execution_count": 144,
   "id": "ef8c6938",
   "metadata": {},
   "outputs": [
    {
     "data": {
      "text/plain": [
       "[89, [6534, 'SPAM'], 'TREE']"
      ]
     },
     "execution_count": 144,
     "metadata": {},
     "output_type": "execute_result"
    }
   ],
   "source": [
    "L[0:3]"
   ]
  },
  {
   "cell_type": "markdown",
   "id": "270a12f6",
   "metadata": {},
   "source": [
    "> Both index and slice operations are in-place changes: they modify the list directly rather than\n",
    "generating a new list object for the result"
   ]
  },
  {
   "cell_type": "code",
   "execution_count": 147,
   "id": "45d2d881",
   "metadata": {},
   "outputs": [],
   "source": [
    "L[0:1]= [89,90,78] ## lists can be changes in place by slicing i.e deletion and insertion at the same time"
   ]
  },
  {
   "cell_type": "code",
   "execution_count": 148,
   "id": "307e1f7e",
   "metadata": {},
   "outputs": [
    {
     "data": {
      "text/plain": [
       "[89, 90, 78, 90, 78, [6534, 'SPAM'], 'TREE']"
      ]
     },
     "execution_count": 148,
     "metadata": {},
     "output_type": "execute_result"
    }
   ],
   "source": [
    "L "
   ]
  },
  {
   "cell_type": "code",
   "execution_count": 161,
   "id": "543daa6e",
   "metadata": {},
   "outputs": [
    {
     "data": {
      "text/plain": [
       "[[6534, 'SPAM']]"
      ]
     },
     "execution_count": 161,
     "metadata": {},
     "output_type": "execute_result"
    }
   ],
   "source": [
    "L[-2:-1]"
   ]
  },
  {
   "cell_type": "code",
   "execution_count": 167,
   "id": "88c5ed68",
   "metadata": {},
   "outputs": [],
   "source": [
    "K = [12,45,1,9,23,823]\n",
    "K.sort()"
   ]
  },
  {
   "cell_type": "code",
   "execution_count": 168,
   "id": "9a9111c6",
   "metadata": {},
   "outputs": [
    {
     "data": {
      "text/plain": [
       "[1, 9, 12, 23, 45, 823]"
      ]
     },
     "execution_count": 168,
     "metadata": {},
     "output_type": "execute_result"
    }
   ],
   "source": [
    "K"
   ]
  },
  {
   "cell_type": "code",
   "execution_count": 169,
   "id": "f5f47987",
   "metadata": {},
   "outputs": [],
   "source": [
    "LS = ['abc','ABD','aBe']"
   ]
  },
  {
   "cell_type": "code",
   "execution_count": 171,
   "id": "c0bab14b",
   "metadata": {},
   "outputs": [
    {
     "data": {
      "text/plain": [
       "['abe', 'abd', 'abc']"
      ]
     },
     "execution_count": 171,
     "metadata": {},
     "output_type": "execute_result"
    }
   ],
   "source": [
    "sorted([x.lower() for x in LS],reverse=True)"
   ]
  },
  {
   "cell_type": "code",
   "execution_count": 172,
   "id": "18a437ac",
   "metadata": {},
   "outputs": [],
   "source": [
    "LS.extend([90,78,'abf'])"
   ]
  },
  {
   "cell_type": "code",
   "execution_count": 173,
   "id": "ff20a81a",
   "metadata": {},
   "outputs": [
    {
     "data": {
      "text/plain": [
       "['abc', 'ABD', 'aBe', 90, 78, 'abf']"
      ]
     },
     "execution_count": 173,
     "metadata": {},
     "output_type": "execute_result"
    }
   ],
   "source": [
    "LS"
   ]
  },
  {
   "cell_type": "code",
   "execution_count": 175,
   "id": "f2e6120b",
   "metadata": {},
   "outputs": [
    {
     "data": {
      "text/plain": [
       "'abf'"
      ]
     },
     "execution_count": 175,
     "metadata": {},
     "output_type": "execute_result"
    }
   ],
   "source": [
    "LS.pop(-1)"
   ]
  },
  {
   "cell_type": "code",
   "execution_count": 176,
   "id": "1858008c",
   "metadata": {},
   "outputs": [
    {
     "data": {
      "text/plain": [
       "['abc', 'ABD', 'aBe', 90, 78]"
      ]
     },
     "execution_count": 176,
     "metadata": {},
     "output_type": "execute_result"
    }
   ],
   "source": [
    "LS"
   ]
  },
  {
   "cell_type": "code",
   "execution_count": 177,
   "id": "dfacf994",
   "metadata": {},
   "outputs": [],
   "source": [
    "LS.reverse()"
   ]
  },
  {
   "cell_type": "code",
   "execution_count": 178,
   "id": "ab1cc731",
   "metadata": {},
   "outputs": [
    {
     "data": {
      "text/plain": [
       "[78, 90, 'aBe', 'ABD', 'abc']"
      ]
     },
     "execution_count": 178,
     "metadata": {},
     "output_type": "execute_result"
    }
   ],
   "source": [
    "LS"
   ]
  },
  {
   "cell_type": "code",
   "execution_count": 179,
   "id": "05a43791",
   "metadata": {},
   "outputs": [],
   "source": [
    "L.insert(1, 'good')"
   ]
  },
  {
   "cell_type": "code",
   "execution_count": 180,
   "id": "1a860f01",
   "metadata": {},
   "outputs": [
    {
     "data": {
      "text/plain": [
       "[78, 'good', 78, 89, 90, 90, [6534, 'SPAM'], 'TREE']"
      ]
     },
     "execution_count": 180,
     "metadata": {},
     "output_type": "execute_result"
    }
   ],
   "source": [
    "L"
   ]
  },
  {
   "cell_type": "code",
   "execution_count": 181,
   "id": "b220f057",
   "metadata": {},
   "outputs": [
    {
     "data": {
      "text/plain": [
       "'TREE'"
      ]
     },
     "execution_count": 181,
     "metadata": {},
     "output_type": "execute_result"
    }
   ],
   "source": [
    "L.pop()"
   ]
  },
  {
   "cell_type": "code",
   "execution_count": 182,
   "id": "85f62db9",
   "metadata": {},
   "outputs": [
    {
     "data": {
      "text/plain": [
       "[78, 'good', 78, 89, 90, 90, [6534, 'SPAM']]"
      ]
     },
     "execution_count": 182,
     "metadata": {},
     "output_type": "execute_result"
    }
   ],
   "source": [
    "L"
   ]
  },
  {
   "cell_type": "code",
   "execution_count": 183,
   "id": "cf8fbaf3",
   "metadata": {},
   "outputs": [
    {
     "data": {
      "text/plain": [
       "[6534, 'SPAM']"
      ]
     },
     "execution_count": 183,
     "metadata": {},
     "output_type": "execute_result"
    }
   ],
   "source": [
    "L.pop(-1)"
   ]
  },
  {
   "cell_type": "code",
   "execution_count": 184,
   "id": "de79c3db",
   "metadata": {},
   "outputs": [
    {
     "data": {
      "text/plain": [
       "[78, 'good', 78, 89, 90, 90]"
      ]
     },
     "execution_count": 184,
     "metadata": {},
     "output_type": "execute_result"
    }
   ],
   "source": [
    "L"
   ]
  },
  {
   "cell_type": "markdown",
   "id": "0adc2b63",
   "metadata": {},
   "source": [
    "Because they are mutable, we can alsu use the del statement"
   ]
  },
  {
   "cell_type": "code",
   "execution_count": 186,
   "id": "8416e13c",
   "metadata": {},
   "outputs": [],
   "source": [
    "del L[0]"
   ]
  },
  {
   "cell_type": "code",
   "execution_count": 187,
   "id": "5c131d99",
   "metadata": {},
   "outputs": [
    {
     "data": {
      "text/plain": [
       "['good', 78, 89, 90, 90]"
      ]
     },
     "execution_count": 187,
     "metadata": {},
     "output_type": "execute_result"
    }
   ],
   "source": [
    "L"
   ]
  },
  {
   "cell_type": "markdown",
   "id": "35ffa1e2",
   "metadata": {},
   "source": [
    "### Dictionaries"
   ]
  },
  {
   "cell_type": "markdown",
   "id": "758b17b0",
   "metadata": {},
   "source": [
    "Sometimes called associative arrays or hashes, they are unordered collections of arbitrary objects: they are mutable mappings\n",
    "but do not support the sequence operations supported by lists and objects"
   ]
  },
  {
   "cell_type": "code",
   "execution_count": 188,
   "id": "a79c1ab6",
   "metadata": {},
   "outputs": [
    {
     "data": {
      "text/plain": [
       "{'spam': [67, -0.6232], 'ham': (90, 90), 'eggs': 90}"
      ]
     },
     "execution_count": 188,
     "metadata": {},
     "output_type": "execute_result"
    }
   ],
   "source": [
    "D = {'spam':[67,-0.6232], 'ham':(90,90),'eggs':90}\n",
    "D"
   ]
  },
  {
   "cell_type": "code",
   "execution_count": 190,
   "id": "5d4cc981",
   "metadata": {},
   "outputs": [
    {
     "data": {
      "text/plain": [
       "[('spam', [67, -0.6232]), ('ham', (90, 90)), ('eggs', 90)]"
      ]
     },
     "execution_count": 190,
     "metadata": {},
     "output_type": "execute_result"
    }
   ],
   "source": [
    "list(D.items())"
   ]
  },
  {
   "cell_type": "code",
   "execution_count": 192,
   "id": "82fd83da",
   "metadata": {},
   "outputs": [
    {
     "data": {
      "text/plain": [
       "['spam', 'ham', 'eggs']"
      ]
     },
     "execution_count": 192,
     "metadata": {},
     "output_type": "execute_result"
    }
   ],
   "source": [
    "list(D.keys())"
   ]
  },
  {
   "cell_type": "code",
   "execution_count": 194,
   "id": "c5f4aea4",
   "metadata": {},
   "outputs": [
    {
     "data": {
      "text/plain": [
       "[[67, -0.6232], (90, 90), 90]"
      ]
     },
     "execution_count": 194,
     "metadata": {},
     "output_type": "execute_result"
    }
   ],
   "source": [
    "list(D.values())"
   ]
  },
  {
   "cell_type": "code",
   "execution_count": 195,
   "id": "cd5bca49",
   "metadata": {},
   "outputs": [
    {
     "data": {
      "text/plain": [
       "[67, -0.6232]"
      ]
     },
     "execution_count": 195,
     "metadata": {},
     "output_type": "execute_result"
    }
   ],
   "source": [
    "D.get('spam')"
   ]
  },
  {
   "cell_type": "code",
   "execution_count": 196,
   "id": "1cf0da14",
   "metadata": {},
   "outputs": [
    {
     "data": {
      "text/plain": [
       "{'res': 30, 'pixels': [89, [90, 76]]}"
      ]
     },
     "execution_count": 196,
     "metadata": {},
     "output_type": "execute_result"
    }
   ],
   "source": [
    "D2 = {'res':30,'pixels':[89,[90,76]]}\n",
    "D2"
   ]
  },
  {
   "cell_type": "code",
   "execution_count": 197,
   "id": "d4d8db31",
   "metadata": {},
   "outputs": [],
   "source": [
    "D.update(D2)"
   ]
  },
  {
   "cell_type": "code",
   "execution_count": 198,
   "id": "6ea2b288",
   "metadata": {},
   "outputs": [
    {
     "data": {
      "text/plain": [
       "{'spam': [67, -0.6232],\n",
       " 'ham': (90, 90),\n",
       " 'eggs': 90,\n",
       " 'res': 30,\n",
       " 'pixels': [89, [90, 76]]}"
      ]
     },
     "execution_count": 198,
     "metadata": {},
     "output_type": "execute_result"
    }
   ],
   "source": [
    "D"
   ]
  },
  {
   "cell_type": "code",
   "execution_count": 199,
   "id": "d1088bdb",
   "metadata": {},
   "outputs": [
    {
     "data": {
      "text/plain": [
       "90"
      ]
     },
     "execution_count": 199,
     "metadata": {},
     "output_type": "execute_result"
    }
   ],
   "source": [
    "D.pop('eggs')"
   ]
  },
  {
   "cell_type": "code",
   "execution_count": 200,
   "id": "8904bc42",
   "metadata": {},
   "outputs": [
    {
     "data": {
      "text/plain": [
       "{'spam': [67, -0.6232], 'ham': (90, 90), 'res': 30, 'pixels': [89, [90, 76]]}"
      ]
     },
     "execution_count": 200,
     "metadata": {},
     "output_type": "execute_result"
    }
   ],
   "source": [
    "D"
   ]
  },
  {
   "cell_type": "code",
   "execution_count": null,
   "id": "cda1bd4b",
   "metadata": {},
   "outputs": [],
   "source": []
  },
  {
   "cell_type": "code",
   "execution_count": 203,
   "id": "bd513fe4",
   "metadata": {},
   "outputs": [],
   "source": [
    "table = {'Python':'Guido Van Rossum','Perl':'Larry Wall','Tcl':'John Ousterhout','linux':'Linus Torvalds'}"
   ]
  },
  {
   "cell_type": "code",
   "execution_count": 204,
   "id": "07d6cb05",
   "metadata": {},
   "outputs": [
    {
     "data": {
      "text/plain": [
       "{'Python': 'Guido Van Rossum',\n",
       " 'Perl': 'Larry Wall',\n",
       " 'Tcl': 'John Ousterhout',\n",
       " 'linux': 'Linus Torvalds'}"
      ]
     },
     "execution_count": 204,
     "metadata": {},
     "output_type": "execute_result"
    }
   ],
   "source": [
    "table"
   ]
  },
  {
   "cell_type": "code",
   "execution_count": 206,
   "id": "087f87c5",
   "metadata": {},
   "outputs": [
    {
     "data": {
      "text/plain": [
       "'Guido Van Rossum'"
      ]
     },
     "execution_count": 206,
     "metadata": {},
     "output_type": "execute_result"
    }
   ],
   "source": [
    "creator = table['Python']\n",
    "creator"
   ]
  },
  {
   "cell_type": "code",
   "execution_count": 209,
   "id": "d4d3a89c",
   "metadata": {},
   "outputs": [
    {
     "name": "stdout",
     "output_type": "stream",
     "text": [
      "Python \t Guido Van Rossum\n",
      "Perl \t Larry Wall\n",
      "Tcl \t John Ousterhout\n",
      "linux \t Linus Torvalds\n"
     ]
    }
   ],
   "source": [
    "for lang in table: ## same as looping table.keys()\n",
    "    print(lang,'\\t',table[lang])"
   ]
  },
  {
   "cell_type": "code",
   "execution_count": 210,
   "id": "0e99a1eb",
   "metadata": {},
   "outputs": [
    {
     "data": {
      "text/plain": [
       "{'name': 'mel', 'age': 45, 'courses': ['Math', 'Physics']}"
      ]
     },
     "execution_count": 210,
     "metadata": {},
     "output_type": "execute_result"
    }
   ],
   "source": [
    "## dictionaries can alco be constructed using the dict keyword\n",
    "D3 = dict(name='mel',age=45,courses=['Math','Physics'])\n",
    "D3"
   ]
  },
  {
   "cell_type": "code",
   "execution_count": 211,
   "id": "4b9450f7",
   "metadata": {},
   "outputs": [],
   "source": [
    "D3['address'] = '373-00100'"
   ]
  },
  {
   "cell_type": "code",
   "execution_count": 212,
   "id": "b8e32166",
   "metadata": {},
   "outputs": [
    {
     "data": {
      "text/plain": [
       "{'name': 'mel',\n",
       " 'age': 45,\n",
       " 'courses': ['Math', 'Physics'],\n",
       " 'address': '373-00100'}"
      ]
     },
     "execution_count": 212,
     "metadata": {},
     "output_type": "execute_result"
    }
   ],
   "source": [
    "D3"
   ]
  },
  {
   "cell_type": "code",
   "execution_count": 213,
   "id": "0764d2ba",
   "metadata": {},
   "outputs": [
    {
     "data": {
      "text/plain": [
       "{'name': 'mel', 'age': 45}"
      ]
     },
     "execution_count": 213,
     "metadata": {},
     "output_type": "execute_result"
    }
   ],
   "source": [
    "dict([('name','mel'),('age',45)])"
   ]
  },
  {
   "cell_type": "markdown",
   "id": "5525be15",
   "metadata": {},
   "source": [
    "###### Zip function"
   ]
  },
  {
   "cell_type": "code",
   "execution_count": 216,
   "id": "c6f5f734",
   "metadata": {},
   "outputs": [],
   "source": [
    "get_id1 = [834167,90103]; get_id2 = [90809,73437]\n"
   ]
  },
  {
   "cell_type": "code",
   "execution_count": 218,
   "id": "b02e24c0",
   "metadata": {},
   "outputs": [],
   "source": [
    "j = list(zip(get_id1,get_id2))"
   ]
  },
  {
   "cell_type": "code",
   "execution_count": 220,
   "id": "049b1015",
   "metadata": {},
   "outputs": [
    {
     "name": "stdout",
     "output_type": "stream",
     "text": [
      "(834167, 90809)\n",
      "(90103, 73437)\n"
     ]
    }
   ],
   "source": [
    "for k in j:\n",
    "    print(k)"
   ]
  },
  {
   "cell_type": "markdown",
   "id": "7a16503c",
   "metadata": {},
   "source": [
    "The same concept can be used to create a dictionary: "
   ]
  },
  {
   "cell_type": "code",
   "execution_count": 222,
   "id": "655a4477",
   "metadata": {},
   "outputs": [
    {
     "data": {
      "text/plain": [
       "{'name': 'Billy Adwar',\n",
       " 'address': '272-20200',\n",
       " 'invoice': 'ACC-SINV-2023-0002',\n",
       " 'location': 'Nairobi'}"
      ]
     },
     "execution_count": 222,
     "metadata": {},
     "output_type": "execute_result"
    }
   ],
   "source": [
    "D4 = dict(zip(['name','address','invoice','location'],['Billy Adwar','272-20200','ACC-SINV-2023-0002','Nairobi']))\n",
    "D4"
   ]
  },
  {
   "cell_type": "markdown",
   "id": "6f48b1c2",
   "metadata": {},
   "source": [
    "### Dictionary Comprehensions"
   ]
  },
  {
   "cell_type": "markdown",
   "id": "e49c71b6",
   "metadata": {},
   "source": [
    "The zip function is a way to construct a dictionary from key and value lists in a single call. If you cannot\n",
    "predict the sets of keys and values in your code, you can always build them up as lists and zip them together:"
   ]
  },
  {
   "cell_type": "code",
   "execution_count": 223,
   "id": "d9028b57",
   "metadata": {},
   "outputs": [
    {
     "data": {
      "text/plain": [
       "[('tree', 23), ('spam', 78), ('ham', [90, 89])]"
      ]
     },
     "execution_count": 223,
     "metadata": {},
     "output_type": "execute_result"
    }
   ],
   "source": [
    "list(zip(['tree','spam','ham'],[23,78,[90,89]]))"
   ]
  },
  {
   "cell_type": "code",
   "execution_count": 224,
   "id": "34278f12",
   "metadata": {},
   "outputs": [
    {
     "data": {
      "text/plain": [
       "{'tree': 23, 'spam': 78, 'ham': [90, 89]}"
      ]
     },
     "execution_count": 224,
     "metadata": {},
     "output_type": "execute_result"
    }
   ],
   "source": [
    "D5 = dict(zip(['tree','spam','ham'],[23,78,[90,89]]))\n",
    "D5"
   ]
  },
  {
   "cell_type": "markdown",
   "id": "d07db1d9",
   "metadata": {},
   "source": [
    "The same can be built in Python using compressions"
   ]
  },
  {
   "cell_type": "code",
   "execution_count": 227,
   "id": "0985d353",
   "metadata": {},
   "outputs": [
    {
     "data": {
      "text/plain": [
       "{'a': 1, 'b': 2, 'c': 3}"
      ]
     },
     "execution_count": 227,
     "metadata": {},
     "output_type": "execute_result"
    }
   ],
   "source": [
    "D6 = {k: v for (k,v) in  zip(['a','b','c'],[1,2,3,4])}\n",
    "D6"
   ]
  },
  {
   "cell_type": "code",
   "execution_count": 228,
   "id": "8c2af322",
   "metadata": {},
   "outputs": [
    {
     "data": {
      "text/plain": [
       "{'S': 'SSSS', 'P': 'PPPP', 'A': 'AAAA', 'M': 'MMMM'}"
      ]
     },
     "execution_count": 228,
     "metadata": {},
     "output_type": "execute_result"
    }
   ],
   "source": [
    "D7 = {c: c*4 for c in 'SPAM'}\n",
    "D7"
   ]
  },
  {
   "cell_type": "code",
   "execution_count": 229,
   "id": "d974488d",
   "metadata": {},
   "outputs": [
    {
     "data": {
      "text/plain": [
       "{'spam': [67, -0.6232], 'ham': (90, 90), 'res': 30, 'pixels': [89, [90, 76]]}"
      ]
     },
     "execution_count": 229,
     "metadata": {},
     "output_type": "execute_result"
    }
   ],
   "source": [
    "D"
   ]
  },
  {
   "cell_type": "code",
   "execution_count": 231,
   "id": "4001dc75",
   "metadata": {},
   "outputs": [
    {
     "data": {
      "text/plain": [
       "{'name': 'mel',\n",
       " 'age': 45,\n",
       " 'courses': ['Math', 'Physics'],\n",
       " 'address': '373-00100'}"
      ]
     },
     "execution_count": 231,
     "metadata": {},
     "output_type": "execute_result"
    }
   ],
   "source": [
    "D3"
   ]
  },
  {
   "cell_type": "code",
   "execution_count": 238,
   "id": "d9577aeb",
   "metadata": {},
   "outputs": [
    {
     "name": "stdout",
     "output_type": "stream",
     "text": [
      "address       \t 373-00100\n",
      "age       \t 45\n",
      "courses       \t ['Math', 'Physics']\n",
      "name       \t mel\n"
     ]
    }
   ],
   "source": [
    "Ks = D3.keys()\n",
    "for k in sorted(Ks): print(k,'      \\t', D3[k])"
   ]
  },
  {
   "cell_type": "markdown",
   "id": "4d3d79dd",
   "metadata": {},
   "source": [
    "##### Quizes"
   ]
  },
  {
   "cell_type": "markdown",
   "id": "bdca9341",
   "metadata": {},
   "source": [
    "Illustrate two ways to build a list with 5 integer zeros: "
   ]
  },
  {
   "cell_type": "code",
   "execution_count": 239,
   "id": "73bdebe3",
   "metadata": {},
   "outputs": [
    {
     "data": {
      "text/plain": [
       "[0, 0, 0, 0, 0]"
      ]
     },
     "execution_count": 239,
     "metadata": {},
     "output_type": "execute_result"
    }
   ],
   "source": [
    "k = [0] * 5\n",
    "k"
   ]
  },
  {
   "cell_type": "code",
   "execution_count": 241,
   "id": "16c0b9c8",
   "metadata": {},
   "outputs": [
    {
     "data": {
      "text/plain": [
       "[0, 0, 0, 0, 0]"
      ]
     },
     "execution_count": 241,
     "metadata": {},
     "output_type": "execute_result"
    }
   ],
   "source": [
    "ki = [0,0,0,0,0]\n",
    "ki"
   ]
  },
  {
   "cell_type": "code",
   "execution_count": 243,
   "id": "c105ba1d",
   "metadata": {},
   "outputs": [
    {
     "data": {
      "text/plain": [
       "{'a': 0, 'b': 0}"
      ]
     },
     "execution_count": 243,
     "metadata": {},
     "output_type": "execute_result"
    }
   ],
   "source": [
    "valdict = dict(a=0,b=0)\n",
    "valdict"
   ]
  },
  {
   "cell_type": "code",
   "execution_count": 245,
   "id": "75ce83ef",
   "metadata": {},
   "outputs": [
    {
     "data": {
      "text/plain": [
       "{'a': 0, 'b': 0}"
      ]
     },
     "execution_count": 245,
     "metadata": {},
     "output_type": "execute_result"
    }
   ],
   "source": [
    "valdict1 = {'a':0,'b':0}\n",
    "valdict1"
   ]
  },
  {
   "cell_type": "markdown",
   "id": "ae04dd1b",
   "metadata": {},
   "source": [
    "Operators that change list object in place: \n",
    "    insert,\n",
    "    append,\n",
    "    remove,pop, extend,sort"
   ]
  },
  {
   "cell_type": "code",
   "execution_count": 246,
   "id": "f5508445",
   "metadata": {},
   "outputs": [
    {
     "data": {
      "text/plain": [
       "[7932, 1234]"
      ]
     },
     "execution_count": 246,
     "metadata": {},
     "output_type": "execute_result"
    }
   ],
   "source": [
    "kj = [90,7932,1234]\n",
    "kj[1:]"
   ]
  },
  {
   "cell_type": "code",
   "execution_count": 248,
   "id": "147a624a",
   "metadata": {},
   "outputs": [],
   "source": [
    "kj.insert(1,876)"
   ]
  },
  {
   "cell_type": "code",
   "execution_count": 249,
   "id": "b0faa571",
   "metadata": {},
   "outputs": [
    {
     "data": {
      "text/plain": [
       "[90, 876, 7932, 1234]"
      ]
     },
     "execution_count": 249,
     "metadata": {},
     "output_type": "execute_result"
    }
   ],
   "source": [
    "kj"
   ]
  },
  {
   "cell_type": "code",
   "execution_count": null,
   "id": "1bad8f99",
   "metadata": {},
   "outputs": [],
   "source": []
  },
  {
   "cell_type": "code",
   "execution_count": null,
   "id": "c35ab012",
   "metadata": {},
   "outputs": [],
   "source": []
  },
  {
   "cell_type": "code",
   "execution_count": null,
   "id": "4602ebbf",
   "metadata": {},
   "outputs": [],
   "source": []
  },
  {
   "cell_type": "code",
   "execution_count": null,
   "id": "f423db20",
   "metadata": {},
   "outputs": [],
   "source": []
  },
  {
   "cell_type": "code",
   "execution_count": null,
   "id": "c09e3ea5",
   "metadata": {},
   "outputs": [],
   "source": []
  },
  {
   "cell_type": "code",
   "execution_count": null,
   "id": "84e522d1",
   "metadata": {},
   "outputs": [],
   "source": []
  },
  {
   "cell_type": "code",
   "execution_count": null,
   "id": "cec7a6f6",
   "metadata": {},
   "outputs": [],
   "source": []
  },
  {
   "cell_type": "code",
   "execution_count": null,
   "id": "9b7d031b",
   "metadata": {},
   "outputs": [],
   "source": []
  },
  {
   "cell_type": "code",
   "execution_count": null,
   "id": "3c5d9d8d",
   "metadata": {},
   "outputs": [],
   "source": []
  },
  {
   "cell_type": "code",
   "execution_count": null,
   "id": "7f16c706",
   "metadata": {},
   "outputs": [],
   "source": []
  }
 ],
 "metadata": {
  "kernelspec": {
   "display_name": "Python 3 (ipykernel)",
   "language": "python",
   "name": "python3"
  },
  "language_info": {
   "codemirror_mode": {
    "name": "ipython",
    "version": 3
   },
   "file_extension": ".py",
   "mimetype": "text/x-python",
   "name": "python",
   "nbconvert_exporter": "python",
   "pygments_lexer": "ipython3",
   "version": "3.10.9"
  }
 },
 "nbformat": 4,
 "nbformat_minor": 5
}
