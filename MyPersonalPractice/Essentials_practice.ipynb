{
 "cells": [
  {
   "cell_type": "markdown",
   "id": "fea42730",
   "metadata": {},
   "source": [
    "### Type categories"
   ]
  },
  {
   "cell_type": "markdown",
   "id": "c0448609",
   "metadata": {},
   "source": [
    "> There are three major type categories in Python: \n",
    "    1. Numbers (integer, floats, decimal, fraction etc.)\n",
    "    2. Sequences: Strings, Lists, tuples\n",
    "    3. Mappings: Dictionaries\n",
    "    4. Others are sets, frozensets"
   ]
  },
  {
   "cell_type": "markdown",
   "id": "a625619c",
   "metadata": {},
   "source": [
    "The major core types in Python can be broken down as follows: \n",
    "   > Immutable types (numbers, strings, tuples, frosensets)\n",
    "   > Mutable types: Lists, Dictionaries, Sets"
   ]
  },
  {
   "cell_type": "code",
   "execution_count": null,
   "id": "c18b034b",
   "metadata": {},
   "outputs": [],
   "source": []
  },
  {
   "cell_type": "code",
   "execution_count": 1,
   "id": "8ee4981d",
   "metadata": {},
   "outputs": [],
   "source": [
    "res = dict(a=[90,90,78])"
   ]
  },
  {
   "cell_type": "code",
   "execution_count": 2,
   "id": "430cf323",
   "metadata": {},
   "outputs": [
    {
     "data": {
      "text/plain": [
       "{'a': [90, 90, 78]}"
      ]
     },
     "execution_count": 2,
     "metadata": {},
     "output_type": "execute_result"
    }
   ],
   "source": [
    "res"
   ]
  },
  {
   "cell_type": "code",
   "execution_count": 3,
   "id": "2caf180e",
   "metadata": {},
   "outputs": [],
   "source": [
    "res['b'] = ['spam','tree',89,53]"
   ]
  },
  {
   "cell_type": "code",
   "execution_count": 4,
   "id": "e29682f5",
   "metadata": {},
   "outputs": [
    {
     "data": {
      "text/plain": [
       "{'a': [90, 90, 78], 'b': ['spam', 'tree', 89, 53]}"
      ]
     },
     "execution_count": 4,
     "metadata": {},
     "output_type": "execute_result"
    }
   ],
   "source": [
    "res"
   ]
  },
  {
   "cell_type": "code",
   "execution_count": 6,
   "id": "77758496",
   "metadata": {},
   "outputs": [],
   "source": [
    "list_res = res['b']"
   ]
  },
  {
   "cell_type": "code",
   "execution_count": 7,
   "id": "b3237df7",
   "metadata": {},
   "outputs": [
    {
     "data": {
      "text/plain": [
       "['spam', 'tree', 89, 53]"
      ]
     },
     "execution_count": 7,
     "metadata": {},
     "output_type": "execute_result"
    }
   ],
   "source": [
    "list_res"
   ]
  },
  {
   "cell_type": "code",
   "execution_count": 13,
   "id": "d01d7c28",
   "metadata": {},
   "outputs": [],
   "source": [
    "str_spam = list_res[0]"
   ]
  },
  {
   "cell_type": "code",
   "execution_count": 15,
   "id": "6cea7ce4",
   "metadata": {},
   "outputs": [
    {
     "data": {
      "text/plain": [
       "'spam'"
      ]
     },
     "execution_count": 15,
     "metadata": {},
     "output_type": "execute_result"
    }
   ],
   "source": [
    "str_spam.strip()"
   ]
  },
  {
   "cell_type": "markdown",
   "id": "dacbb4a6",
   "metadata": {},
   "source": [
    "crete a list from a string"
   ]
  },
  {
   "cell_type": "code",
   "execution_count": 18,
   "id": "8a918b5a",
   "metadata": {},
   "outputs": [],
   "source": [
    "list_str=list(str_spam)"
   ]
  },
  {
   "cell_type": "markdown",
   "id": "cd75b7fc",
   "metadata": {},
   "source": [
    "Convert back to ctring"
   ]
  },
  {
   "cell_type": "code",
   "execution_count": 19,
   "id": "6892550a",
   "metadata": {},
   "outputs": [
    {
     "data": {
      "text/plain": [
       "'spam'"
      ]
     },
     "execution_count": 19,
     "metadata": {},
     "output_type": "execute_result"
    }
   ],
   "source": [
    "''.join(list_str)"
   ]
  },
  {
   "cell_type": "markdown",
   "id": "7ea440d9",
   "metadata": {},
   "source": [
    "##### Slicing Techniques can also be applied"
   ]
  },
  {
   "cell_type": "code",
   "execution_count": 23,
   "id": "956a743b",
   "metadata": {},
   "outputs": [],
   "source": [
    "line = 'ACC-INV-2023-001 ADWAR BILLY'"
   ]
  },
  {
   "cell_type": "code",
   "execution_count": 24,
   "id": "5db47e3b",
   "metadata": {},
   "outputs": [
    {
     "data": {
      "text/plain": [
       "['ACC-INV-2023-001', 'ADWAR', 'BILLY']"
      ]
     },
     "execution_count": 24,
     "metadata": {},
     "output_type": "execute_result"
    }
   ],
   "source": [
    "line.split(' ')"
   ]
  },
  {
   "cell_type": "code",
   "execution_count": 27,
   "id": "da015deb",
   "metadata": {},
   "outputs": [],
   "source": [
    "invoice_number = line.split(' ')[0]\n",
    "name = line.split(' ')[1:]"
   ]
  },
  {
   "cell_type": "code",
   "execution_count": 32,
   "id": "1588e0d5",
   "metadata": {},
   "outputs": [
    {
     "data": {
      "text/plain": [
       "'ADWAR BILLY'"
      ]
     },
     "execution_count": 32,
     "metadata": {},
     "output_type": "execute_result"
    }
   ],
   "source": [
    "customer_name = ' '.join(name)\n",
    "customer_name"
   ]
  },
  {
   "cell_type": "code",
   "execution_count": 34,
   "id": "cb7df591",
   "metadata": {},
   "outputs": [
    {
     "data": {
      "text/plain": [
       "['Bob', ' hacked the news']"
      ]
     },
     "execution_count": 34,
     "metadata": {},
     "output_type": "execute_result"
    }
   ],
   "source": [
    "new_line = 'Bob, hacked the news'\n",
    "new_line.split(',')"
   ]
  },
  {
   "cell_type": "code",
   "execution_count": 37,
   "id": "e978aadb",
   "metadata": {},
   "outputs": [
    {
     "data": {
      "text/plain": [
       "'THE KNIGHTS WHO SAY NI!\\n'"
      ]
     },
     "execution_count": 37,
     "metadata": {},
     "output_type": "execute_result"
    }
   ],
   "source": [
    "the_line = \"The knights who say Ni!\\n\"\n",
    "the_line.upper()"
   ]
  },
  {
   "cell_type": "code",
   "execution_count": 38,
   "id": "b23bd815",
   "metadata": {},
   "outputs": [
    {
     "data": {
      "text/plain": [
       "'The knights who say Ni!'"
      ]
     },
     "execution_count": 38,
     "metadata": {},
     "output_type": "execute_result"
    }
   ],
   "source": [
    "the_line.rstrip()"
   ]
  },
  {
   "cell_type": "code",
   "execution_count": 40,
   "id": "302e40b4",
   "metadata": {},
   "outputs": [
    {
     "data": {
      "text/plain": [
       "True"
      ]
     },
     "execution_count": 40,
     "metadata": {},
     "output_type": "execute_result"
    }
   ],
   "source": [
    "the_line.find('Ni') != -1"
   ]
  },
  {
   "cell_type": "code",
   "execution_count": 44,
   "id": "1cbf7b15",
   "metadata": {},
   "outputs": [
    {
     "data": {
      "text/plain": [
       "True"
      ]
     },
     "execution_count": 44,
     "metadata": {},
     "output_type": "execute_result"
    }
   ],
   "source": [
    "'Ni' in the_line"
   ]
  },
  {
   "cell_type": "code",
   "execution_count": 45,
   "id": "3fd9edcb",
   "metadata": {},
   "outputs": [
    {
     "data": {
      "text/plain": [
       "True"
      ]
     },
     "execution_count": 45,
     "metadata": {},
     "output_type": "execute_result"
    }
   ],
   "source": [
    "sub = 'Ni!\\n'\n",
    "the_line.endswith(sub)"
   ]
  },
  {
   "cell_type": "code",
   "execution_count": 48,
   "id": "77b9ec06",
   "metadata": {},
   "outputs": [
    {
     "data": {
      "text/plain": [
       "True"
      ]
     },
     "execution_count": 48,
     "metadata": {},
     "output_type": "execute_result"
    }
   ],
   "source": [
    "the_line[-len(sub):] == sub\n"
   ]
  },
  {
   "cell_type": "code",
   "execution_count": 50,
   "id": "83065934",
   "metadata": {},
   "outputs": [
    {
     "data": {
      "text/plain": [
       "'Ni!\\n'"
      ]
     },
     "execution_count": 50,
     "metadata": {},
     "output_type": "execute_result"
    }
   ],
   "source": [
    "the_line[-4:]"
   ]
  },
  {
   "cell_type": "markdown",
   "id": "4c7fc7c7",
   "metadata": {},
   "source": [
    "##### String formatting expressions"
   ]
  },
  {
   "cell_type": "code",
   "execution_count": 52,
   "id": "cca767e5",
   "metadata": {},
   "outputs": [],
   "source": [
    "x = 90.989"
   ]
  },
  {
   "cell_type": "code",
   "execution_count": 53,
   "id": "8d05b2c3",
   "metadata": {},
   "outputs": [
    {
     "data": {
      "text/plain": [
       "'90.989000 | 90.989000 is the best Number'"
      ]
     },
     "execution_count": 53,
     "metadata": {},
     "output_type": "execute_result"
    }
   ],
   "source": [
    "\"%f | %f is the best %s\" % (x, x, 'Number')"
   ]
  },
  {
   "cell_type": "code",
   "execution_count": 55,
   "id": "34f631a8",
   "metadata": {},
   "outputs": [
    {
     "data": {
      "text/plain": [
       "'90.99 means it has been rounded off'"
      ]
     },
     "execution_count": 55,
     "metadata": {},
     "output_type": "execute_result"
    }
   ],
   "source": [
    "\"%.2f means it has been rounded off\" % (x)"
   ]
  },
  {
   "cell_type": "markdown",
   "id": "8d615af5",
   "metadata": {},
   "source": [
    "> String formatting also allows conversion targets on the left to refer to the keys in a dictionary on the right and fetch \n",
    "the corresponding values."
   ]
  },
  {
   "cell_type": "code",
   "execution_count": 87,
   "id": "2ca379c2",
   "metadata": {},
   "outputs": [
    {
     "data": {
      "text/plain": [
       "'90.723000 reflects spam'"
      ]
     },
     "execution_count": 87,
     "metadata": {},
     "output_type": "execute_result"
    }
   ],
   "source": [
    "\"%(n)f reflects %(x)s\" % {\"n\": 90.723, \"x\":'spam'}"
   ]
  },
  {
   "cell_type": "code",
   "execution_count": 88,
   "id": "3854a40d",
   "metadata": {},
   "outputs": [
    {
     "data": {
      "text/plain": [
       "'90.72 reflects spam'"
      ]
     },
     "execution_count": 88,
     "metadata": {},
     "output_type": "execute_result"
    }
   ],
   "source": [
    "\"%(n).2f reflects %(x)s\" % {\"n\": 90.723, \"x\":'spam'}"
   ]
  },
  {
   "cell_type": "code",
   "execution_count": 58,
   "id": "b5f69e13",
   "metadata": {},
   "outputs": [
    {
     "data": {
      "text/plain": [
       "{'name': 'Billy Adwar', 'party balance': 78900, 'company': 'Oduk Tech'}"
      ]
     },
     "execution_count": 58,
     "metadata": {},
     "output_type": "execute_result"
    }
   ],
   "source": [
    "dict_message = {'name' :'Billy Adwar','party balance':78900,'company':'Oduk Tech'}\n",
    "dict_message"
   ]
  },
  {
   "cell_type": "code",
   "execution_count": 60,
   "id": "f55c46ba",
   "metadata": {},
   "outputs": [
    {
     "data": {
      "text/plain": [
       "'Customer Billy Adwar has a balance of 78900.000000 in Oduk Tech'"
      ]
     },
     "execution_count": 60,
     "metadata": {},
     "output_type": "execute_result"
    }
   ],
   "source": [
    "\"Customer %(name)s has a balance of %(party balance)f in %(company)s\" % dict_message"
   ]
  },
  {
   "cell_type": "markdown",
   "id": "820275fe",
   "metadata": {},
   "source": [
    "###### Adding keys, attributes, offsets"
   ]
  },
  {
   "cell_type": "code",
   "execution_count": 123,
   "id": "ffe65f6e",
   "metadata": {},
   "outputs": [
    {
     "data": {
      "text/plain": [
       "'My laptop runs linux'"
      ]
     },
     "execution_count": 123,
     "metadata": {},
     "output_type": "execute_result"
    }
   ],
   "source": [
    "import sys\n",
    "'My {1[spam]} runs {0.platform}'.format(sys,{'spam':'laptop'})"
   ]
  },
  {
   "cell_type": "code",
   "execution_count": 63,
   "id": "7149d9f5",
   "metadata": {},
   "outputs": [
    {
     "data": {
      "text/plain": [
       "'linux'"
      ]
     },
     "execution_count": 63,
     "metadata": {},
     "output_type": "execute_result"
    }
   ],
   "source": [
    "sys.platform"
   ]
  },
  {
   "cell_type": "code",
   "execution_count": 68,
   "id": "005e1e88",
   "metadata": {},
   "outputs": [
    {
     "data": {
      "text/plain": [
       "['s', 'p', 'a', 'm']"
      ]
     },
     "execution_count": 68,
     "metadata": {},
     "output_type": "execute_result"
    }
   ],
   "source": [
    "list_str"
   ]
  },
  {
   "cell_type": "code",
   "execution_count": 69,
   "id": "95907cbb",
   "metadata": {},
   "outputs": [
    {
     "data": {
      "text/plain": [
       "'first=s, third = a'"
      ]
     },
     "execution_count": 69,
     "metadata": {},
     "output_type": "execute_result"
    }
   ],
   "source": [
    "'first={0[0]}, third = {0[2]}'.format(list_str)"
   ]
  },
  {
   "cell_type": "markdown",
   "id": "2713265a",
   "metadata": {},
   "source": [
    "##### Adding specific formatting"
   ]
  },
  {
   "cell_type": "code",
   "execution_count": 70,
   "id": "ff848cd0",
   "metadata": {},
   "outputs": [
    {
     "data": {
      "text/plain": [
       "'spam       =   123.9723'"
      ]
     },
     "execution_count": 70,
     "metadata": {},
     "output_type": "execute_result"
    }
   ],
   "source": [
    "'{0:10} = {1:10}'.format('spam',123.9723)"
   ]
  },
  {
   "cell_type": "code",
   "execution_count": 77,
   "id": "3d71ec5c",
   "metadata": {},
   "outputs": [
    {
     "data": {
      "text/plain": [
       "'Amount paid is Ksh 90000'"
      ]
     },
     "execution_count": 77,
     "metadata": {},
     "output_type": "execute_result"
    }
   ],
   "source": [
    "'Amount paid is {0:2} {1:2}'.format('Ksh',90000)"
   ]
  },
  {
   "cell_type": "code",
   "execution_count": 84,
   "id": "5de091b5",
   "metadata": {},
   "outputs": [
    {
     "data": {
      "text/plain": [
       "'Amount paid is Ksh        =      90000'"
      ]
     },
     "execution_count": 84,
     "metadata": {},
     "output_type": "execute_result"
    }
   ],
   "source": [
    "'Amount paid is {0:<10} = {1:10}'.format('Ksh',90000)"
   ]
  },
  {
   "cell_type": "code",
   "execution_count": 80,
   "id": "c7464c64",
   "metadata": {},
   "outputs": [
    {
     "data": {
      "text/plain": [
       "'     linux = laptop    '"
      ]
     },
     "execution_count": 80,
     "metadata": {},
     "output_type": "execute_result"
    }
   ],
   "source": [
    "'{0.platform: >10} = {1[item]:<10}'.format(sys,dict(item='laptop'))"
   ]
  },
  {
   "cell_type": "markdown",
   "id": "c415257e",
   "metadata": {},
   "source": [
    "#### Sets"
   ]
  },
  {
   "cell_type": "markdown",
   "id": "3d5445c0",
   "metadata": {},
   "source": [
    "Every element in a set has to be unique"
   ]
  },
  {
   "cell_type": "code",
   "execution_count": 89,
   "id": "14286ac7",
   "metadata": {},
   "outputs": [
    {
     "data": {
      "text/plain": [
       "{78, 87, 90}"
      ]
     },
     "execution_count": 89,
     "metadata": {},
     "output_type": "execute_result"
    }
   ],
   "source": [
    "my_set = {78,90,87}\n",
    "my_set"
   ]
  },
  {
   "cell_type": "code",
   "execution_count": 90,
   "id": "dd78c552",
   "metadata": {},
   "outputs": [
    {
     "data": {
      "text/plain": [
       "True"
      ]
     },
     "execution_count": 90,
     "metadata": {},
     "output_type": "execute_result"
    }
   ],
   "source": [
    "isinstance(my_set, set)"
   ]
  },
  {
   "cell_type": "markdown",
   "id": "6d126f4c",
   "metadata": {},
   "source": [
    "Tuples"
   ]
  },
  {
   "cell_type": "code",
   "execution_count": 92,
   "id": "f06ac1dc",
   "metadata": {},
   "outputs": [],
   "source": [
    "x = (78, 67, 98)"
   ]
  },
  {
   "cell_type": "code",
   "execution_count": 94,
   "id": "bc365175",
   "metadata": {},
   "outputs": [
    {
     "data": {
      "text/plain": [
       "3"
      ]
     },
     "execution_count": 94,
     "metadata": {},
     "output_type": "execute_result"
    }
   ],
   "source": [
    "len(x)"
   ]
  },
  {
   "cell_type": "code",
   "execution_count": 97,
   "id": "dbf5d0c2",
   "metadata": {},
   "outputs": [
    {
     "data": {
      "text/plain": [
       "1"
      ]
     },
     "execution_count": 97,
     "metadata": {},
     "output_type": "execute_result"
    }
   ],
   "source": [
    "x.count(78)"
   ]
  },
  {
   "cell_type": "markdown",
   "id": "b3aa3aa4",
   "metadata": {},
   "source": [
    "Tuples are immutable, they can be used to store objects that do not change much such as latitude and longitude values"
   ]
  },
  {
   "cell_type": "code",
   "execution_count": null,
   "id": "2c555639",
   "metadata": {},
   "outputs": [],
   "source": []
  },
  {
   "cell_type": "code",
   "execution_count": 100,
   "id": "49668ce9",
   "metadata": {},
   "outputs": [],
   "source": [
    "my_set.add(90)"
   ]
  },
  {
   "cell_type": "code",
   "execution_count": 101,
   "id": "08564870",
   "metadata": {},
   "outputs": [
    {
     "data": {
      "text/plain": [
       "{78, 87, 90}"
      ]
     },
     "execution_count": 101,
     "metadata": {},
     "output_type": "execute_result"
    }
   ],
   "source": [
    "my_set"
   ]
  },
  {
   "cell_type": "code",
   "execution_count": 108,
   "id": "005b15f8",
   "metadata": {},
   "outputs": [],
   "source": [
    "xa = []\n",
    "for x in range(0,100):\n",
    "    if x % 2==0: xa.append(x)"
   ]
  },
  {
   "cell_type": "markdown",
   "id": "f839adbb",
   "metadata": {},
   "source": [
    "##### Membership operators"
   ]
  },
  {
   "cell_type": "code",
   "execution_count": 109,
   "id": "27318a7b",
   "metadata": {},
   "outputs": [
    {
     "data": {
      "text/plain": [
       "'The knights who say Ni!\\n'"
      ]
     },
     "execution_count": 109,
     "metadata": {},
     "output_type": "execute_result"
    }
   ],
   "source": [
    "the_line"
   ]
  },
  {
   "cell_type": "code",
   "execution_count": 111,
   "id": "ecb1149f",
   "metadata": {},
   "outputs": [
    {
     "data": {
      "text/plain": [
       "True"
      ]
     },
     "execution_count": 111,
     "metadata": {},
     "output_type": "execute_result"
    }
   ],
   "source": [
    "'kni' in the_line"
   ]
  },
  {
   "cell_type": "code",
   "execution_count": 112,
   "id": "285fdf02",
   "metadata": {},
   "outputs": [
    {
     "data": {
      "text/plain": [
       "True"
      ]
     },
     "execution_count": 112,
     "metadata": {},
     "output_type": "execute_result"
    }
   ],
   "source": [
    "'cat' in 'catography list'"
   ]
  },
  {
   "cell_type": "code",
   "execution_count": 113,
   "id": "7ef1c527",
   "metadata": {},
   "outputs": [
    {
     "data": {
      "text/plain": [
       "True"
      ]
     },
     "execution_count": 113,
     "metadata": {},
     "output_type": "execute_result"
    }
   ],
   "source": [
    "67 not in [90,897]"
   ]
  },
  {
   "cell_type": "code",
   "execution_count": 114,
   "id": "b0c73e00",
   "metadata": {},
   "outputs": [
    {
     "data": {
      "text/plain": [
       "False"
      ]
     },
     "execution_count": 114,
     "metadata": {},
     "output_type": "execute_result"
    }
   ],
   "source": [
    "67 not in (98,78,67)"
   ]
  },
  {
   "cell_type": "code",
   "execution_count": 115,
   "id": "8a7cff4d",
   "metadata": {},
   "outputs": [],
   "source": [
    "k = \"a\\nb\\x1f\\000d\""
   ]
  },
  {
   "cell_type": "code",
   "execution_count": 116,
   "id": "a0385a52",
   "metadata": {},
   "outputs": [
    {
     "data": {
      "text/plain": [
       "6"
      ]
     },
     "execution_count": 116,
     "metadata": {},
     "output_type": "execute_result"
    }
   ],
   "source": [
    "len(k)"
   ]
  },
  {
   "cell_type": "code",
   "execution_count": 118,
   "id": "32de54d7",
   "metadata": {},
   "outputs": [
    {
     "data": {
      "text/plain": [
       "107"
      ]
     },
     "execution_count": 118,
     "metadata": {},
     "output_type": "execute_result"
    }
   ],
   "source": [
    "ord('k')"
   ]
  },
  {
   "cell_type": "markdown",
   "id": "701d7310",
   "metadata": {},
   "source": [
    "### Lists"
   ]
  },
  {
   "cell_type": "markdown",
   "id": "b7c05ed1",
   "metadata": {},
   "source": [
    "> Lists are mutable sequences in Python: they can be changed in place, and are ordered sequences"
   ]
  },
  {
   "cell_type": "code",
   "execution_count": 119,
   "id": "dc1a1e16",
   "metadata": {},
   "outputs": [
    {
     "data": {
      "text/plain": [
       "False"
      ]
     },
     "execution_count": 119,
     "metadata": {},
     "output_type": "execute_result"
    }
   ],
   "source": [
    "3 in [[3,5],[67,45],90,7]"
   ]
  },
  {
   "cell_type": "code",
   "execution_count": 122,
   "id": "5fbf4c75",
   "metadata": {},
   "outputs": [
    {
     "name": "stdout",
     "output_type": "stream",
     "text": [
      "[3, 5]\n",
      "[67, 45]\n"
     ]
    }
   ],
   "source": [
    "for x in [[3,5],[67,45],90,7]:\n",
    "    if isinstance(x,list):\n",
    "        print(x)"
   ]
  },
  {
   "cell_type": "markdown",
   "id": "0f40099c",
   "metadata": {},
   "source": [
    "List compressions are a way to build new lists by applying an expression to each item in a sequence"
   ]
  },
  {
   "cell_type": "code",
   "execution_count": 125,
   "id": "0b941906",
   "metadata": {},
   "outputs": [
    {
     "data": {
      "text/plain": [
       "['SSSS', 'PPPP', 'AAAA', 'MMMM']"
      ]
     },
     "execution_count": 125,
     "metadata": {},
     "output_type": "execute_result"
    }
   ],
   "source": [
    "res = [c*4 for c in 'SPAM']\n",
    "res"
   ]
  },
  {
   "cell_type": "markdown",
   "id": "14369a45",
   "metadata": {},
   "source": [
    "> The map function works the same but it applies a function to items in a sequence and collects all the results in a new list."
   ]
  },
  {
   "cell_type": "code",
   "execution_count": 127,
   "id": "07e56a4b",
   "metadata": {},
   "outputs": [
    {
     "data": {
      "text/plain": [
       "[1, 2, 0, 1, 2, 3]"
      ]
     },
     "execution_count": 127,
     "metadata": {},
     "output_type": "execute_result"
    }
   ],
   "source": [
    "list(map(abs,[-1,-2,0,1,2,3]))"
   ]
  },
  {
   "cell_type": "code",
   "execution_count": 130,
   "id": "35c55785",
   "metadata": {},
   "outputs": [],
   "source": [
    "def get_sqr(x):\n",
    "    return x*x\n",
    "\n",
    "def get_pow(x,num):\n",
    "    return x **num"
   ]
  },
  {
   "cell_type": "code",
   "execution_count": 135,
   "id": "13f84b40",
   "metadata": {},
   "outputs": [
    {
     "data": {
      "text/plain": [
       "[89, [6534, 'SPAM'], 'TREE']"
      ]
     },
     "execution_count": 135,
     "metadata": {},
     "output_type": "execute_result"
    }
   ],
   "source": [
    "L = [89,[6534,'SPAM'],'TREE']\n",
    "L"
   ]
  },
  {
   "cell_type": "code",
   "execution_count": 144,
   "id": "d2c75107",
   "metadata": {},
   "outputs": [
    {
     "data": {
      "text/plain": [
       "[89, [6534, 'SPAM'], 'TREE']"
      ]
     },
     "execution_count": 144,
     "metadata": {},
     "output_type": "execute_result"
    }
   ],
   "source": [
    "L[0:3]"
   ]
  },
  {
   "cell_type": "markdown",
   "id": "af69f6be",
   "metadata": {},
   "source": [
    "> Both index and slice operations are in-place changes: they modify the list directly rather than\n",
    "generating a new list object for the result"
   ]
  },
  {
   "cell_type": "code",
   "execution_count": 147,
   "id": "4684db70",
   "metadata": {},
   "outputs": [],
   "source": [
    "L[0:1]= [89,90,78] ## lists can be changes in place by slicing i.e deletion and insertion at the same time"
   ]
  },
  {
   "cell_type": "code",
   "execution_count": 148,
   "id": "266eb266",
   "metadata": {},
   "outputs": [
    {
     "data": {
      "text/plain": [
       "[89, 90, 78, 90, 78, [6534, 'SPAM'], 'TREE']"
      ]
     },
     "execution_count": 148,
     "metadata": {},
     "output_type": "execute_result"
    }
   ],
   "source": [
    "L "
   ]
  },
  {
   "cell_type": "code",
   "execution_count": 161,
   "id": "ac0bdc10",
   "metadata": {},
   "outputs": [
    {
     "data": {
      "text/plain": [
       "[[6534, 'SPAM']]"
      ]
     },
     "execution_count": 161,
     "metadata": {},
     "output_type": "execute_result"
    }
   ],
   "source": [
    "L[-2:-1]"
   ]
  },
  {
   "cell_type": "code",
   "execution_count": 167,
   "id": "427eb810",
   "metadata": {},
   "outputs": [],
   "source": [
    "K = [12,45,1,9,23,823]\n",
    "K.sort()"
   ]
  },
  {
   "cell_type": "code",
   "execution_count": 168,
   "id": "b69d72d2",
   "metadata": {},
   "outputs": [
    {
     "data": {
      "text/plain": [
       "[1, 9, 12, 23, 45, 823]"
      ]
     },
     "execution_count": 168,
     "metadata": {},
     "output_type": "execute_result"
    }
   ],
   "source": [
    "K"
   ]
  },
  {
   "cell_type": "code",
   "execution_count": 169,
   "id": "25961589",
   "metadata": {},
   "outputs": [],
   "source": [
    "LS = ['abc','ABD','aBe']"
   ]
  },
  {
   "cell_type": "code",
   "execution_count": 171,
   "id": "7cadb2e0",
   "metadata": {},
   "outputs": [
    {
     "data": {
      "text/plain": [
       "['abe', 'abd', 'abc']"
      ]
     },
     "execution_count": 171,
     "metadata": {},
     "output_type": "execute_result"
    }
   ],
   "source": [
    "sorted([x.lower() for x in LS],reverse=True)"
   ]
  },
  {
   "cell_type": "code",
   "execution_count": 172,
   "id": "79e3fb73",
   "metadata": {},
   "outputs": [],
   "source": [
    "LS.extend([90,78,'abf'])"
   ]
  },
  {
   "cell_type": "code",
   "execution_count": 173,
   "id": "c19672c6",
   "metadata": {},
   "outputs": [
    {
     "data": {
      "text/plain": [
       "['abc', 'ABD', 'aBe', 90, 78, 'abf']"
      ]
     },
     "execution_count": 173,
     "metadata": {},
     "output_type": "execute_result"
    }
   ],
   "source": [
    "LS"
   ]
  },
  {
   "cell_type": "code",
   "execution_count": 175,
   "id": "d6ebad23",
   "metadata": {},
   "outputs": [
    {
     "data": {
      "text/plain": [
       "'abf'"
      ]
     },
     "execution_count": 175,
     "metadata": {},
     "output_type": "execute_result"
    }
   ],
   "source": [
    "LS.pop(-1)"
   ]
  },
  {
   "cell_type": "code",
   "execution_count": 176,
   "id": "8647ea55",
   "metadata": {},
   "outputs": [
    {
     "data": {
      "text/plain": [
       "['abc', 'ABD', 'aBe', 90, 78]"
      ]
     },
     "execution_count": 176,
     "metadata": {},
     "output_type": "execute_result"
    }
   ],
   "source": [
    "LS"
   ]
  },
  {
   "cell_type": "code",
   "execution_count": 177,
   "id": "70904f81",
   "metadata": {},
   "outputs": [],
   "source": [
    "LS.reverse()"
   ]
  },
  {
   "cell_type": "code",
   "execution_count": 178,
   "id": "9afe42e5",
   "metadata": {},
   "outputs": [
    {
     "data": {
      "text/plain": [
       "[78, 90, 'aBe', 'ABD', 'abc']"
      ]
     },
     "execution_count": 178,
     "metadata": {},
     "output_type": "execute_result"
    }
   ],
   "source": [
    "LS"
   ]
  },
  {
   "cell_type": "code",
   "execution_count": 179,
   "id": "d8888a09",
   "metadata": {},
   "outputs": [],
   "source": [
    "L.insert(1, 'good')"
   ]
  },
  {
   "cell_type": "code",
   "execution_count": 180,
   "id": "4fbd5ef2",
   "metadata": {},
   "outputs": [
    {
     "data": {
      "text/plain": [
       "[78, 'good', 78, 89, 90, 90, [6534, 'SPAM'], 'TREE']"
      ]
     },
     "execution_count": 180,
     "metadata": {},
     "output_type": "execute_result"
    }
   ],
   "source": [
    "L"
   ]
  },
  {
   "cell_type": "code",
   "execution_count": 181,
   "id": "4ba946ad",
   "metadata": {},
   "outputs": [
    {
     "data": {
      "text/plain": [
       "'TREE'"
      ]
     },
     "execution_count": 181,
     "metadata": {},
     "output_type": "execute_result"
    }
   ],
   "source": [
    "L.pop()"
   ]
  },
  {
   "cell_type": "code",
   "execution_count": 182,
   "id": "7b64ab9d",
   "metadata": {},
   "outputs": [
    {
     "data": {
      "text/plain": [
       "[78, 'good', 78, 89, 90, 90, [6534, 'SPAM']]"
      ]
     },
     "execution_count": 182,
     "metadata": {},
     "output_type": "execute_result"
    }
   ],
   "source": [
    "L"
   ]
  },
  {
   "cell_type": "code",
   "execution_count": 183,
   "id": "37e2dbf6",
   "metadata": {},
   "outputs": [
    {
     "data": {
      "text/plain": [
       "[6534, 'SPAM']"
      ]
     },
     "execution_count": 183,
     "metadata": {},
     "output_type": "execute_result"
    }
   ],
   "source": [
    "L.pop(-1)"
   ]
  },
  {
   "cell_type": "code",
   "execution_count": 184,
   "id": "f27ef1cc",
   "metadata": {},
   "outputs": [
    {
     "data": {
      "text/plain": [
       "[78, 'good', 78, 89, 90, 90]"
      ]
     },
     "execution_count": 184,
     "metadata": {},
     "output_type": "execute_result"
    }
   ],
   "source": [
    "L"
   ]
  },
  {
   "cell_type": "markdown",
   "id": "b6f28277",
   "metadata": {},
   "source": [
    "Because they are mutable, we can alsu use the del statement"
   ]
  },
  {
   "cell_type": "code",
   "execution_count": 186,
   "id": "f3b87fec",
   "metadata": {},
   "outputs": [],
   "source": [
    "del L[0]"
   ]
  },
  {
   "cell_type": "code",
   "execution_count": 187,
   "id": "758e8a83",
   "metadata": {},
   "outputs": [
    {
     "data": {
      "text/plain": [
       "['good', 78, 89, 90, 90]"
      ]
     },
     "execution_count": 187,
     "metadata": {},
     "output_type": "execute_result"
    }
   ],
   "source": [
    "L"
   ]
  },
  {
   "cell_type": "markdown",
   "id": "43f17902",
   "metadata": {},
   "source": [
    "### Dictionaries"
   ]
  },
  {
   "cell_type": "markdown",
   "id": "1be8a135",
   "metadata": {},
   "source": [
    "Sometimes called associative arrays or hashes, they are unordered collections of arbitrary objects: they are mutable mappings\n",
    "but do not support the sequence operations supported by lists and objects"
   ]
  },
  {
   "cell_type": "code",
   "execution_count": 188,
   "id": "7fe6e25d",
   "metadata": {},
   "outputs": [
    {
     "data": {
      "text/plain": [
       "{'spam': [67, -0.6232], 'ham': (90, 90), 'eggs': 90}"
      ]
     },
     "execution_count": 188,
     "metadata": {},
     "output_type": "execute_result"
    }
   ],
   "source": [
    "D = {'spam':[67,-0.6232], 'ham':(90,90),'eggs':90}\n",
    "D"
   ]
  },
  {
   "cell_type": "code",
   "execution_count": 190,
   "id": "186bf763",
   "metadata": {},
   "outputs": [
    {
     "data": {
      "text/plain": [
       "[('spam', [67, -0.6232]), ('ham', (90, 90)), ('eggs', 90)]"
      ]
     },
     "execution_count": 190,
     "metadata": {},
     "output_type": "execute_result"
    }
   ],
   "source": [
    "list(D.items())"
   ]
  },
  {
   "cell_type": "code",
   "execution_count": 192,
   "id": "18cd439c",
   "metadata": {},
   "outputs": [
    {
     "data": {
      "text/plain": [
       "['spam', 'ham', 'eggs']"
      ]
     },
     "execution_count": 192,
     "metadata": {},
     "output_type": "execute_result"
    }
   ],
   "source": [
    "list(D.keys())"
   ]
  },
  {
   "cell_type": "code",
   "execution_count": 194,
   "id": "897c0686",
   "metadata": {},
   "outputs": [
    {
     "data": {
      "text/plain": [
       "[[67, -0.6232], (90, 90), 90]"
      ]
     },
     "execution_count": 194,
     "metadata": {},
     "output_type": "execute_result"
    }
   ],
   "source": [
    "list(D.values())"
   ]
  },
  {
   "cell_type": "code",
   "execution_count": 195,
   "id": "9f57de6e",
   "metadata": {},
   "outputs": [
    {
     "data": {
      "text/plain": [
       "[67, -0.6232]"
      ]
     },
     "execution_count": 195,
     "metadata": {},
     "output_type": "execute_result"
    }
   ],
   "source": [
    "D.get('spam')"
   ]
  },
  {
   "cell_type": "code",
   "execution_count": 196,
   "id": "d48eb970",
   "metadata": {},
   "outputs": [
    {
     "data": {
      "text/plain": [
       "{'res': 30, 'pixels': [89, [90, 76]]}"
      ]
     },
     "execution_count": 196,
     "metadata": {},
     "output_type": "execute_result"
    }
   ],
   "source": [
    "D2 = {'res':30,'pixels':[89,[90,76]]}\n",
    "D2"
   ]
  },
  {
   "cell_type": "code",
   "execution_count": 197,
   "id": "b9c91492",
   "metadata": {},
   "outputs": [],
   "source": [
    "D.update(D2)"
   ]
  },
  {
   "cell_type": "code",
   "execution_count": 198,
   "id": "d16b7cb1",
   "metadata": {},
   "outputs": [
    {
     "data": {
      "text/plain": [
       "{'spam': [67, -0.6232],\n",
       " 'ham': (90, 90),\n",
       " 'eggs': 90,\n",
       " 'res': 30,\n",
       " 'pixels': [89, [90, 76]]}"
      ]
     },
     "execution_count": 198,
     "metadata": {},
     "output_type": "execute_result"
    }
   ],
   "source": [
    "D"
   ]
  },
  {
   "cell_type": "code",
   "execution_count": 199,
   "id": "94b31466",
   "metadata": {},
   "outputs": [
    {
     "data": {
      "text/plain": [
       "90"
      ]
     },
     "execution_count": 199,
     "metadata": {},
     "output_type": "execute_result"
    }
   ],
   "source": [
    "D.pop('eggs')"
   ]
  },
  {
   "cell_type": "code",
   "execution_count": 200,
   "id": "ba8e59a7",
   "metadata": {},
   "outputs": [
    {
     "data": {
      "text/plain": [
       "{'spam': [67, -0.6232], 'ham': (90, 90), 'res': 30, 'pixels': [89, [90, 76]]}"
      ]
     },
     "execution_count": 200,
     "metadata": {},
     "output_type": "execute_result"
    }
   ],
   "source": [
    "D"
   ]
  },
  {
   "cell_type": "code",
   "execution_count": null,
   "id": "b9456f36",
   "metadata": {},
   "outputs": [],
   "source": []
  },
  {
   "cell_type": "code",
   "execution_count": 203,
   "id": "c4059337",
   "metadata": {},
   "outputs": [],
   "source": [
    "table = {'Python':'Guido Van Rossum','Perl':'Larry Wall','Tcl':'John Ousterhout','linux':'Linus Torvalds'}"
   ]
  },
  {
   "cell_type": "code",
   "execution_count": 204,
   "id": "481441db",
   "metadata": {},
   "outputs": [
    {
     "data": {
      "text/plain": [
       "{'Python': 'Guido Van Rossum',\n",
       " 'Perl': 'Larry Wall',\n",
       " 'Tcl': 'John Ousterhout',\n",
       " 'linux': 'Linus Torvalds'}"
      ]
     },
     "execution_count": 204,
     "metadata": {},
     "output_type": "execute_result"
    }
   ],
   "source": [
    "table"
   ]
  },
  {
   "cell_type": "code",
   "execution_count": 206,
   "id": "a0eeb08a",
   "metadata": {},
   "outputs": [
    {
     "data": {
      "text/plain": [
       "'Guido Van Rossum'"
      ]
     },
     "execution_count": 206,
     "metadata": {},
     "output_type": "execute_result"
    }
   ],
   "source": [
    "creator = table['Python']\n",
    "creator"
   ]
  },
  {
   "cell_type": "code",
   "execution_count": 209,
   "id": "ee9c06a5",
   "metadata": {},
   "outputs": [
    {
     "name": "stdout",
     "output_type": "stream",
     "text": [
      "Python \t Guido Van Rossum\n",
      "Perl \t Larry Wall\n",
      "Tcl \t John Ousterhout\n",
      "linux \t Linus Torvalds\n"
     ]
    }
   ],
   "source": [
    "for lang in table: ## same as looping table.keys()\n",
    "    print(lang,'\\t',table[lang])"
   ]
  },
  {
   "cell_type": "code",
   "execution_count": 210,
   "id": "bcaffa62",
   "metadata": {},
   "outputs": [
    {
     "data": {
      "text/plain": [
       "{'name': 'mel', 'age': 45, 'courses': ['Math', 'Physics']}"
      ]
     },
     "execution_count": 210,
     "metadata": {},
     "output_type": "execute_result"
    }
   ],
   "source": [
    "## dictionaries can alco be constructed using the dict keyword\n",
    "D3 = dict(name='mel',age=45,courses=['Math','Physics'])\n",
    "D3"
   ]
  },
  {
   "cell_type": "code",
   "execution_count": 211,
   "id": "d163dbd1",
   "metadata": {},
   "outputs": [],
   "source": [
    "D3['address'] = '373-00100'"
   ]
  },
  {
   "cell_type": "code",
   "execution_count": 212,
   "id": "645698d8",
   "metadata": {},
   "outputs": [
    {
     "data": {
      "text/plain": [
       "{'name': 'mel',\n",
       " 'age': 45,\n",
       " 'courses': ['Math', 'Physics'],\n",
       " 'address': '373-00100'}"
      ]
     },
     "execution_count": 212,
     "metadata": {},
     "output_type": "execute_result"
    }
   ],
   "source": [
    "D3"
   ]
  },
  {
   "cell_type": "code",
   "execution_count": 213,
   "id": "17016b3d",
   "metadata": {},
   "outputs": [
    {
     "data": {
      "text/plain": [
       "{'name': 'mel', 'age': 45}"
      ]
     },
     "execution_count": 213,
     "metadata": {},
     "output_type": "execute_result"
    }
   ],
   "source": [
    "dict([('name','mel'),('age',45)])"
   ]
  },
  {
   "cell_type": "markdown",
   "id": "d513f919",
   "metadata": {},
   "source": [
    "###### Zip function"
   ]
  },
  {
   "cell_type": "code",
   "execution_count": 216,
   "id": "73cedbed",
   "metadata": {},
   "outputs": [],
   "source": [
    "get_id1 = [834167,90103]; get_id2 = [90809,73437]\n"
   ]
  },
  {
   "cell_type": "code",
   "execution_count": 218,
   "id": "c33ce61b",
   "metadata": {},
   "outputs": [],
   "source": [
    "j = list(zip(get_id1,get_id2))"
   ]
  },
  {
   "cell_type": "code",
   "execution_count": 220,
   "id": "fa1181eb",
   "metadata": {},
   "outputs": [
    {
     "name": "stdout",
     "output_type": "stream",
     "text": [
      "(834167, 90809)\n",
      "(90103, 73437)\n"
     ]
    }
   ],
   "source": [
    "for k in j:\n",
    "    print(k)"
   ]
  },
  {
   "cell_type": "markdown",
   "id": "844c4034",
   "metadata": {},
   "source": [
    "The same concept can be used to create a dictionary: "
   ]
  },
  {
   "cell_type": "code",
   "execution_count": 222,
   "id": "ffe0ac08",
   "metadata": {},
   "outputs": [
    {
     "data": {
      "text/plain": [
       "{'name': 'Billy Adwar',\n",
       " 'address': '272-20200',\n",
       " 'invoice': 'ACC-SINV-2023-0002',\n",
       " 'location': 'Nairobi'}"
      ]
     },
     "execution_count": 222,
     "metadata": {},
     "output_type": "execute_result"
    }
   ],
   "source": [
    "D4 = dict(zip(['name','address','invoice','location'],['Billy Adwar','272-20200','ACC-SINV-2023-0002','Nairobi']))\n",
    "D4"
   ]
  },
  {
   "cell_type": "markdown",
   "id": "1b1109c3",
   "metadata": {},
   "source": [
    "### Dictionary Comprehensions"
   ]
  },
  {
   "cell_type": "markdown",
   "id": "3d50f735",
   "metadata": {},
   "source": [
    "The zip function is a way to construct a dictionary from key and value lists in a single call. If you cannot\n",
    "predict the sets of keys and values in your code, you can always build them up as lists and zip them together:"
   ]
  },
  {
   "cell_type": "code",
   "execution_count": 223,
   "id": "9f8c3ecb",
   "metadata": {},
   "outputs": [
    {
     "data": {
      "text/plain": [
       "[('tree', 23), ('spam', 78), ('ham', [90, 89])]"
      ]
     },
     "execution_count": 223,
     "metadata": {},
     "output_type": "execute_result"
    }
   ],
   "source": [
    "list(zip(['tree','spam','ham'],[23,78,[90,89]]))"
   ]
  },
  {
   "cell_type": "code",
   "execution_count": 224,
   "id": "86452f3a",
   "metadata": {},
   "outputs": [
    {
     "data": {
      "text/plain": [
       "{'tree': 23, 'spam': 78, 'ham': [90, 89]}"
      ]
     },
     "execution_count": 224,
     "metadata": {},
     "output_type": "execute_result"
    }
   ],
   "source": [
    "D5 = dict(zip(['tree','spam','ham'],[23,78,[90,89]]))\n",
    "D5"
   ]
  },
  {
   "cell_type": "markdown",
   "id": "9e9358bc",
   "metadata": {},
   "source": [
    "The same can be built in Python using compressions"
   ]
  },
  {
   "cell_type": "code",
   "execution_count": 227,
   "id": "0eae13cb",
   "metadata": {},
   "outputs": [
    {
     "data": {
      "text/plain": [
       "{'a': 1, 'b': 2, 'c': 3}"
      ]
     },
     "execution_count": 227,
     "metadata": {},
     "output_type": "execute_result"
    }
   ],
   "source": [
    "D6 = {k: v for (k,v) in  zip(['a','b','c'],[1,2,3,4])}\n",
    "D6"
   ]
  },
  {
   "cell_type": "code",
   "execution_count": 228,
   "id": "0d1b2c90",
   "metadata": {},
   "outputs": [
    {
     "data": {
      "text/plain": [
       "{'S': 'SSSS', 'P': 'PPPP', 'A': 'AAAA', 'M': 'MMMM'}"
      ]
     },
     "execution_count": 228,
     "metadata": {},
     "output_type": "execute_result"
    }
   ],
   "source": [
    "D7 = {c: c*4 for c in 'SPAM'}\n",
    "D7"
   ]
  },
  {
   "cell_type": "code",
   "execution_count": null,
   "id": "24588421",
   "metadata": {},
   "outputs": [],
   "source": []
  },
  {
   "cell_type": "code",
   "execution_count": null,
   "id": "17f9b61d",
   "metadata": {},
   "outputs": [],
   "source": []
  },
  {
   "cell_type": "code",
   "execution_count": null,
   "id": "025a1dfd",
   "metadata": {},
   "outputs": [],
   "source": []
  },
  {
   "cell_type": "code",
   "execution_count": null,
   "id": "61fbca7f",
   "metadata": {},
   "outputs": [],
   "source": []
  },
  {
   "cell_type": "code",
   "execution_count": null,
   "id": "1bf6f111",
   "metadata": {},
   "outputs": [],
   "source": []
  },
  {
   "cell_type": "code",
   "execution_count": null,
   "id": "4380a212",
   "metadata": {},
   "outputs": [],
   "source": []
  },
  {
   "cell_type": "code",
   "execution_count": null,
   "id": "80c00870",
   "metadata": {},
   "outputs": [],
   "source": []
  },
  {
   "cell_type": "code",
   "execution_count": null,
   "id": "6fc12c11",
   "metadata": {},
   "outputs": [],
   "source": []
  },
  {
   "cell_type": "code",
   "execution_count": null,
   "id": "a607ff58",
   "metadata": {},
   "outputs": [],
   "source": []
  },
  {
   "cell_type": "code",
   "execution_count": null,
   "id": "976d5d18",
   "metadata": {},
   "outputs": [],
   "source": []
  },
  {
   "cell_type": "code",
   "execution_count": null,
   "id": "1dcf280f",
   "metadata": {},
   "outputs": [],
   "source": []
  },
  {
   "cell_type": "code",
   "execution_count": null,
   "id": "a2e68b17",
   "metadata": {},
   "outputs": [],
   "source": []
  },
  {
   "cell_type": "code",
   "execution_count": null,
   "id": "ba24b456",
   "metadata": {},
   "outputs": [],
   "source": []
  },
  {
   "cell_type": "code",
   "execution_count": null,
   "id": "35ab00c4",
   "metadata": {},
   "outputs": [],
   "source": []
  },
  {
   "cell_type": "code",
   "execution_count": null,
   "id": "464e745d",
   "metadata": {},
   "outputs": [],
   "source": []
  },
  {
   "cell_type": "code",
   "execution_count": null,
   "id": "f21ea9a3",
   "metadata": {},
   "outputs": [],
   "source": []
  },
  {
   "cell_type": "code",
   "execution_count": null,
   "id": "20c965b3",
   "metadata": {},
   "outputs": [],
   "source": []
  },
  {
   "cell_type": "code",
   "execution_count": null,
   "id": "9cb7ea71",
   "metadata": {},
   "outputs": [],
   "source": []
  },
  {
   "cell_type": "code",
   "execution_count": null,
   "id": "66c8f2b0",
   "metadata": {},
   "outputs": [],
   "source": []
  },
  {
   "cell_type": "code",
   "execution_count": null,
   "id": "f335951e",
   "metadata": {},
   "outputs": [],
   "source": []
  },
  {
   "cell_type": "code",
   "execution_count": null,
   "id": "dbbfa238",
   "metadata": {},
   "outputs": [],
   "source": []
  }
 ],
 "metadata": {
  "kernelspec": {
   "display_name": "Python 3 (ipykernel)",
   "language": "python",
   "name": "python3"
  },
  "language_info": {
   "codemirror_mode": {
    "name": "ipython",
    "version": 3
   },
   "file_extension": ".py",
   "mimetype": "text/x-python",
   "name": "python",
   "nbconvert_exporter": "python",
   "pygments_lexer": "ipython3",
   "version": "3.10.9"
  }
 },
 "nbformat": 4,
 "nbformat_minor": 5
}
